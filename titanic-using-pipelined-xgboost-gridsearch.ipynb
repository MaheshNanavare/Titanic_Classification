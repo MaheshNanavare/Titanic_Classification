{
 "cells": [
  {
   "cell_type": "markdown",
   "id": "f40544c0",
   "metadata": {
    "papermill": {
     "duration": 0.013511,
     "end_time": "2022-10-06T16:04:15.997523",
     "exception": false,
     "start_time": "2022-10-06T16:04:15.984012",
     "status": "completed"
    },
    "tags": []
   },
   "source": [
    "# **Titanic - Machine Learning from Disaster**\n",
    "Used **pipelines** to improve the efficiency of machine learning code."
   ]
  },
  {
   "cell_type": "markdown",
   "id": "df73e349",
   "metadata": {
    "papermill": {
     "duration": 0.010165,
     "end_time": "2022-10-06T16:04:16.019937",
     "exception": false,
     "start_time": "2022-10-06T16:04:16.009772",
     "status": "completed"
    },
    "tags": []
   },
   "source": [
    "# 1) Create X and Y dataframes"
   ]
  },
  {
   "cell_type": "markdown",
   "id": "99a36542",
   "metadata": {
    "papermill": {
     "duration": 0.012623,
     "end_time": "2022-10-06T16:04:16.043912",
     "exception": false,
     "start_time": "2022-10-06T16:04:16.031289",
     "status": "completed"
    },
    "tags": []
   },
   "source": [
    "## Import Data Analytics libraries"
   ]
  },
  {
   "cell_type": "code",
   "execution_count": 1,
   "id": "d931286c",
   "metadata": {
    "execution": {
     "iopub.execute_input": "2022-10-06T16:04:16.069921Z",
     "iopub.status.busy": "2022-10-06T16:04:16.069380Z",
     "iopub.status.idle": "2022-10-06T16:04:17.246547Z",
     "shell.execute_reply": "2022-10-06T16:04:17.245217Z"
    },
    "papermill": {
     "duration": 1.19445,
     "end_time": "2022-10-06T16:04:17.250468",
     "exception": false,
     "start_time": "2022-10-06T16:04:16.056018",
     "status": "completed"
    },
    "tags": []
   },
   "outputs": [],
   "source": [
    "import numpy as np\n",
    "import pandas as pd\n",
    "import matplotlib.pyplot as plt\n",
    "import seaborn as sns"
   ]
  },
  {
   "cell_type": "markdown",
   "id": "6f994dca",
   "metadata": {
    "papermill": {
     "duration": 0.011181,
     "end_time": "2022-10-06T16:04:17.273164",
     "exception": false,
     "start_time": "2022-10-06T16:04:17.261983",
     "status": "completed"
    },
    "tags": []
   },
   "source": [
    "## Import Machine Learning Libraries"
   ]
  },
  {
   "cell_type": "code",
   "execution_count": 2,
   "id": "20a92811",
   "metadata": {
    "execution": {
     "iopub.execute_input": "2022-10-06T16:04:17.298736Z",
     "iopub.status.busy": "2022-10-06T16:04:17.298276Z",
     "iopub.status.idle": "2022-10-06T16:04:17.790224Z",
     "shell.execute_reply": "2022-10-06T16:04:17.788945Z"
    },
    "papermill": {
     "duration": 0.50842,
     "end_time": "2022-10-06T16:04:17.792963",
     "exception": false,
     "start_time": "2022-10-06T16:04:17.284543",
     "status": "completed"
    },
    "tags": []
   },
   "outputs": [],
   "source": [
    "from sklearn.pipeline import Pipeline\n",
    "\n",
    "# To perform operations on columns:\n",
    "from sklearn.compose import ColumnTransformer\n",
    "from sklearn.impute import SimpleImputer\n",
    "from sklearn.preprocessing import OneHotEncoder\n",
    "\n",
    "# ML algorithms:\n",
    "from xgboost import XGBClassifier\n",
    "\n",
    "# To evaluate performance model:\n",
    "from sklearn.model_selection import train_test_split, GridSearchCV, ParameterGrid, cross_val_score\n",
    "from sklearn.metrics import mean_absolute_error, confusion_matrix, accuracy_score"
   ]
  },
  {
   "cell_type": "markdown",
   "id": "fd9b63ca",
   "metadata": {
    "papermill": {
     "duration": 0.010254,
     "end_time": "2022-10-06T16:04:17.814452",
     "exception": false,
     "start_time": "2022-10-06T16:04:17.804198",
     "status": "completed"
    },
    "tags": []
   },
   "source": [
    "## Get file paths\n",
    "Running this will list all files under the input directory"
   ]
  },
  {
   "cell_type": "code",
   "execution_count": 3,
   "id": "0bbc32f5",
   "metadata": {
    "_kg_hide-output": true,
    "execution": {
     "iopub.execute_input": "2022-10-06T16:04:17.840016Z",
     "iopub.status.busy": "2022-10-06T16:04:17.839616Z",
     "iopub.status.idle": "2022-10-06T16:04:17.847562Z",
     "shell.execute_reply": "2022-10-06T16:04:17.846076Z"
    },
    "papermill": {
     "duration": 0.025171,
     "end_time": "2022-10-06T16:04:17.851574",
     "exception": false,
     "start_time": "2022-10-06T16:04:17.826403",
     "status": "completed"
    },
    "tags": []
   },
   "outputs": [
    {
     "name": "stdout",
     "output_type": "stream",
     "text": [
      "/kaggle/input/titanic/train.csv\n",
      "/kaggle/input/titanic/test.csv\n",
      "/kaggle/input/titanic/gender_submission.csv\n"
     ]
    }
   ],
   "source": [
    "import os\n",
    "for dirname, _, filenames in os.walk('/kaggle/input'):\n",
    "    for filename in filenames:\n",
    "        print(os.path.join(dirname, filename))"
   ]
  },
  {
   "cell_type": "markdown",
   "id": "3c634064",
   "metadata": {
    "papermill": {
     "duration": 0.01105,
     "end_time": "2022-10-06T16:04:17.876154",
     "exception": false,
     "start_time": "2022-10-06T16:04:17.865104",
     "status": "completed"
    },
    "tags": []
   },
   "source": [
    "## Read the data"
   ]
  },
  {
   "cell_type": "code",
   "execution_count": 4,
   "id": "9b544e4f",
   "metadata": {
    "execution": {
     "iopub.execute_input": "2022-10-06T16:04:17.901067Z",
     "iopub.status.busy": "2022-10-06T16:04:17.899554Z",
     "iopub.status.idle": "2022-10-06T16:04:17.941785Z",
     "shell.execute_reply": "2022-10-06T16:04:17.940829Z"
    },
    "papermill": {
     "duration": 0.05754,
     "end_time": "2022-10-06T16:04:17.944618",
     "exception": false,
     "start_time": "2022-10-06T16:04:17.887078",
     "status": "completed"
    },
    "tags": []
   },
   "outputs": [],
   "source": [
    "X_y = pd.read_csv('/kaggle/input/titanic/train.csv', index_col='PassengerId')\n",
    "X_test = pd.read_csv('/kaggle/input/titanic/test.csv', index_col='PassengerId')"
   ]
  },
  {
   "cell_type": "markdown",
   "id": "a9f7e192",
   "metadata": {
    "papermill": {
     "duration": 0.011507,
     "end_time": "2022-10-06T16:04:17.967699",
     "exception": false,
     "start_time": "2022-10-06T16:04:17.956192",
     "status": "completed"
    },
    "tags": []
   },
   "source": [
    "##  Separate target from predictors"
   ]
  },
  {
   "cell_type": "code",
   "execution_count": 5,
   "id": "7537b482",
   "metadata": {
    "execution": {
     "iopub.execute_input": "2022-10-06T16:04:17.993396Z",
     "iopub.status.busy": "2022-10-06T16:04:17.992661Z",
     "iopub.status.idle": "2022-10-06T16:04:18.008241Z",
     "shell.execute_reply": "2022-10-06T16:04:18.006667Z"
    },
    "papermill": {
     "duration": 0.033177,
     "end_time": "2022-10-06T16:04:18.011802",
     "exception": false,
     "start_time": "2022-10-06T16:04:17.978625",
     "status": "completed"
    },
    "tags": []
   },
   "outputs": [],
   "source": [
    "# First remove rows with missing target\n",
    "X_y.dropna(axis=0, subset=['Survived'], inplace=True)\n",
    "\n",
    "y = X_y.Survived\n",
    "X = X_y.drop(['Survived'], axis=1)"
   ]
  },
  {
   "cell_type": "markdown",
   "id": "eeb8cd88",
   "metadata": {
    "papermill": {
     "duration": 0.011443,
     "end_time": "2022-10-06T16:04:18.035309",
     "exception": false,
     "start_time": "2022-10-06T16:04:18.023866",
     "status": "completed"
    },
    "tags": []
   },
   "source": [
    "# 2) Get summary info of X and y "
   ]
  },
  {
   "cell_type": "code",
   "execution_count": 6,
   "id": "b17f36e8",
   "metadata": {
    "execution": {
     "iopub.execute_input": "2022-10-06T16:04:18.062011Z",
     "iopub.status.busy": "2022-10-06T16:04:18.061232Z",
     "iopub.status.idle": "2022-10-06T16:04:18.087092Z",
     "shell.execute_reply": "2022-10-06T16:04:18.085428Z"
    },
    "papermill": {
     "duration": 0.043237,
     "end_time": "2022-10-06T16:04:18.090519",
     "exception": false,
     "start_time": "2022-10-06T16:04:18.047282",
     "status": "completed"
    },
    "tags": []
   },
   "outputs": [
    {
     "data": {
      "text/html": [
       "<div>\n",
       "<style scoped>\n",
       "    .dataframe tbody tr th:only-of-type {\n",
       "        vertical-align: middle;\n",
       "    }\n",
       "\n",
       "    .dataframe tbody tr th {\n",
       "        vertical-align: top;\n",
       "    }\n",
       "\n",
       "    .dataframe thead th {\n",
       "        text-align: right;\n",
       "    }\n",
       "</style>\n",
       "<table border=\"1\" class=\"dataframe\">\n",
       "  <thead>\n",
       "    <tr style=\"text-align: right;\">\n",
       "      <th></th>\n",
       "      <th>Pclass</th>\n",
       "      <th>Name</th>\n",
       "      <th>Sex</th>\n",
       "      <th>Age</th>\n",
       "      <th>SibSp</th>\n",
       "      <th>Parch</th>\n",
       "      <th>Ticket</th>\n",
       "      <th>Fare</th>\n",
       "      <th>Cabin</th>\n",
       "      <th>Embarked</th>\n",
       "    </tr>\n",
       "    <tr>\n",
       "      <th>PassengerId</th>\n",
       "      <th></th>\n",
       "      <th></th>\n",
       "      <th></th>\n",
       "      <th></th>\n",
       "      <th></th>\n",
       "      <th></th>\n",
       "      <th></th>\n",
       "      <th></th>\n",
       "      <th></th>\n",
       "      <th></th>\n",
       "    </tr>\n",
       "  </thead>\n",
       "  <tbody>\n",
       "    <tr>\n",
       "      <th>1</th>\n",
       "      <td>3</td>\n",
       "      <td>Braund, Mr. Owen Harris</td>\n",
       "      <td>male</td>\n",
       "      <td>22.0</td>\n",
       "      <td>1</td>\n",
       "      <td>0</td>\n",
       "      <td>A/5 21171</td>\n",
       "      <td>7.2500</td>\n",
       "      <td>NaN</td>\n",
       "      <td>S</td>\n",
       "    </tr>\n",
       "    <tr>\n",
       "      <th>2</th>\n",
       "      <td>1</td>\n",
       "      <td>Cumings, Mrs. John Bradley (Florence Briggs Th...</td>\n",
       "      <td>female</td>\n",
       "      <td>38.0</td>\n",
       "      <td>1</td>\n",
       "      <td>0</td>\n",
       "      <td>PC 17599</td>\n",
       "      <td>71.2833</td>\n",
       "      <td>C85</td>\n",
       "      <td>C</td>\n",
       "    </tr>\n",
       "  </tbody>\n",
       "</table>\n",
       "</div>"
      ],
      "text/plain": [
       "             Pclass                                               Name  \\\n",
       "PassengerId                                                              \n",
       "1                 3                            Braund, Mr. Owen Harris   \n",
       "2                 1  Cumings, Mrs. John Bradley (Florence Briggs Th...   \n",
       "\n",
       "                Sex   Age  SibSp  Parch     Ticket     Fare Cabin Embarked  \n",
       "PassengerId                                                                 \n",
       "1              male  22.0      1      0  A/5 21171   7.2500   NaN        S  \n",
       "2            female  38.0      1      0   PC 17599  71.2833   C85        C  "
      ]
     },
     "execution_count": 6,
     "metadata": {},
     "output_type": "execute_result"
    }
   ],
   "source": [
    "X.head(2)"
   ]
  },
  {
   "cell_type": "code",
   "execution_count": 7,
   "id": "88d0b47d",
   "metadata": {
    "execution": {
     "iopub.execute_input": "2022-10-06T16:04:18.117578Z",
     "iopub.status.busy": "2022-10-06T16:04:18.116377Z",
     "iopub.status.idle": "2022-10-06T16:04:18.137530Z",
     "shell.execute_reply": "2022-10-06T16:04:18.136552Z"
    },
    "papermill": {
     "duration": 0.039213,
     "end_time": "2022-10-06T16:04:18.141060",
     "exception": false,
     "start_time": "2022-10-06T16:04:18.101847",
     "status": "completed"
    },
    "tags": []
   },
   "outputs": [
    {
     "name": "stdout",
     "output_type": "stream",
     "text": [
      "<class 'pandas.core.frame.DataFrame'>\n",
      "Int64Index: 891 entries, 1 to 891\n",
      "Data columns (total 10 columns):\n",
      " #   Column    Non-Null Count  Dtype  \n",
      "---  ------    --------------  -----  \n",
      " 0   Pclass    891 non-null    int64  \n",
      " 1   Name      891 non-null    object \n",
      " 2   Sex       891 non-null    object \n",
      " 3   Age       714 non-null    float64\n",
      " 4   SibSp     891 non-null    int64  \n",
      " 5   Parch     891 non-null    int64  \n",
      " 6   Ticket    891 non-null    object \n",
      " 7   Fare      891 non-null    float64\n",
      " 8   Cabin     204 non-null    object \n",
      " 9   Embarked  889 non-null    object \n",
      "dtypes: float64(2), int64(3), object(5)\n",
      "memory usage: 76.6+ KB\n"
     ]
    }
   ],
   "source": [
    "X.info()"
   ]
  },
  {
   "cell_type": "code",
   "execution_count": 8,
   "id": "e396822d",
   "metadata": {
    "execution": {
     "iopub.execute_input": "2022-10-06T16:04:18.170722Z",
     "iopub.status.busy": "2022-10-06T16:04:18.170235Z",
     "iopub.status.idle": "2022-10-06T16:04:18.187506Z",
     "shell.execute_reply": "2022-10-06T16:04:18.185842Z"
    },
    "papermill": {
     "duration": 0.03695,
     "end_time": "2022-10-06T16:04:18.190973",
     "exception": false,
     "start_time": "2022-10-06T16:04:18.154023",
     "status": "completed"
    },
    "tags": []
   },
   "outputs": [
    {
     "name": "stdout",
     "output_type": "stream",
     "text": [
      "<class 'pandas.core.frame.DataFrame'>\n",
      "Int64Index: 418 entries, 892 to 1309\n",
      "Data columns (total 10 columns):\n",
      " #   Column    Non-Null Count  Dtype  \n",
      "---  ------    --------------  -----  \n",
      " 0   Pclass    418 non-null    int64  \n",
      " 1   Name      418 non-null    object \n",
      " 2   Sex       418 non-null    object \n",
      " 3   Age       332 non-null    float64\n",
      " 4   SibSp     418 non-null    int64  \n",
      " 5   Parch     418 non-null    int64  \n",
      " 6   Ticket    418 non-null    object \n",
      " 7   Fare      417 non-null    float64\n",
      " 8   Cabin     91 non-null     object \n",
      " 9   Embarked  418 non-null    object \n",
      "dtypes: float64(2), int64(3), object(5)\n",
      "memory usage: 35.9+ KB\n"
     ]
    }
   ],
   "source": [
    "X_test.info()"
   ]
  },
  {
   "cell_type": "code",
   "execution_count": 9,
   "id": "c9cfa8ec",
   "metadata": {
    "execution": {
     "iopub.execute_input": "2022-10-06T16:04:18.222339Z",
     "iopub.status.busy": "2022-10-06T16:04:18.220963Z",
     "iopub.status.idle": "2022-10-06T16:04:18.233010Z",
     "shell.execute_reply": "2022-10-06T16:04:18.231629Z"
    },
    "papermill": {
     "duration": 0.032203,
     "end_time": "2022-10-06T16:04:18.236771",
     "exception": false,
     "start_time": "2022-10-06T16:04:18.204568",
     "status": "completed"
    },
    "tags": []
   },
   "outputs": [
    {
     "data": {
      "text/plain": [
       "PassengerId\n",
       "1    0\n",
       "2    1\n",
       "Name: Survived, dtype: int64"
      ]
     },
     "execution_count": 9,
     "metadata": {},
     "output_type": "execute_result"
    }
   ],
   "source": [
    "y.head(2)"
   ]
  },
  {
   "cell_type": "code",
   "execution_count": 10,
   "id": "f832ca8f",
   "metadata": {
    "execution": {
     "iopub.execute_input": "2022-10-06T16:04:18.266194Z",
     "iopub.status.busy": "2022-10-06T16:04:18.265227Z",
     "iopub.status.idle": "2022-10-06T16:04:18.279283Z",
     "shell.execute_reply": "2022-10-06T16:04:18.278215Z"
    },
    "papermill": {
     "duration": 0.032128,
     "end_time": "2022-10-06T16:04:18.282377",
     "exception": false,
     "start_time": "2022-10-06T16:04:18.250249",
     "status": "completed"
    },
    "tags": []
   },
   "outputs": [
    {
     "data": {
      "text/plain": [
       "count    891.000000\n",
       "mean       0.383838\n",
       "std        0.486592\n",
       "min        0.000000\n",
       "25%        0.000000\n",
       "50%        0.000000\n",
       "75%        1.000000\n",
       "max        1.000000\n",
       "Name: Survived, dtype: float64"
      ]
     },
     "execution_count": 10,
     "metadata": {},
     "output_type": "execute_result"
    }
   ],
   "source": [
    "y.describe()"
   ]
  },
  {
   "cell_type": "markdown",
   "id": "4f7866a2",
   "metadata": {
    "papermill": {
     "duration": 0.012662,
     "end_time": "2022-10-06T16:04:18.308147",
     "exception": false,
     "start_time": "2022-10-06T16:04:18.295485",
     "status": "completed"
    },
    "tags": []
   },
   "source": [
    "# 3) Cleaning the data"
   ]
  },
  {
   "cell_type": "markdown",
   "id": "623de92c",
   "metadata": {
    "papermill": {
     "duration": 0.012145,
     "end_time": "2022-10-06T16:04:18.333241",
     "exception": false,
     "start_time": "2022-10-06T16:04:18.321096",
     "status": "completed"
    },
    "tags": []
   },
   "source": [
    "## Remove the columns with more than half missing values"
   ]
  },
  {
   "cell_type": "code",
   "execution_count": 11,
   "id": "5a552562",
   "metadata": {
    "execution": {
     "iopub.execute_input": "2022-10-06T16:04:18.360540Z",
     "iopub.status.busy": "2022-10-06T16:04:18.359837Z",
     "iopub.status.idle": "2022-10-06T16:04:18.370535Z",
     "shell.execute_reply": "2022-10-06T16:04:18.369679Z"
    },
    "papermill": {
     "duration": 0.027217,
     "end_time": "2022-10-06T16:04:18.372972",
     "exception": false,
     "start_time": "2022-10-06T16:04:18.345755",
     "status": "completed"
    },
    "tags": []
   },
   "outputs": [
    {
     "data": {
      "text/plain": [
       "Age         177\n",
       "Cabin       687\n",
       "Embarked      2\n",
       "dtype: int64"
      ]
     },
     "execution_count": 11,
     "metadata": {},
     "output_type": "execute_result"
    }
   ],
   "source": [
    "null_values = X.isnull().sum()\n",
    "null_values[null_values>0]"
   ]
  },
  {
   "cell_type": "code",
   "execution_count": 12,
   "id": "bbe8def5",
   "metadata": {
    "execution": {
     "iopub.execute_input": "2022-10-06T16:04:18.400995Z",
     "iopub.status.busy": "2022-10-06T16:04:18.399918Z",
     "iopub.status.idle": "2022-10-06T16:04:18.412087Z",
     "shell.execute_reply": "2022-10-06T16:04:18.410754Z"
    },
    "papermill": {
     "duration": 0.028765,
     "end_time": "2022-10-06T16:04:18.414551",
     "exception": false,
     "start_time": "2022-10-06T16:04:18.385786",
     "status": "completed"
    },
    "tags": []
   },
   "outputs": [
    {
     "data": {
      "text/plain": [
       "Age       86\n",
       "Fare       1\n",
       "Cabin    327\n",
       "dtype: int64"
      ]
     },
     "execution_count": 12,
     "metadata": {},
     "output_type": "execute_result"
    }
   ],
   "source": [
    "null_values_test = X_test.isnull().sum()\n",
    "null_values_test[null_values_test>0]"
   ]
  },
  {
   "cell_type": "code",
   "execution_count": 13,
   "id": "d5eaa02e",
   "metadata": {
    "execution": {
     "iopub.execute_input": "2022-10-06T16:04:18.445227Z",
     "iopub.status.busy": "2022-10-06T16:04:18.444523Z",
     "iopub.status.idle": "2022-10-06T16:04:18.457912Z",
     "shell.execute_reply": "2022-10-06T16:04:18.456220Z"
    },
    "papermill": {
     "duration": 0.032071,
     "end_time": "2022-10-06T16:04:18.460851",
     "exception": false,
     "start_time": "2022-10-06T16:04:18.428780",
     "status": "completed"
    },
    "tags": []
   },
   "outputs": [
    {
     "data": {
      "text/plain": [
       "['Cabin']"
      ]
     },
     "execution_count": 13,
     "metadata": {},
     "output_type": "execute_result"
    }
   ],
   "source": [
    "null_columns = [col for col in X.columns if X[col].isnull().sum() > X.shape[0]/2]\n",
    "null_columns"
   ]
  },
  {
   "cell_type": "code",
   "execution_count": 14,
   "id": "36d5beac",
   "metadata": {
    "execution": {
     "iopub.execute_input": "2022-10-06T16:04:18.491950Z",
     "iopub.status.busy": "2022-10-06T16:04:18.490566Z",
     "iopub.status.idle": "2022-10-06T16:04:18.498767Z",
     "shell.execute_reply": "2022-10-06T16:04:18.497687Z"
    },
    "papermill": {
     "duration": 0.027413,
     "end_time": "2022-10-06T16:04:18.502797",
     "exception": false,
     "start_time": "2022-10-06T16:04:18.475384",
     "status": "completed"
    },
    "tags": []
   },
   "outputs": [],
   "source": [
    "X.drop(null_columns, axis=1, inplace=True)\n",
    "X_test.drop(null_columns, axis=1, inplace=True)"
   ]
  },
  {
   "cell_type": "markdown",
   "id": "9fdda1fc",
   "metadata": {
    "papermill": {
     "duration": 0.012462,
     "end_time": "2022-10-06T16:04:18.528923",
     "exception": false,
     "start_time": "2022-10-06T16:04:18.516461",
     "status": "completed"
    },
    "tags": []
   },
   "source": [
    "# 4) Feature Selection"
   ]
  },
  {
   "cell_type": "markdown",
   "id": "f8b46bd2",
   "metadata": {
    "papermill": {
     "duration": 0.012589,
     "end_time": "2022-10-06T16:04:18.556486",
     "exception": false,
     "start_time": "2022-10-06T16:04:18.543897",
     "status": "completed"
    },
    "tags": []
   },
   "source": [
    "## Select categorical columns with relatively low cardinality (convenient but arbitrary)"
   ]
  },
  {
   "cell_type": "code",
   "execution_count": 15,
   "id": "c5177945",
   "metadata": {
    "execution": {
     "iopub.execute_input": "2022-10-06T16:04:18.585901Z",
     "iopub.status.busy": "2022-10-06T16:04:18.585084Z",
     "iopub.status.idle": "2022-10-06T16:04:18.597907Z",
     "shell.execute_reply": "2022-10-06T16:04:18.596981Z"
    },
    "papermill": {
     "duration": 0.029465,
     "end_time": "2022-10-06T16:04:18.600740",
     "exception": false,
     "start_time": "2022-10-06T16:04:18.571275",
     "status": "completed"
    },
    "tags": []
   },
   "outputs": [],
   "source": [
    "# \"Cardinality\" means the number of unique values in a column\n",
    "categorical_cols = [cname for cname in X.columns \n",
    "                    if X[cname].nunique() < 10 and\n",
    "                    X[cname].dtype == \"object\"]"
   ]
  },
  {
   "cell_type": "markdown",
   "id": "12c104ff",
   "metadata": {
    "papermill": {
     "duration": 0.014306,
     "end_time": "2022-10-06T16:04:18.628803",
     "exception": false,
     "start_time": "2022-10-06T16:04:18.614497",
     "status": "completed"
    },
    "tags": []
   },
   "source": [
    "## Select numerical columns"
   ]
  },
  {
   "cell_type": "code",
   "execution_count": 16,
   "id": "7ad09224",
   "metadata": {
    "execution": {
     "iopub.execute_input": "2022-10-06T16:04:18.661217Z",
     "iopub.status.busy": "2022-10-06T16:04:18.659483Z",
     "iopub.status.idle": "2022-10-06T16:04:18.667679Z",
     "shell.execute_reply": "2022-10-06T16:04:18.666020Z"
    },
    "papermill": {
     "duration": 0.026823,
     "end_time": "2022-10-06T16:04:18.670679",
     "exception": false,
     "start_time": "2022-10-06T16:04:18.643856",
     "status": "completed"
    },
    "tags": []
   },
   "outputs": [],
   "source": [
    "numerical_cols = [cname for cname in X.columns \n",
    "                  if X[cname].dtype in ['int64', 'float64']]"
   ]
  },
  {
   "cell_type": "markdown",
   "id": "2bf19e61",
   "metadata": {
    "papermill": {
     "duration": 0.013663,
     "end_time": "2022-10-06T16:04:18.698206",
     "exception": false,
     "start_time": "2022-10-06T16:04:18.684543",
     "status": "completed"
    },
    "tags": []
   },
   "source": [
    "## Keep selected columns only"
   ]
  },
  {
   "cell_type": "code",
   "execution_count": 17,
   "id": "63f1caa4",
   "metadata": {
    "execution": {
     "iopub.execute_input": "2022-10-06T16:04:18.726487Z",
     "iopub.status.busy": "2022-10-06T16:04:18.725699Z",
     "iopub.status.idle": "2022-10-06T16:04:18.734382Z",
     "shell.execute_reply": "2022-10-06T16:04:18.733212Z"
    },
    "papermill": {
     "duration": 0.025323,
     "end_time": "2022-10-06T16:04:18.736895",
     "exception": false,
     "start_time": "2022-10-06T16:04:18.711572",
     "status": "completed"
    },
    "tags": []
   },
   "outputs": [],
   "source": [
    "my_cols = categorical_cols + numerical_cols\n",
    "X = X[my_cols]\n",
    "X_test = X_test[my_cols]"
   ]
  },
  {
   "cell_type": "code",
   "execution_count": 18,
   "id": "5c42b7b9",
   "metadata": {
    "execution": {
     "iopub.execute_input": "2022-10-06T16:04:18.768701Z",
     "iopub.status.busy": "2022-10-06T16:04:18.767550Z",
     "iopub.status.idle": "2022-10-06T16:04:18.784348Z",
     "shell.execute_reply": "2022-10-06T16:04:18.783240Z"
    },
    "papermill": {
     "duration": 0.036123,
     "end_time": "2022-10-06T16:04:18.787774",
     "exception": false,
     "start_time": "2022-10-06T16:04:18.751651",
     "status": "completed"
    },
    "tags": []
   },
   "outputs": [
    {
     "data": {
      "text/html": [
       "<div>\n",
       "<style scoped>\n",
       "    .dataframe tbody tr th:only-of-type {\n",
       "        vertical-align: middle;\n",
       "    }\n",
       "\n",
       "    .dataframe tbody tr th {\n",
       "        vertical-align: top;\n",
       "    }\n",
       "\n",
       "    .dataframe thead th {\n",
       "        text-align: right;\n",
       "    }\n",
       "</style>\n",
       "<table border=\"1\" class=\"dataframe\">\n",
       "  <thead>\n",
       "    <tr style=\"text-align: right;\">\n",
       "      <th></th>\n",
       "      <th>Sex</th>\n",
       "      <th>Embarked</th>\n",
       "      <th>Pclass</th>\n",
       "      <th>Age</th>\n",
       "      <th>SibSp</th>\n",
       "      <th>Parch</th>\n",
       "      <th>Fare</th>\n",
       "    </tr>\n",
       "    <tr>\n",
       "      <th>PassengerId</th>\n",
       "      <th></th>\n",
       "      <th></th>\n",
       "      <th></th>\n",
       "      <th></th>\n",
       "      <th></th>\n",
       "      <th></th>\n",
       "      <th></th>\n",
       "    </tr>\n",
       "  </thead>\n",
       "  <tbody>\n",
       "    <tr>\n",
       "      <th>1</th>\n",
       "      <td>male</td>\n",
       "      <td>S</td>\n",
       "      <td>3</td>\n",
       "      <td>22.0</td>\n",
       "      <td>1</td>\n",
       "      <td>0</td>\n",
       "      <td>7.2500</td>\n",
       "    </tr>\n",
       "    <tr>\n",
       "      <th>2</th>\n",
       "      <td>female</td>\n",
       "      <td>C</td>\n",
       "      <td>1</td>\n",
       "      <td>38.0</td>\n",
       "      <td>1</td>\n",
       "      <td>0</td>\n",
       "      <td>71.2833</td>\n",
       "    </tr>\n",
       "  </tbody>\n",
       "</table>\n",
       "</div>"
      ],
      "text/plain": [
       "                Sex Embarked  Pclass   Age  SibSp  Parch     Fare\n",
       "PassengerId                                                      \n",
       "1              male        S       3  22.0      1      0   7.2500\n",
       "2            female        C       1  38.0      1      0  71.2833"
      ]
     },
     "execution_count": 18,
     "metadata": {},
     "output_type": "execute_result"
    }
   ],
   "source": [
    "X.head(2)"
   ]
  },
  {
   "cell_type": "markdown",
   "id": "4c81677e",
   "metadata": {
    "papermill": {
     "duration": 0.013806,
     "end_time": "2022-10-06T16:04:18.815377",
     "exception": false,
     "start_time": "2022-10-06T16:04:18.801571",
     "status": "completed"
    },
    "tags": []
   },
   "source": [
    "# Imputing Age"
   ]
  },
  {
   "cell_type": "code",
   "execution_count": 19,
   "id": "88b0581f",
   "metadata": {
    "execution": {
     "iopub.execute_input": "2022-10-06T16:04:18.846933Z",
     "iopub.status.busy": "2022-10-06T16:04:18.846505Z",
     "iopub.status.idle": "2022-10-06T16:04:18.856029Z",
     "shell.execute_reply": "2022-10-06T16:04:18.854609Z"
    },
    "papermill": {
     "duration": 0.02737,
     "end_time": "2022-10-06T16:04:18.858574",
     "exception": false,
     "start_time": "2022-10-06T16:04:18.831204",
     "status": "completed"
    },
    "tags": []
   },
   "outputs": [
    {
     "name": "stdout",
     "output_type": "stream",
     "text": [
      "177 86\n"
     ]
    }
   ],
   "source": [
    "print(X[\"Age\"].isnull().sum(),X_test[\"Age\"].isnull().sum())"
   ]
  },
  {
   "cell_type": "code",
   "execution_count": 20,
   "id": "767d9f5e",
   "metadata": {
    "execution": {
     "iopub.execute_input": "2022-10-06T16:04:18.889831Z",
     "iopub.status.busy": "2022-10-06T16:04:18.889333Z",
     "iopub.status.idle": "2022-10-06T16:04:18.904801Z",
     "shell.execute_reply": "2022-10-06T16:04:18.903508Z"
    },
    "papermill": {
     "duration": 0.03517,
     "end_time": "2022-10-06T16:04:18.907905",
     "exception": false,
     "start_time": "2022-10-06T16:04:18.872735",
     "status": "completed"
    },
    "tags": []
   },
   "outputs": [
    {
     "data": {
      "text/plain": [
       "Pclass  Sex   \n",
       "1       female    34.611765\n",
       "        male      41.281386\n",
       "2       female    28.722973\n",
       "        male      30.740707\n",
       "3       female    21.750000\n",
       "        male      26.507589\n",
       "Name: Age, dtype: float64"
      ]
     },
     "execution_count": 20,
     "metadata": {},
     "output_type": "execute_result"
    }
   ],
   "source": [
    "avg_ages = X.groupby(['Pclass','Sex'])['Age'].mean()\n",
    "avg_ages"
   ]
  },
  {
   "cell_type": "code",
   "execution_count": 21,
   "id": "db9cccb1",
   "metadata": {
    "execution": {
     "iopub.execute_input": "2022-10-06T16:04:18.937700Z",
     "iopub.status.busy": "2022-10-06T16:04:18.937166Z",
     "iopub.status.idle": "2022-10-06T16:04:18.976522Z",
     "shell.execute_reply": "2022-10-06T16:04:18.975184Z"
    },
    "papermill": {
     "duration": 0.058207,
     "end_time": "2022-10-06T16:04:18.979240",
     "exception": false,
     "start_time": "2022-10-06T16:04:18.921033",
     "status": "completed"
    },
    "tags": []
   },
   "outputs": [
    {
     "name": "stdout",
     "output_type": "stream",
     "text": [
      "27, 22, 41, 35, 31, 29, "
     ]
    }
   ],
   "source": [
    "for i in X.Pclass.unique():\n",
    "    for j in X.Sex.unique():\n",
    "        value=round(avg_ages.loc[i,j])\n",
    "        print(value,end=', ')\n",
    "        X.loc[(X.Pclass==i) & (X.Sex==j) & (X.Age.isnull()), ['Age']] = value\n",
    "        X_test.loc[(X_test.Pclass==i) & (X_test.Sex==j) & (X_test.Age.isnull()), ['Age']] = value"
   ]
  },
  {
   "cell_type": "code",
   "execution_count": 22,
   "id": "fe1c1ee6",
   "metadata": {
    "execution": {
     "iopub.execute_input": "2022-10-06T16:04:19.011678Z",
     "iopub.status.busy": "2022-10-06T16:04:19.011225Z",
     "iopub.status.idle": "2022-10-06T16:04:19.018730Z",
     "shell.execute_reply": "2022-10-06T16:04:19.017447Z"
    },
    "papermill": {
     "duration": 0.026779,
     "end_time": "2022-10-06T16:04:19.021473",
     "exception": false,
     "start_time": "2022-10-06T16:04:18.994694",
     "status": "completed"
    },
    "tags": []
   },
   "outputs": [
    {
     "name": "stdout",
     "output_type": "stream",
     "text": [
      "0 0\n"
     ]
    }
   ],
   "source": [
    "print(X[\"Age\"].isnull().sum(),X_test[\"Age\"].isnull().sum())"
   ]
  },
  {
   "cell_type": "markdown",
   "id": "fbde05cf",
   "metadata": {
    "papermill": {
     "duration": 0.015532,
     "end_time": "2022-10-06T16:04:19.051459",
     "exception": false,
     "start_time": "2022-10-06T16:04:19.035927",
     "status": "completed"
    },
    "tags": []
   },
   "source": [
    "# 5) Model Creation"
   ]
  },
  {
   "cell_type": "markdown",
   "id": "5ffc1a1b",
   "metadata": {
    "papermill": {
     "duration": 0.015941,
     "end_time": "2022-10-06T16:04:19.082842",
     "exception": false,
     "start_time": "2022-10-06T16:04:19.066901",
     "status": "completed"
    },
    "tags": []
   },
   "source": [
    "## Preprocessing Pipelines"
   ]
  },
  {
   "cell_type": "markdown",
   "id": "ca428b06",
   "metadata": {
    "papermill": {
     "duration": 0.01517,
     "end_time": "2022-10-06T16:04:19.113063",
     "exception": false,
     "start_time": "2022-10-06T16:04:19.097893",
     "status": "completed"
    },
    "tags": []
   },
   "source": [
    "### Preprocessing for numerical data"
   ]
  },
  {
   "cell_type": "code",
   "execution_count": 23,
   "id": "31a34687",
   "metadata": {
    "execution": {
     "iopub.execute_input": "2022-10-06T16:04:19.144972Z",
     "iopub.status.busy": "2022-10-06T16:04:19.144452Z",
     "iopub.status.idle": "2022-10-06T16:04:19.150927Z",
     "shell.execute_reply": "2022-10-06T16:04:19.149211Z"
    },
    "papermill": {
     "duration": 0.026027,
     "end_time": "2022-10-06T16:04:19.153868",
     "exception": false,
     "start_time": "2022-10-06T16:04:19.127841",
     "status": "completed"
    },
    "tags": []
   },
   "outputs": [],
   "source": [
    "numerical_transformer = SimpleImputer(strategy='median')"
   ]
  },
  {
   "cell_type": "markdown",
   "id": "c140d396",
   "metadata": {
    "papermill": {
     "duration": 0.014063,
     "end_time": "2022-10-06T16:04:19.183706",
     "exception": false,
     "start_time": "2022-10-06T16:04:19.169643",
     "status": "completed"
    },
    "tags": []
   },
   "source": [
    "### Preprocessing for categorical data"
   ]
  },
  {
   "cell_type": "code",
   "execution_count": 24,
   "id": "31f94bd2",
   "metadata": {
    "execution": {
     "iopub.execute_input": "2022-10-06T16:04:19.215424Z",
     "iopub.status.busy": "2022-10-06T16:04:19.215011Z",
     "iopub.status.idle": "2022-10-06T16:04:19.221510Z",
     "shell.execute_reply": "2022-10-06T16:04:19.219782Z"
    },
    "papermill": {
     "duration": 0.025707,
     "end_time": "2022-10-06T16:04:19.224454",
     "exception": false,
     "start_time": "2022-10-06T16:04:19.198747",
     "status": "completed"
    },
    "tags": []
   },
   "outputs": [],
   "source": [
    "categorical_transformer = Pipeline(steps=[\n",
    "    ('imputer', SimpleImputer(strategy='most_frequent')),\n",
    "    ('onehot', OneHotEncoder(handle_unknown='ignore'))\n",
    "])"
   ]
  },
  {
   "cell_type": "markdown",
   "id": "3a9180cc",
   "metadata": {
    "papermill": {
     "duration": 0.014036,
     "end_time": "2022-10-06T16:04:19.253232",
     "exception": false,
     "start_time": "2022-10-06T16:04:19.239196",
     "status": "completed"
    },
    "tags": []
   },
   "source": [
    "### Bundle preprocessing for numerical and categorical data"
   ]
  },
  {
   "cell_type": "code",
   "execution_count": 25,
   "id": "ea66d8ec",
   "metadata": {
    "execution": {
     "iopub.execute_input": "2022-10-06T16:04:19.283852Z",
     "iopub.status.busy": "2022-10-06T16:04:19.283221Z",
     "iopub.status.idle": "2022-10-06T16:04:19.290978Z",
     "shell.execute_reply": "2022-10-06T16:04:19.288861Z"
    },
    "papermill": {
     "duration": 0.025974,
     "end_time": "2022-10-06T16:04:19.293704",
     "exception": false,
     "start_time": "2022-10-06T16:04:19.267730",
     "status": "completed"
    },
    "tags": []
   },
   "outputs": [],
   "source": [
    "preprocessor = ColumnTransformer(\n",
    "    transformers=[\n",
    "        ('num', numerical_transformer, numerical_cols),\n",
    "        ('cat', categorical_transformer, categorical_cols)\n",
    "    ])"
   ]
  },
  {
   "cell_type": "markdown",
   "id": "7315fc51",
   "metadata": {
    "papermill": {
     "duration": 0.014031,
     "end_time": "2022-10-06T16:04:19.322551",
     "exception": false,
     "start_time": "2022-10-06T16:04:19.308520",
     "status": "completed"
    },
    "tags": []
   },
   "source": [
    "## Model Pipeline"
   ]
  },
  {
   "cell_type": "code",
   "execution_count": 26,
   "id": "54c5c136",
   "metadata": {
    "execution": {
     "iopub.execute_input": "2022-10-06T16:04:19.356118Z",
     "iopub.status.busy": "2022-10-06T16:04:19.355708Z",
     "iopub.status.idle": "2022-10-06T16:04:19.362982Z",
     "shell.execute_reply": "2022-10-06T16:04:19.361634Z"
    },
    "papermill": {
     "duration": 0.027847,
     "end_time": "2022-10-06T16:04:19.366238",
     "exception": false,
     "start_time": "2022-10-06T16:04:19.338391",
     "status": "completed"
    },
    "tags": []
   },
   "outputs": [],
   "source": [
    "# Create object of XGBClassifier class\n",
    "xgb = XGBClassifier()\n",
    "\n",
    "# Bundle preprocessing and modeling code in a pipeline\n",
    "classifier = Pipeline(steps=[('preprocessor', preprocessor),\n",
    "                      ('model', xgb)\n",
    "                     ])"
   ]
  },
  {
   "cell_type": "markdown",
   "id": "6e33cf3d",
   "metadata": {
    "papermill": {
     "duration": 0.014315,
     "end_time": "2022-10-06T16:04:19.395546",
     "exception": false,
     "start_time": "2022-10-06T16:04:19.381231",
     "status": "completed"
    },
    "tags": []
   },
   "source": [
    "## Visualize the pipeline"
   ]
  },
  {
   "cell_type": "code",
   "execution_count": 27,
   "id": "6abb6af9",
   "metadata": {
    "execution": {
     "iopub.execute_input": "2022-10-06T16:04:19.425741Z",
     "iopub.status.busy": "2022-10-06T16:04:19.425280Z",
     "iopub.status.idle": "2022-10-06T16:04:19.500199Z",
     "shell.execute_reply": "2022-10-06T16:04:19.498729Z"
    },
    "papermill": {
     "duration": 0.093563,
     "end_time": "2022-10-06T16:04:19.502915",
     "exception": false,
     "start_time": "2022-10-06T16:04:19.409352",
     "status": "completed"
    },
    "tags": []
   },
   "outputs": [
    {
     "data": {
      "text/html": [
       "<style>#sk-49973aa5-199d-4023-9548-979da10d88e0 {color: black;background-color: white;}#sk-49973aa5-199d-4023-9548-979da10d88e0 pre{padding: 0;}#sk-49973aa5-199d-4023-9548-979da10d88e0 div.sk-toggleable {background-color: white;}#sk-49973aa5-199d-4023-9548-979da10d88e0 label.sk-toggleable__label {cursor: pointer;display: block;width: 100%;margin-bottom: 0;padding: 0.3em;box-sizing: border-box;text-align: center;}#sk-49973aa5-199d-4023-9548-979da10d88e0 label.sk-toggleable__label-arrow:before {content: \"▸\";float: left;margin-right: 0.25em;color: #696969;}#sk-49973aa5-199d-4023-9548-979da10d88e0 label.sk-toggleable__label-arrow:hover:before {color: black;}#sk-49973aa5-199d-4023-9548-979da10d88e0 div.sk-estimator:hover label.sk-toggleable__label-arrow:before {color: black;}#sk-49973aa5-199d-4023-9548-979da10d88e0 div.sk-toggleable__content {max-height: 0;max-width: 0;overflow: hidden;text-align: left;background-color: #f0f8ff;}#sk-49973aa5-199d-4023-9548-979da10d88e0 div.sk-toggleable__content pre {margin: 0.2em;color: black;border-radius: 0.25em;background-color: #f0f8ff;}#sk-49973aa5-199d-4023-9548-979da10d88e0 input.sk-toggleable__control:checked~div.sk-toggleable__content {max-height: 200px;max-width: 100%;overflow: auto;}#sk-49973aa5-199d-4023-9548-979da10d88e0 input.sk-toggleable__control:checked~label.sk-toggleable__label-arrow:before {content: \"▾\";}#sk-49973aa5-199d-4023-9548-979da10d88e0 div.sk-estimator input.sk-toggleable__control:checked~label.sk-toggleable__label {background-color: #d4ebff;}#sk-49973aa5-199d-4023-9548-979da10d88e0 div.sk-label input.sk-toggleable__control:checked~label.sk-toggleable__label {background-color: #d4ebff;}#sk-49973aa5-199d-4023-9548-979da10d88e0 input.sk-hidden--visually {border: 0;clip: rect(1px 1px 1px 1px);clip: rect(1px, 1px, 1px, 1px);height: 1px;margin: -1px;overflow: hidden;padding: 0;position: absolute;width: 1px;}#sk-49973aa5-199d-4023-9548-979da10d88e0 div.sk-estimator {font-family: monospace;background-color: #f0f8ff;border: 1px dotted black;border-radius: 0.25em;box-sizing: border-box;margin-bottom: 0.5em;}#sk-49973aa5-199d-4023-9548-979da10d88e0 div.sk-estimator:hover {background-color: #d4ebff;}#sk-49973aa5-199d-4023-9548-979da10d88e0 div.sk-parallel-item::after {content: \"\";width: 100%;border-bottom: 1px solid gray;flex-grow: 1;}#sk-49973aa5-199d-4023-9548-979da10d88e0 div.sk-label:hover label.sk-toggleable__label {background-color: #d4ebff;}#sk-49973aa5-199d-4023-9548-979da10d88e0 div.sk-serial::before {content: \"\";position: absolute;border-left: 1px solid gray;box-sizing: border-box;top: 2em;bottom: 0;left: 50%;}#sk-49973aa5-199d-4023-9548-979da10d88e0 div.sk-serial {display: flex;flex-direction: column;align-items: center;background-color: white;padding-right: 0.2em;padding-left: 0.2em;}#sk-49973aa5-199d-4023-9548-979da10d88e0 div.sk-item {z-index: 1;}#sk-49973aa5-199d-4023-9548-979da10d88e0 div.sk-parallel {display: flex;align-items: stretch;justify-content: center;background-color: white;}#sk-49973aa5-199d-4023-9548-979da10d88e0 div.sk-parallel::before {content: \"\";position: absolute;border-left: 1px solid gray;box-sizing: border-box;top: 2em;bottom: 0;left: 50%;}#sk-49973aa5-199d-4023-9548-979da10d88e0 div.sk-parallel-item {display: flex;flex-direction: column;position: relative;background-color: white;}#sk-49973aa5-199d-4023-9548-979da10d88e0 div.sk-parallel-item:first-child::after {align-self: flex-end;width: 50%;}#sk-49973aa5-199d-4023-9548-979da10d88e0 div.sk-parallel-item:last-child::after {align-self: flex-start;width: 50%;}#sk-49973aa5-199d-4023-9548-979da10d88e0 div.sk-parallel-item:only-child::after {width: 0;}#sk-49973aa5-199d-4023-9548-979da10d88e0 div.sk-dashed-wrapped {border: 1px dashed gray;margin: 0 0.4em 0.5em 0.4em;box-sizing: border-box;padding-bottom: 0.4em;background-color: white;position: relative;}#sk-49973aa5-199d-4023-9548-979da10d88e0 div.sk-label label {font-family: monospace;font-weight: bold;background-color: white;display: inline-block;line-height: 1.2em;}#sk-49973aa5-199d-4023-9548-979da10d88e0 div.sk-label-container {position: relative;z-index: 2;text-align: center;}#sk-49973aa5-199d-4023-9548-979da10d88e0 div.sk-container {/* jupyter's `normalize.less` sets `[hidden] { display: none; }` but bootstrap.min.css set `[hidden] { display: none !important; }` so we also need the `!important` here to be able to override the default hidden behavior on the sphinx rendered scikit-learn.org. See: https://github.com/scikit-learn/scikit-learn/issues/21755 */display: inline-block !important;position: relative;}#sk-49973aa5-199d-4023-9548-979da10d88e0 div.sk-text-repr-fallback {display: none;}</style><div id=\"sk-49973aa5-199d-4023-9548-979da10d88e0\" class=\"sk-top-container\"><div class=\"sk-text-repr-fallback\"><pre>Pipeline(steps=[(&#x27;preprocessor&#x27;,\n",
       "                 ColumnTransformer(transformers=[(&#x27;num&#x27;,\n",
       "                                                  SimpleImputer(strategy=&#x27;median&#x27;),\n",
       "                                                  [&#x27;Pclass&#x27;, &#x27;Age&#x27;, &#x27;SibSp&#x27;,\n",
       "                                                   &#x27;Parch&#x27;, &#x27;Fare&#x27;]),\n",
       "                                                 (&#x27;cat&#x27;,\n",
       "                                                  Pipeline(steps=[(&#x27;imputer&#x27;,\n",
       "                                                                   SimpleImputer(strategy=&#x27;most_frequent&#x27;)),\n",
       "                                                                  (&#x27;onehot&#x27;,\n",
       "                                                                   OneHotEncoder(handle_unknown=&#x27;ignore&#x27;))]),\n",
       "                                                  [&#x27;Sex&#x27;, &#x27;Embarked&#x27;])])),\n",
       "                (&#x27;model&#x27;,\n",
       "                 XGBClassifier(base_score=None, booster=None, cal...\n",
       "                               gamma=None, gpu_id=None, grow_policy=None,\n",
       "                               importance_type=None,\n",
       "                               interaction_constraints=None, learning_rate=None,\n",
       "                               max_bin=None, max_cat_to_onehot=None,\n",
       "                               max_delta_step=None, max_depth=None,\n",
       "                               max_leaves=None, min_child_weight=None,\n",
       "                               missing=nan, monotone_constraints=None,\n",
       "                               n_estimators=100, n_jobs=None,\n",
       "                               num_parallel_tree=None, predictor=None,\n",
       "                               random_state=None, reg_alpha=None,\n",
       "                               reg_lambda=None, ...))])</pre><b>Please rerun this cell to show the HTML repr or trust the notebook.</b></div><div class=\"sk-container\" hidden><div class=\"sk-item sk-dashed-wrapped\"><div class=\"sk-label-container\"><div class=\"sk-label sk-toggleable\"><input class=\"sk-toggleable__control sk-hidden--visually\" id=\"10a2ead2-8ce3-463c-8f57-fefc62cbe4d6\" type=\"checkbox\" ><label for=\"10a2ead2-8ce3-463c-8f57-fefc62cbe4d6\" class=\"sk-toggleable__label sk-toggleable__label-arrow\">Pipeline</label><div class=\"sk-toggleable__content\"><pre>Pipeline(steps=[(&#x27;preprocessor&#x27;,\n",
       "                 ColumnTransformer(transformers=[(&#x27;num&#x27;,\n",
       "                                                  SimpleImputer(strategy=&#x27;median&#x27;),\n",
       "                                                  [&#x27;Pclass&#x27;, &#x27;Age&#x27;, &#x27;SibSp&#x27;,\n",
       "                                                   &#x27;Parch&#x27;, &#x27;Fare&#x27;]),\n",
       "                                                 (&#x27;cat&#x27;,\n",
       "                                                  Pipeline(steps=[(&#x27;imputer&#x27;,\n",
       "                                                                   SimpleImputer(strategy=&#x27;most_frequent&#x27;)),\n",
       "                                                                  (&#x27;onehot&#x27;,\n",
       "                                                                   OneHotEncoder(handle_unknown=&#x27;ignore&#x27;))]),\n",
       "                                                  [&#x27;Sex&#x27;, &#x27;Embarked&#x27;])])),\n",
       "                (&#x27;model&#x27;,\n",
       "                 XGBClassifier(base_score=None, booster=None, cal...\n",
       "                               gamma=None, gpu_id=None, grow_policy=None,\n",
       "                               importance_type=None,\n",
       "                               interaction_constraints=None, learning_rate=None,\n",
       "                               max_bin=None, max_cat_to_onehot=None,\n",
       "                               max_delta_step=None, max_depth=None,\n",
       "                               max_leaves=None, min_child_weight=None,\n",
       "                               missing=nan, monotone_constraints=None,\n",
       "                               n_estimators=100, n_jobs=None,\n",
       "                               num_parallel_tree=None, predictor=None,\n",
       "                               random_state=None, reg_alpha=None,\n",
       "                               reg_lambda=None, ...))])</pre></div></div></div><div class=\"sk-serial\"><div class=\"sk-item sk-dashed-wrapped\"><div class=\"sk-label-container\"><div class=\"sk-label sk-toggleable\"><input class=\"sk-toggleable__control sk-hidden--visually\" id=\"61907e97-4bad-4701-8ca5-6b924dd54d2c\" type=\"checkbox\" ><label for=\"61907e97-4bad-4701-8ca5-6b924dd54d2c\" class=\"sk-toggleable__label sk-toggleable__label-arrow\">preprocessor: ColumnTransformer</label><div class=\"sk-toggleable__content\"><pre>ColumnTransformer(transformers=[(&#x27;num&#x27;, SimpleImputer(strategy=&#x27;median&#x27;),\n",
       "                                 [&#x27;Pclass&#x27;, &#x27;Age&#x27;, &#x27;SibSp&#x27;, &#x27;Parch&#x27;, &#x27;Fare&#x27;]),\n",
       "                                (&#x27;cat&#x27;,\n",
       "                                 Pipeline(steps=[(&#x27;imputer&#x27;,\n",
       "                                                  SimpleImputer(strategy=&#x27;most_frequent&#x27;)),\n",
       "                                                 (&#x27;onehot&#x27;,\n",
       "                                                  OneHotEncoder(handle_unknown=&#x27;ignore&#x27;))]),\n",
       "                                 [&#x27;Sex&#x27;, &#x27;Embarked&#x27;])])</pre></div></div></div><div class=\"sk-parallel\"><div class=\"sk-parallel-item\"><div class=\"sk-item\"><div class=\"sk-label-container\"><div class=\"sk-label sk-toggleable\"><input class=\"sk-toggleable__control sk-hidden--visually\" id=\"a3d003f0-f60f-471d-8c67-a6980099c5b4\" type=\"checkbox\" ><label for=\"a3d003f0-f60f-471d-8c67-a6980099c5b4\" class=\"sk-toggleable__label sk-toggleable__label-arrow\">num</label><div class=\"sk-toggleable__content\"><pre>[&#x27;Pclass&#x27;, &#x27;Age&#x27;, &#x27;SibSp&#x27;, &#x27;Parch&#x27;, &#x27;Fare&#x27;]</pre></div></div></div><div class=\"sk-serial\"><div class=\"sk-item\"><div class=\"sk-estimator sk-toggleable\"><input class=\"sk-toggleable__control sk-hidden--visually\" id=\"26a75aac-3ecb-4e29-8f07-86bd9f1b4bc6\" type=\"checkbox\" ><label for=\"26a75aac-3ecb-4e29-8f07-86bd9f1b4bc6\" class=\"sk-toggleable__label sk-toggleable__label-arrow\">SimpleImputer</label><div class=\"sk-toggleable__content\"><pre>SimpleImputer(strategy=&#x27;median&#x27;)</pre></div></div></div></div></div></div><div class=\"sk-parallel-item\"><div class=\"sk-item\"><div class=\"sk-label-container\"><div class=\"sk-label sk-toggleable\"><input class=\"sk-toggleable__control sk-hidden--visually\" id=\"b65b617a-d19d-4089-ad17-f0bacf634ba8\" type=\"checkbox\" ><label for=\"b65b617a-d19d-4089-ad17-f0bacf634ba8\" class=\"sk-toggleable__label sk-toggleable__label-arrow\">cat</label><div class=\"sk-toggleable__content\"><pre>[&#x27;Sex&#x27;, &#x27;Embarked&#x27;]</pre></div></div></div><div class=\"sk-serial\"><div class=\"sk-item\"><div class=\"sk-serial\"><div class=\"sk-item\"><div class=\"sk-estimator sk-toggleable\"><input class=\"sk-toggleable__control sk-hidden--visually\" id=\"8b52399a-305c-44f1-ab01-39d8abe2e909\" type=\"checkbox\" ><label for=\"8b52399a-305c-44f1-ab01-39d8abe2e909\" class=\"sk-toggleable__label sk-toggleable__label-arrow\">SimpleImputer</label><div class=\"sk-toggleable__content\"><pre>SimpleImputer(strategy=&#x27;most_frequent&#x27;)</pre></div></div></div><div class=\"sk-item\"><div class=\"sk-estimator sk-toggleable\"><input class=\"sk-toggleable__control sk-hidden--visually\" id=\"5ee1f08c-4e5a-4440-af04-63115bdf995b\" type=\"checkbox\" ><label for=\"5ee1f08c-4e5a-4440-af04-63115bdf995b\" class=\"sk-toggleable__label sk-toggleable__label-arrow\">OneHotEncoder</label><div class=\"sk-toggleable__content\"><pre>OneHotEncoder(handle_unknown=&#x27;ignore&#x27;)</pre></div></div></div></div></div></div></div></div></div></div><div class=\"sk-item\"><div class=\"sk-estimator sk-toggleable\"><input class=\"sk-toggleable__control sk-hidden--visually\" id=\"f82f0d20-3739-4a27-a956-8b96791248c0\" type=\"checkbox\" ><label for=\"f82f0d20-3739-4a27-a956-8b96791248c0\" class=\"sk-toggleable__label sk-toggleable__label-arrow\">XGBClassifier</label><div class=\"sk-toggleable__content\"><pre>XGBClassifier(base_score=None, booster=None, callbacks=None,\n",
       "              colsample_bylevel=None, colsample_bynode=None,\n",
       "              colsample_bytree=None, early_stopping_rounds=None,\n",
       "              enable_categorical=False, eval_metric=None, gamma=None,\n",
       "              gpu_id=None, grow_policy=None, importance_type=None,\n",
       "              interaction_constraints=None, learning_rate=None, max_bin=None,\n",
       "              max_cat_to_onehot=None, max_delta_step=None, max_depth=None,\n",
       "              max_leaves=None, min_child_weight=None, missing=nan,\n",
       "              monotone_constraints=None, n_estimators=100, n_jobs=None,\n",
       "              num_parallel_tree=None, predictor=None, random_state=None,\n",
       "              reg_alpha=None, reg_lambda=None, ...)</pre></div></div></div></div></div></div></div>"
      ],
      "text/plain": [
       "Pipeline(steps=[('preprocessor',\n",
       "                 ColumnTransformer(transformers=[('num',\n",
       "                                                  SimpleImputer(strategy='median'),\n",
       "                                                  ['Pclass', 'Age', 'SibSp',\n",
       "                                                   'Parch', 'Fare']),\n",
       "                                                 ('cat',\n",
       "                                                  Pipeline(steps=[('imputer',\n",
       "                                                                   SimpleImputer(strategy='most_frequent')),\n",
       "                                                                  ('onehot',\n",
       "                                                                   OneHotEncoder(handle_unknown='ignore'))]),\n",
       "                                                  ['Sex', 'Embarked'])])),\n",
       "                ('model',\n",
       "                 XGBClassifier(base_score=None, booster=None, cal...\n",
       "                               gamma=None, gpu_id=None, grow_policy=None,\n",
       "                               importance_type=None,\n",
       "                               interaction_constraints=None, learning_rate=None,\n",
       "                               max_bin=None, max_cat_to_onehot=None,\n",
       "                               max_delta_step=None, max_depth=None,\n",
       "                               max_leaves=None, min_child_weight=None,\n",
       "                               missing=nan, monotone_constraints=None,\n",
       "                               n_estimators=100, n_jobs=None,\n",
       "                               num_parallel_tree=None, predictor=None,\n",
       "                               random_state=None, reg_alpha=None,\n",
       "                               reg_lambda=None, ...))])"
      ]
     },
     "execution_count": 27,
     "metadata": {},
     "output_type": "execute_result"
    }
   ],
   "source": [
    "from sklearn import set_config\n",
    "set_config(display='diagram')\n",
    "classifier"
   ]
  },
  {
   "cell_type": "markdown",
   "id": "cc899025",
   "metadata": {
    "papermill": {
     "duration": 0.014308,
     "end_time": "2022-10-06T16:04:19.532312",
     "exception": false,
     "start_time": "2022-10-06T16:04:19.518004",
     "status": "completed"
    },
    "tags": []
   },
   "source": [
    "# 6) Training and Testing Model"
   ]
  },
  {
   "cell_type": "markdown",
   "id": "caaa79be",
   "metadata": {
    "papermill": {
     "duration": 0.014006,
     "end_time": "2022-10-06T16:04:19.561446",
     "exception": false,
     "start_time": "2022-10-06T16:04:19.547440",
     "status": "completed"
    },
    "tags": []
   },
   "source": [
    "## Grid Search & Cross Validation"
   ]
  },
  {
   "cell_type": "code",
   "execution_count": 28,
   "id": "e61b15a3",
   "metadata": {
    "_kg_hide-output": true,
    "execution": {
     "iopub.execute_input": "2022-10-06T16:04:19.594597Z",
     "iopub.status.busy": "2022-10-06T16:04:19.594120Z",
     "iopub.status.idle": "2022-10-06T16:04:19.602708Z",
     "shell.execute_reply": "2022-10-06T16:04:19.601265Z"
    },
    "papermill": {
     "duration": 0.028798,
     "end_time": "2022-10-06T16:04:19.605755",
     "exception": false,
     "start_time": "2022-10-06T16:04:19.576957",
     "status": "completed"
    },
    "tags": []
   },
   "outputs": [
    {
     "data": {
      "text/plain": [
       "dict_keys(['memory', 'steps', 'verbose', 'preprocessor', 'model', 'preprocessor__n_jobs', 'preprocessor__remainder', 'preprocessor__sparse_threshold', 'preprocessor__transformer_weights', 'preprocessor__transformers', 'preprocessor__verbose', 'preprocessor__verbose_feature_names_out', 'preprocessor__num', 'preprocessor__cat', 'preprocessor__num__add_indicator', 'preprocessor__num__copy', 'preprocessor__num__fill_value', 'preprocessor__num__missing_values', 'preprocessor__num__strategy', 'preprocessor__num__verbose', 'preprocessor__cat__memory', 'preprocessor__cat__steps', 'preprocessor__cat__verbose', 'preprocessor__cat__imputer', 'preprocessor__cat__onehot', 'preprocessor__cat__imputer__add_indicator', 'preprocessor__cat__imputer__copy', 'preprocessor__cat__imputer__fill_value', 'preprocessor__cat__imputer__missing_values', 'preprocessor__cat__imputer__strategy', 'preprocessor__cat__imputer__verbose', 'preprocessor__cat__onehot__categories', 'preprocessor__cat__onehot__drop', 'preprocessor__cat__onehot__dtype', 'preprocessor__cat__onehot__handle_unknown', 'preprocessor__cat__onehot__sparse', 'model__objective', 'model__use_label_encoder', 'model__base_score', 'model__booster', 'model__callbacks', 'model__colsample_bylevel', 'model__colsample_bynode', 'model__colsample_bytree', 'model__early_stopping_rounds', 'model__enable_categorical', 'model__eval_metric', 'model__gamma', 'model__gpu_id', 'model__grow_policy', 'model__importance_type', 'model__interaction_constraints', 'model__learning_rate', 'model__max_bin', 'model__max_cat_to_onehot', 'model__max_delta_step', 'model__max_depth', 'model__max_leaves', 'model__min_child_weight', 'model__missing', 'model__monotone_constraints', 'model__n_estimators', 'model__n_jobs', 'model__num_parallel_tree', 'model__predictor', 'model__random_state', 'model__reg_alpha', 'model__reg_lambda', 'model__sampling_method', 'model__scale_pos_weight', 'model__subsample', 'model__tree_method', 'model__validate_parameters', 'model__verbosity'])"
      ]
     },
     "execution_count": 28,
     "metadata": {},
     "output_type": "execute_result"
    }
   ],
   "source": [
    "# Hyper-Parameters that can be optimised using GridSearch\n",
    "classifier.get_params().keys()"
   ]
  },
  {
   "cell_type": "code",
   "execution_count": 29,
   "id": "7b0aa49a",
   "metadata": {
    "_kg_hide-output": true,
    "execution": {
     "iopub.execute_input": "2022-10-06T16:04:19.639679Z",
     "iopub.status.busy": "2022-10-06T16:04:19.638910Z",
     "iopub.status.idle": "2022-10-06T16:06:05.018511Z",
     "shell.execute_reply": "2022-10-06T16:06:05.017556Z"
    },
    "papermill": {
     "duration": 105.400396,
     "end_time": "2022-10-06T16:06:05.021504",
     "exception": false,
     "start_time": "2022-10-06T16:04:19.621108",
     "status": "completed"
    },
    "tags": []
   },
   "outputs": [
    {
     "name": "stdout",
     "output_type": "stream",
     "text": [
      "Fitting 4 folds for each of 27 candidates, totalling 108 fits\n",
      "[CV 1/4] END model__learning_rate=0.03, model__max_depth=5, model__n_estimators=100;, score=0.794 total time=   0.5s\n",
      "[CV 2/4] END model__learning_rate=0.03, model__max_depth=5, model__n_estimators=100;, score=0.843 total time=   0.5s\n",
      "[CV 3/4] END model__learning_rate=0.03, model__max_depth=5, model__n_estimators=100;, score=0.839 total time=   0.5s\n",
      "[CV 4/4] END model__learning_rate=0.03, model__max_depth=5, model__n_estimators=100;, score=0.847 total time=   0.5s\n",
      "[CV 1/4] END model__learning_rate=0.03, model__max_depth=5, model__n_estimators=200;, score=0.789 total time=   0.8s\n",
      "[CV 2/4] END model__learning_rate=0.03, model__max_depth=5, model__n_estimators=200;, score=0.843 total time=   0.9s\n",
      "[CV 3/4] END model__learning_rate=0.03, model__max_depth=5, model__n_estimators=200;, score=0.825 total time=   0.9s\n",
      "[CV 4/4] END model__learning_rate=0.03, model__max_depth=5, model__n_estimators=200;, score=0.851 total time=   0.9s\n",
      "[CV 1/4] END model__learning_rate=0.03, model__max_depth=5, model__n_estimators=300;, score=0.794 total time=   2.2s\n",
      "[CV 2/4] END model__learning_rate=0.03, model__max_depth=5, model__n_estimators=300;, score=0.839 total time=   1.4s\n",
      "[CV 3/4] END model__learning_rate=0.03, model__max_depth=5, model__n_estimators=300;, score=0.830 total time=   1.3s\n",
      "[CV 4/4] END model__learning_rate=0.03, model__max_depth=5, model__n_estimators=300;, score=0.851 total time=   1.3s\n",
      "[CV 1/4] END model__learning_rate=0.03, model__max_depth=6, model__n_estimators=100;, score=0.794 total time=   0.5s\n",
      "[CV 2/4] END model__learning_rate=0.03, model__max_depth=6, model__n_estimators=100;, score=0.848 total time=   0.5s\n",
      "[CV 3/4] END model__learning_rate=0.03, model__max_depth=6, model__n_estimators=100;, score=0.848 total time=   0.5s\n",
      "[CV 4/4] END model__learning_rate=0.03, model__max_depth=6, model__n_estimators=100;, score=0.842 total time=   0.5s\n",
      "[CV 1/4] END model__learning_rate=0.03, model__max_depth=6, model__n_estimators=200;, score=0.789 total time=   0.9s\n",
      "[CV 2/4] END model__learning_rate=0.03, model__max_depth=6, model__n_estimators=200;, score=0.848 total time=   0.9s\n",
      "[CV 3/4] END model__learning_rate=0.03, model__max_depth=6, model__n_estimators=200;, score=0.830 total time=   0.9s\n",
      "[CV 4/4] END model__learning_rate=0.03, model__max_depth=6, model__n_estimators=200;, score=0.856 total time=   0.9s\n",
      "[CV 1/4] END model__learning_rate=0.03, model__max_depth=6, model__n_estimators=300;, score=0.794 total time=   1.3s\n",
      "[CV 2/4] END model__learning_rate=0.03, model__max_depth=6, model__n_estimators=300;, score=0.843 total time=   1.5s\n",
      "[CV 3/4] END model__learning_rate=0.03, model__max_depth=6, model__n_estimators=300;, score=0.848 total time=   1.3s\n",
      "[CV 4/4] END model__learning_rate=0.03, model__max_depth=6, model__n_estimators=300;, score=0.860 total time=   1.3s\n",
      "[CV 1/4] END model__learning_rate=0.03, model__max_depth=7, model__n_estimators=100;, score=0.807 total time=   0.5s\n",
      "[CV 2/4] END model__learning_rate=0.03, model__max_depth=7, model__n_estimators=100;, score=0.852 total time=   0.5s\n",
      "[CV 3/4] END model__learning_rate=0.03, model__max_depth=7, model__n_estimators=100;, score=0.843 total time=   0.5s\n",
      "[CV 4/4] END model__learning_rate=0.03, model__max_depth=7, model__n_estimators=100;, score=0.851 total time=   0.5s\n",
      "[CV 1/4] END model__learning_rate=0.03, model__max_depth=7, model__n_estimators=200;, score=0.785 total time=   1.0s\n",
      "[CV 2/4] END model__learning_rate=0.03, model__max_depth=7, model__n_estimators=200;, score=0.848 total time=   1.0s\n",
      "[CV 3/4] END model__learning_rate=0.03, model__max_depth=7, model__n_estimators=200;, score=0.821 total time=   0.9s\n",
      "[CV 4/4] END model__learning_rate=0.03, model__max_depth=7, model__n_estimators=200;, score=0.856 total time=   0.9s\n",
      "[CV 1/4] END model__learning_rate=0.03, model__max_depth=7, model__n_estimators=300;, score=0.794 total time=   1.4s\n",
      "[CV 2/4] END model__learning_rate=0.03, model__max_depth=7, model__n_estimators=300;, score=0.852 total time=   1.5s\n",
      "[CV 3/4] END model__learning_rate=0.03, model__max_depth=7, model__n_estimators=300;, score=0.825 total time=   1.4s\n",
      "[CV 4/4] END model__learning_rate=0.03, model__max_depth=7, model__n_estimators=300;, score=0.856 total time=   1.4s\n",
      "[CV 1/4] END model__learning_rate=0.02, model__max_depth=5, model__n_estimators=100;, score=0.812 total time=   0.5s\n",
      "[CV 2/4] END model__learning_rate=0.02, model__max_depth=5, model__n_estimators=100;, score=0.821 total time=   0.5s\n",
      "[CV 3/4] END model__learning_rate=0.02, model__max_depth=5, model__n_estimators=100;, score=0.843 total time=   0.5s\n",
      "[CV 4/4] END model__learning_rate=0.02, model__max_depth=5, model__n_estimators=100;, score=0.842 total time=   0.5s\n",
      "[CV 1/4] END model__learning_rate=0.02, model__max_depth=5, model__n_estimators=200;, score=0.789 total time=   0.9s\n",
      "[CV 2/4] END model__learning_rate=0.02, model__max_depth=5, model__n_estimators=200;, score=0.857 total time=   1.8s\n",
      "[CV 3/4] END model__learning_rate=0.02, model__max_depth=5, model__n_estimators=200;, score=0.839 total time=   0.9s\n",
      "[CV 4/4] END model__learning_rate=0.02, model__max_depth=5, model__n_estimators=200;, score=0.847 total time=   0.9s\n",
      "[CV 1/4] END model__learning_rate=0.02, model__max_depth=5, model__n_estimators=300;, score=0.789 total time=   1.4s\n",
      "[CV 2/4] END model__learning_rate=0.02, model__max_depth=5, model__n_estimators=300;, score=0.839 total time=   1.3s\n",
      "[CV 3/4] END model__learning_rate=0.02, model__max_depth=5, model__n_estimators=300;, score=0.825 total time=   1.3s\n",
      "[CV 4/4] END model__learning_rate=0.02, model__max_depth=5, model__n_estimators=300;, score=0.856 total time=   1.3s\n",
      "[CV 1/4] END model__learning_rate=0.02, model__max_depth=6, model__n_estimators=100;, score=0.780 total time=   0.5s\n",
      "[CV 2/4] END model__learning_rate=0.02, model__max_depth=6, model__n_estimators=100;, score=0.843 total time=   0.5s\n",
      "[CV 3/4] END model__learning_rate=0.02, model__max_depth=6, model__n_estimators=100;, score=0.843 total time=   0.5s\n",
      "[CV 4/4] END model__learning_rate=0.02, model__max_depth=6, model__n_estimators=100;, score=0.833 total time=   0.5s\n",
      "[CV 1/4] END model__learning_rate=0.02, model__max_depth=6, model__n_estimators=200;, score=0.789 total time=   0.9s\n",
      "[CV 2/4] END model__learning_rate=0.02, model__max_depth=6, model__n_estimators=200;, score=0.852 total time=   0.9s\n",
      "[CV 3/4] END model__learning_rate=0.02, model__max_depth=6, model__n_estimators=200;, score=0.843 total time=   0.9s\n",
      "[CV 4/4] END model__learning_rate=0.02, model__max_depth=6, model__n_estimators=200;, score=0.851 total time=   0.9s\n",
      "[CV 1/4] END model__learning_rate=0.02, model__max_depth=6, model__n_estimators=300;, score=0.789 total time=   1.4s\n",
      "[CV 2/4] END model__learning_rate=0.02, model__max_depth=6, model__n_estimators=300;, score=0.857 total time=   1.3s\n",
      "[CV 3/4] END model__learning_rate=0.02, model__max_depth=6, model__n_estimators=300;, score=0.834 total time=   1.3s\n",
      "[CV 4/4] END model__learning_rate=0.02, model__max_depth=6, model__n_estimators=300;, score=0.856 total time=   1.3s\n",
      "[CV 1/4] END model__learning_rate=0.02, model__max_depth=7, model__n_estimators=100;, score=0.789 total time=   0.5s\n",
      "[CV 2/4] END model__learning_rate=0.02, model__max_depth=7, model__n_estimators=100;, score=0.843 total time=   0.5s\n",
      "[CV 3/4] END model__learning_rate=0.02, model__max_depth=7, model__n_estimators=100;, score=0.848 total time=   0.5s\n",
      "[CV 4/4] END model__learning_rate=0.02, model__max_depth=7, model__n_estimators=100;, score=0.838 total time=   0.5s\n",
      "[CV 1/4] END model__learning_rate=0.02, model__max_depth=7, model__n_estimators=200;, score=0.794 total time=   0.9s\n",
      "[CV 2/4] END model__learning_rate=0.02, model__max_depth=7, model__n_estimators=200;, score=0.848 total time=   0.9s\n",
      "[CV 3/4] END model__learning_rate=0.02, model__max_depth=7, model__n_estimators=200;, score=0.843 total time=   0.9s\n",
      "[CV 4/4] END model__learning_rate=0.02, model__max_depth=7, model__n_estimators=200;, score=0.860 total time=   1.0s\n",
      "[CV 1/4] END model__learning_rate=0.02, model__max_depth=7, model__n_estimators=300;, score=0.785 total time=   1.5s\n",
      "[CV 2/4] END model__learning_rate=0.02, model__max_depth=7, model__n_estimators=300;, score=0.848 total time=   1.5s\n",
      "[CV 3/4] END model__learning_rate=0.02, model__max_depth=7, model__n_estimators=300;, score=0.839 total time=   1.4s\n",
      "[CV 4/4] END model__learning_rate=0.02, model__max_depth=7, model__n_estimators=300;, score=0.865 total time=   1.4s\n",
      "[CV 1/4] END model__learning_rate=0.01, model__max_depth=5, model__n_estimators=100;, score=0.798 total time=   0.5s\n",
      "[CV 2/4] END model__learning_rate=0.01, model__max_depth=5, model__n_estimators=100;, score=0.830 total time=   1.4s\n",
      "[CV 3/4] END model__learning_rate=0.01, model__max_depth=5, model__n_estimators=100;, score=0.807 total time=   0.5s\n",
      "[CV 4/4] END model__learning_rate=0.01, model__max_depth=5, model__n_estimators=100;, score=0.833 total time=   0.5s\n",
      "[CV 1/4] END model__learning_rate=0.01, model__max_depth=5, model__n_estimators=200;, score=0.812 total time=   0.9s\n",
      "[CV 2/4] END model__learning_rate=0.01, model__max_depth=5, model__n_estimators=200;, score=0.821 total time=   0.9s\n",
      "[CV 3/4] END model__learning_rate=0.01, model__max_depth=5, model__n_estimators=200;, score=0.843 total time=   0.9s\n",
      "[CV 4/4] END model__learning_rate=0.01, model__max_depth=5, model__n_estimators=200;, score=0.842 total time=   1.0s\n",
      "[CV 1/4] END model__learning_rate=0.01, model__max_depth=5, model__n_estimators=300;, score=0.798 total time=   1.3s\n",
      "[CV 2/4] END model__learning_rate=0.01, model__max_depth=5, model__n_estimators=300;, score=0.839 total time=   1.3s\n",
      "[CV 3/4] END model__learning_rate=0.01, model__max_depth=5, model__n_estimators=300;, score=0.834 total time=   1.3s\n",
      "[CV 4/4] END model__learning_rate=0.01, model__max_depth=5, model__n_estimators=300;, score=0.842 total time=   1.3s\n",
      "[CV 1/4] END model__learning_rate=0.01, model__max_depth=6, model__n_estimators=100;, score=0.798 total time=   0.5s\n",
      "[CV 2/4] END model__learning_rate=0.01, model__max_depth=6, model__n_estimators=100;, score=0.834 total time=   0.5s\n",
      "[CV 3/4] END model__learning_rate=0.01, model__max_depth=6, model__n_estimators=100;, score=0.834 total time=   0.5s\n",
      "[CV 4/4] END model__learning_rate=0.01, model__max_depth=6, model__n_estimators=100;, score=0.824 total time=   0.5s\n",
      "[CV 1/4] END model__learning_rate=0.01, model__max_depth=6, model__n_estimators=200;, score=0.780 total time=   0.9s\n",
      "[CV 2/4] END model__learning_rate=0.01, model__max_depth=6, model__n_estimators=200;, score=0.843 total time=   0.9s\n",
      "[CV 3/4] END model__learning_rate=0.01, model__max_depth=6, model__n_estimators=200;, score=0.843 total time=   0.9s\n",
      "[CV 4/4] END model__learning_rate=0.01, model__max_depth=6, model__n_estimators=200;, score=0.833 total time=   1.0s\n",
      "[CV 1/4] END model__learning_rate=0.01, model__max_depth=6, model__n_estimators=300;, score=0.794 total time=   1.3s\n",
      "[CV 2/4] END model__learning_rate=0.01, model__max_depth=6, model__n_estimators=300;, score=0.843 total time=   1.4s\n",
      "[CV 3/4] END model__learning_rate=0.01, model__max_depth=6, model__n_estimators=300;, score=0.848 total time=   1.4s\n",
      "[CV 4/4] END model__learning_rate=0.01, model__max_depth=6, model__n_estimators=300;, score=0.842 total time=   1.4s\n",
      "[CV 1/4] END model__learning_rate=0.01, model__max_depth=7, model__n_estimators=100;, score=0.776 total time=   0.5s\n",
      "[CV 2/4] END model__learning_rate=0.01, model__max_depth=7, model__n_estimators=100;, score=0.852 total time=   0.5s\n",
      "[CV 3/4] END model__learning_rate=0.01, model__max_depth=7, model__n_estimators=100;, score=0.825 total time=   0.5s\n",
      "[CV 4/4] END model__learning_rate=0.01, model__max_depth=7, model__n_estimators=100;, score=0.824 total time=   0.5s\n",
      "[CV 1/4] END model__learning_rate=0.01, model__max_depth=7, model__n_estimators=200;, score=0.789 total time=   0.9s\n",
      "[CV 2/4] END model__learning_rate=0.01, model__max_depth=7, model__n_estimators=200;, score=0.848 total time=   1.0s\n",
      "[CV 3/4] END model__learning_rate=0.01, model__max_depth=7, model__n_estimators=200;, score=0.843 total time=   1.1s\n",
      "[CV 4/4] END model__learning_rate=0.01, model__max_depth=7, model__n_estimators=200;, score=0.838 total time=   0.9s\n",
      "[CV 1/4] END model__learning_rate=0.01, model__max_depth=7, model__n_estimators=300;, score=0.807 total time=   1.4s\n",
      "[CV 2/4] END model__learning_rate=0.01, model__max_depth=7, model__n_estimators=300;, score=0.848 total time=   1.4s\n",
      "[CV 3/4] END model__learning_rate=0.01, model__max_depth=7, model__n_estimators=300;, score=0.843 total time=   2.3s\n",
      "[CV 4/4] END model__learning_rate=0.01, model__max_depth=7, model__n_estimators=300;, score=0.856 total time=   1.5s\n"
     ]
    }
   ],
   "source": [
    "param_grid = [\n",
    "    {        \n",
    "        \"model__learning_rate\": [.03, .02, .01],\n",
    "        \"model__n_estimators\": [100, 200, 300],\n",
    "        \"model__max_depth\": [5, 6, 7]\n",
    "    }\n",
    "]\n",
    "grid_search = GridSearchCV(classifier, param_grid, cv=4, verbose=3)\n",
    "grid_search.fit(X, y);"
   ]
  },
  {
   "cell_type": "code",
   "execution_count": 30,
   "id": "6aeb1b4e",
   "metadata": {
    "execution": {
     "iopub.execute_input": "2022-10-06T16:06:05.069833Z",
     "iopub.status.busy": "2022-10-06T16:06:05.069291Z",
     "iopub.status.idle": "2022-10-06T16:06:05.099444Z",
     "shell.execute_reply": "2022-10-06T16:06:05.097642Z"
    },
    "papermill": {
     "duration": 0.058595,
     "end_time": "2022-10-06T16:06:05.103113",
     "exception": false,
     "start_time": "2022-10-06T16:06:05.044518",
     "status": "completed"
    },
    "tags": []
   },
   "outputs": [
    {
     "name": "stdout",
     "output_type": "stream",
     "text": [
      "Best params:\n",
      "{'model__learning_rate': 0.01, 'model__max_depth': 7, 'model__n_estimators': 300}\n",
      "Best score in grid search:\n",
      "0.8384034258473722\n",
      "Best XGBoost on whole trained data:\n",
      "0.8945005611672279\n"
     ]
    }
   ],
   "source": [
    "print(\"Best params:\")\n",
    "print(grid_search.best_params_)\n",
    "print(\"Best score in grid search:\")\n",
    "print(grid_search.best_score_)\n",
    "print(\"Best XGBoost on whole trained data:\")\n",
    "print(grid_search.score(X, y))"
   ]
  },
  {
   "cell_type": "markdown",
   "id": "153c4f70",
   "metadata": {
    "papermill": {
     "duration": 0.02073,
     "end_time": "2022-10-06T16:06:05.147162",
     "exception": false,
     "start_time": "2022-10-06T16:06:05.126432",
     "status": "completed"
    },
    "tags": []
   },
   "source": [
    "## Create Confusion Matrix (for trained data)"
   ]
  },
  {
   "cell_type": "code",
   "execution_count": 31,
   "id": "7e94d76f",
   "metadata": {
    "execution": {
     "iopub.execute_input": "2022-10-06T16:06:05.192123Z",
     "iopub.status.busy": "2022-10-06T16:06:05.191739Z",
     "iopub.status.idle": "2022-10-06T16:06:05.221580Z",
     "shell.execute_reply": "2022-10-06T16:06:05.218411Z"
    },
    "papermill": {
     "duration": 0.055121,
     "end_time": "2022-10-06T16:06:05.224378",
     "exception": false,
     "start_time": "2022-10-06T16:06:05.169257",
     "status": "completed"
    },
    "tags": []
   },
   "outputs": [
    {
     "name": "stdout",
     "output_type": "stream",
     "text": [
      "[[522  27]\n",
      " [ 67 275]]\n"
     ]
    },
    {
     "data": {
      "text/plain": [
       "0.8945005611672279"
      ]
     },
     "execution_count": 31,
     "metadata": {},
     "output_type": "execute_result"
    }
   ],
   "source": [
    "y_pred = grid_search.predict(X)\n",
    "cm = confusion_matrix(y, y_pred)\n",
    "print(cm)\n",
    "accuracy_score(y, y_pred)"
   ]
  },
  {
   "cell_type": "markdown",
   "id": "3b14e6b4",
   "metadata": {
    "papermill": {
     "duration": 0.020411,
     "end_time": "2022-10-06T16:06:05.269024",
     "exception": false,
     "start_time": "2022-10-06T16:06:05.248613",
     "status": "completed"
    },
    "tags": []
   },
   "source": [
    "# 7) Predicting using Model"
   ]
  },
  {
   "cell_type": "markdown",
   "id": "74ff870a",
   "metadata": {
    "papermill": {
     "duration": 0.020545,
     "end_time": "2022-10-06T16:06:05.311332",
     "exception": false,
     "start_time": "2022-10-06T16:06:05.290787",
     "status": "completed"
    },
    "tags": []
   },
   "source": [
    "## Generate test predictions"
   ]
  },
  {
   "cell_type": "code",
   "execution_count": 32,
   "id": "631da8ae",
   "metadata": {
    "execution": {
     "iopub.execute_input": "2022-10-06T16:06:05.356537Z",
     "iopub.status.busy": "2022-10-06T16:06:05.356091Z",
     "iopub.status.idle": "2022-10-06T16:06:05.374367Z",
     "shell.execute_reply": "2022-10-06T16:06:05.373447Z"
    },
    "papermill": {
     "duration": 0.043633,
     "end_time": "2022-10-06T16:06:05.377064",
     "exception": false,
     "start_time": "2022-10-06T16:06:05.333431",
     "status": "completed"
    },
    "tags": []
   },
   "outputs": [],
   "source": [
    "# Preprocessing of test data, fit model\n",
    "preds_test = grid_search.predict(X_test)"
   ]
  },
  {
   "cell_type": "markdown",
   "id": "aaae5afe",
   "metadata": {
    "papermill": {
     "duration": 0.020775,
     "end_time": "2022-10-06T16:06:05.425215",
     "exception": false,
     "start_time": "2022-10-06T16:06:05.404440",
     "status": "completed"
    },
    "tags": []
   },
   "source": [
    "## Save output to CSV file"
   ]
  },
  {
   "cell_type": "code",
   "execution_count": 33,
   "id": "4a9b504d",
   "metadata": {
    "execution": {
     "iopub.execute_input": "2022-10-06T16:06:05.469966Z",
     "iopub.status.busy": "2022-10-06T16:06:05.469565Z",
     "iopub.status.idle": "2022-10-06T16:06:05.481097Z",
     "shell.execute_reply": "2022-10-06T16:06:05.479576Z"
    },
    "papermill": {
     "duration": 0.037255,
     "end_time": "2022-10-06T16:06:05.484118",
     "exception": false,
     "start_time": "2022-10-06T16:06:05.446863",
     "status": "completed"
    },
    "tags": []
   },
   "outputs": [],
   "source": [
    "output = pd.DataFrame({'PassengerId': X_test.index,\n",
    "                       'Survived': preds_test})\n",
    "output.to_csv('submission.csv', index=False)"
   ]
  },
  {
   "cell_type": "markdown",
   "id": "e74da93f",
   "metadata": {
    "papermill": {
     "duration": 0.022894,
     "end_time": "2022-10-06T16:06:05.530072",
     "exception": false,
     "start_time": "2022-10-06T16:06:05.507178",
     "status": "completed"
    },
    "tags": []
   },
   "source": [
    "## Submit your results"
   ]
  },
  {
   "cell_type": "code",
   "execution_count": 34,
   "id": "67e20ca2",
   "metadata": {
    "execution": {
     "iopub.execute_input": "2022-10-06T16:06:05.577263Z",
     "iopub.status.busy": "2022-10-06T16:06:05.576780Z",
     "iopub.status.idle": "2022-10-06T16:06:05.591348Z",
     "shell.execute_reply": "2022-10-06T16:06:05.589689Z"
    },
    "papermill": {
     "duration": 0.041533,
     "end_time": "2022-10-06T16:06:05.594504",
     "exception": false,
     "start_time": "2022-10-06T16:06:05.552971",
     "status": "completed"
    },
    "tags": []
   },
   "outputs": [
    {
     "data": {
      "text/html": [
       "<div>\n",
       "<style scoped>\n",
       "    .dataframe tbody tr th:only-of-type {\n",
       "        vertical-align: middle;\n",
       "    }\n",
       "\n",
       "    .dataframe tbody tr th {\n",
       "        vertical-align: top;\n",
       "    }\n",
       "\n",
       "    .dataframe thead th {\n",
       "        text-align: right;\n",
       "    }\n",
       "</style>\n",
       "<table border=\"1\" class=\"dataframe\">\n",
       "  <thead>\n",
       "    <tr style=\"text-align: right;\">\n",
       "      <th></th>\n",
       "      <th>PassengerId</th>\n",
       "      <th>Survived</th>\n",
       "    </tr>\n",
       "  </thead>\n",
       "  <tbody>\n",
       "    <tr>\n",
       "      <th>0</th>\n",
       "      <td>892</td>\n",
       "      <td>0</td>\n",
       "    </tr>\n",
       "    <tr>\n",
       "      <th>1</th>\n",
       "      <td>893</td>\n",
       "      <td>0</td>\n",
       "    </tr>\n",
       "    <tr>\n",
       "      <th>2</th>\n",
       "      <td>894</td>\n",
       "      <td>0</td>\n",
       "    </tr>\n",
       "    <tr>\n",
       "      <th>3</th>\n",
       "      <td>895</td>\n",
       "      <td>0</td>\n",
       "    </tr>\n",
       "    <tr>\n",
       "      <th>4</th>\n",
       "      <td>896</td>\n",
       "      <td>1</td>\n",
       "    </tr>\n",
       "  </tbody>\n",
       "</table>\n",
       "</div>"
      ],
      "text/plain": [
       "   PassengerId  Survived\n",
       "0          892         0\n",
       "1          893         0\n",
       "2          894         0\n",
       "3          895         0\n",
       "4          896         1"
      ]
     },
     "execution_count": 34,
     "metadata": {},
     "output_type": "execute_result"
    }
   ],
   "source": [
    "submission_data = pd.read_csv(\"submission.csv\")\n",
    "submission_data.head()"
   ]
  }
 ],
 "metadata": {
  "kernelspec": {
   "display_name": "Python 3",
   "language": "python",
   "name": "python3"
  },
  "language_info": {
   "codemirror_mode": {
    "name": "ipython",
    "version": 3
   },
   "file_extension": ".py",
   "mimetype": "text/x-python",
   "name": "python",
   "nbconvert_exporter": "python",
   "pygments_lexer": "ipython3",
   "version": "3.7.12"
  },
  "papermill": {
   "default_parameters": {},
   "duration": 121.446841,
   "end_time": "2022-10-06T16:06:06.645976",
   "environment_variables": {},
   "exception": null,
   "input_path": "__notebook__.ipynb",
   "output_path": "__notebook__.ipynb",
   "parameters": {},
   "start_time": "2022-10-06T16:04:05.199135",
   "version": "2.3.4"
  }
 },
 "nbformat": 4,
 "nbformat_minor": 5
}
