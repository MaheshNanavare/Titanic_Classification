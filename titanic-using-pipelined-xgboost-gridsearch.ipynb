{
 "cells": [
  {
   "cell_type": "markdown",
   "id": "a36a05ab",
   "metadata": {
    "papermill": {
     "duration": 0.023725,
     "end_time": "2022-10-08T20:04:47.076530",
     "exception": false,
     "start_time": "2022-10-08T20:04:47.052805",
     "status": "completed"
    },
    "tags": []
   },
   "source": [
    "# **Titanic - Machine Learning from Disaster**\n",
    "* Added Features: Name Prefix, Age Category, Family Size\n",
    "* Classifier Used: XGBoost\n",
    "* Hyper-Parameters optimized using GridSearch: learning_rate, n_estimators, max_depth\n",
    "* Used **pipelines** to improve the efficiency of machine learning code"
   ]
  },
  {
   "cell_type": "markdown",
   "id": "85ab9289",
   "metadata": {
    "papermill": {
     "duration": 0.01876,
     "end_time": "2022-10-08T20:04:47.114586",
     "exception": false,
     "start_time": "2022-10-08T20:04:47.095826",
     "status": "completed"
    },
    "tags": []
   },
   "source": [
    "## Contents:\n",
    "1. **X, y Dataframes Creation**\n",
    "2. **X, y Summary**\n",
    "3. **Data Cleaning**\n",
    "4. **Feature Engineering**\n",
    "5. **Data Visualization**\n",
    "6. **Feature Selection**\n",
    "7. **Model Creation**\n",
    "8. **Training and Testing Model**\n",
    "9. **Predicting y**"
   ]
  },
  {
   "cell_type": "markdown",
   "id": "fec881a6",
   "metadata": {
    "papermill": {
     "duration": 0.018698,
     "end_time": "2022-10-08T20:04:47.152403",
     "exception": false,
     "start_time": "2022-10-08T20:04:47.133705",
     "status": "completed"
    },
    "tags": []
   },
   "source": [
    "# 1) X, y Dataframes Creation"
   ]
  },
  {
   "cell_type": "markdown",
   "id": "e8a83a0e",
   "metadata": {
    "papermill": {
     "duration": 0.018839,
     "end_time": "2022-10-08T20:04:47.190324",
     "exception": false,
     "start_time": "2022-10-08T20:04:47.171485",
     "status": "completed"
    },
    "tags": []
   },
   "source": [
    "## Import Data Analytics libraries"
   ]
  },
  {
   "cell_type": "code",
   "execution_count": 1,
   "id": "03cd951e",
   "metadata": {
    "execution": {
     "iopub.execute_input": "2022-10-08T20:04:47.231463Z",
     "iopub.status.busy": "2022-10-08T20:04:47.230294Z",
     "iopub.status.idle": "2022-10-08T20:04:48.221913Z",
     "shell.execute_reply": "2022-10-08T20:04:48.220914Z"
    },
    "papermill": {
     "duration": 1.015183,
     "end_time": "2022-10-08T20:04:48.225064",
     "exception": false,
     "start_time": "2022-10-08T20:04:47.209881",
     "status": "completed"
    },
    "tags": []
   },
   "outputs": [],
   "source": [
    "import numpy as np\n",
    "import pandas as pd\n",
    "import matplotlib.pyplot as plt\n",
    "import seaborn as sns"
   ]
  },
  {
   "cell_type": "markdown",
   "id": "3b170d3e",
   "metadata": {
    "papermill": {
     "duration": 0.020674,
     "end_time": "2022-10-08T20:04:48.265082",
     "exception": false,
     "start_time": "2022-10-08T20:04:48.244408",
     "status": "completed"
    },
    "tags": []
   },
   "source": [
    "## Import Machine Learning Libraries"
   ]
  },
  {
   "cell_type": "code",
   "execution_count": 2,
   "id": "6c6992de",
   "metadata": {
    "execution": {
     "iopub.execute_input": "2022-10-08T20:04:48.314969Z",
     "iopub.status.busy": "2022-10-08T20:04:48.314527Z",
     "iopub.status.idle": "2022-10-08T20:04:48.732436Z",
     "shell.execute_reply": "2022-10-08T20:04:48.731411Z"
    },
    "papermill": {
     "duration": 0.44462,
     "end_time": "2022-10-08T20:04:48.735261",
     "exception": false,
     "start_time": "2022-10-08T20:04:48.290641",
     "status": "completed"
    },
    "tags": []
   },
   "outputs": [],
   "source": [
    "from sklearn.pipeline import Pipeline\n",
    "\n",
    "# To perform operations on columns:\n",
    "from sklearn.compose import ColumnTransformer\n",
    "from sklearn.impute import SimpleImputer\n",
    "from sklearn.preprocessing import OneHotEncoder\n",
    "\n",
    "# ML algorithms:\n",
    "from xgboost import XGBClassifier\n",
    "\n",
    "# To evaluate performance model:\n",
    "from sklearn.model_selection import GridSearchCV, ParameterGrid\n",
    "from sklearn.metrics import confusion_matrix, accuracy_score, classification_report"
   ]
  },
  {
   "cell_type": "markdown",
   "id": "e4553546",
   "metadata": {
    "papermill": {
     "duration": 0.019894,
     "end_time": "2022-10-08T20:04:48.775611",
     "exception": false,
     "start_time": "2022-10-08T20:04:48.755717",
     "status": "completed"
    },
    "tags": []
   },
   "source": [
    "## Get file paths"
   ]
  },
  {
   "cell_type": "code",
   "execution_count": 3,
   "id": "57f2682a",
   "metadata": {
    "_kg_hide-output": true,
    "execution": {
     "iopub.execute_input": "2022-10-08T20:04:48.817988Z",
     "iopub.status.busy": "2022-10-08T20:04:48.817582Z",
     "iopub.status.idle": "2022-10-08T20:04:48.824408Z",
     "shell.execute_reply": "2022-10-08T20:04:48.823256Z"
    },
    "papermill": {
     "duration": 0.03035,
     "end_time": "2022-10-08T20:04:48.827382",
     "exception": false,
     "start_time": "2022-10-08T20:04:48.797032",
     "status": "completed"
    },
    "tags": []
   },
   "outputs": [
    {
     "name": "stdout",
     "output_type": "stream",
     "text": [
      "/kaggle/input/titanic/train.csv\n",
      "/kaggle/input/titanic/test.csv\n",
      "/kaggle/input/titanic/gender_submission.csv\n"
     ]
    }
   ],
   "source": [
    "# Running this will list all files under the input directory\n",
    "import os\n",
    "for dirname, _, filenames in os.walk('/kaggle/input'):\n",
    "    for filename in filenames:\n",
    "        print(os.path.join(dirname, filename))"
   ]
  },
  {
   "cell_type": "markdown",
   "id": "44a35c71",
   "metadata": {
    "papermill": {
     "duration": 0.019304,
     "end_time": "2022-10-08T20:04:48.868088",
     "exception": false,
     "start_time": "2022-10-08T20:04:48.848784",
     "status": "completed"
    },
    "tags": []
   },
   "source": [
    "## Read the data"
   ]
  },
  {
   "cell_type": "code",
   "execution_count": 4,
   "id": "24d7ec5c",
   "metadata": {
    "execution": {
     "iopub.execute_input": "2022-10-08T20:04:48.908384Z",
     "iopub.status.busy": "2022-10-08T20:04:48.908004Z",
     "iopub.status.idle": "2022-10-08T20:04:48.946682Z",
     "shell.execute_reply": "2022-10-08T20:04:48.945667Z"
    },
    "papermill": {
     "duration": 0.062217,
     "end_time": "2022-10-08T20:04:48.949344",
     "exception": false,
     "start_time": "2022-10-08T20:04:48.887127",
     "status": "completed"
    },
    "tags": []
   },
   "outputs": [],
   "source": [
    "X_y = pd.read_csv('/kaggle/input/titanic/train.csv', index_col='PassengerId')\n",
    "X_test = pd.read_csv('/kaggle/input/titanic/test.csv', index_col='PassengerId')"
   ]
  },
  {
   "cell_type": "markdown",
   "id": "dc5d2ebd",
   "metadata": {
    "papermill": {
     "duration": 0.019273,
     "end_time": "2022-10-08T20:04:48.988759",
     "exception": false,
     "start_time": "2022-10-08T20:04:48.969486",
     "status": "completed"
    },
    "tags": []
   },
   "source": [
    "##  Separate target from predictors"
   ]
  },
  {
   "cell_type": "code",
   "execution_count": 5,
   "id": "b3728048",
   "metadata": {
    "execution": {
     "iopub.execute_input": "2022-10-08T20:04:49.028731Z",
     "iopub.status.busy": "2022-10-08T20:04:49.028316Z",
     "iopub.status.idle": "2022-10-08T20:04:49.041696Z",
     "shell.execute_reply": "2022-10-08T20:04:49.040449Z"
    },
    "papermill": {
     "duration": 0.036004,
     "end_time": "2022-10-08T20:04:49.044005",
     "exception": false,
     "start_time": "2022-10-08T20:04:49.008001",
     "status": "completed"
    },
    "tags": []
   },
   "outputs": [],
   "source": [
    "# First remove rows with missing target\n",
    "X_y = X_y.dropna(axis=0, subset=['Survived'])\n",
    "\n",
    "y = X_y.Survived\n",
    "X = X_y.drop(['Survived'], axis=1)"
   ]
  },
  {
   "cell_type": "markdown",
   "id": "a3833820",
   "metadata": {
    "papermill": {
     "duration": 0.01874,
     "end_time": "2022-10-08T20:04:49.081865",
     "exception": false,
     "start_time": "2022-10-08T20:04:49.063125",
     "status": "completed"
    },
    "tags": []
   },
   "source": [
    "# 2) X, y Summary"
   ]
  },
  {
   "cell_type": "code",
   "execution_count": 6,
   "id": "2ba2b74a",
   "metadata": {
    "execution": {
     "iopub.execute_input": "2022-10-08T20:04:49.127284Z",
     "iopub.status.busy": "2022-10-08T20:04:49.126505Z",
     "iopub.status.idle": "2022-10-08T20:04:49.152067Z",
     "shell.execute_reply": "2022-10-08T20:04:49.151010Z"
    },
    "papermill": {
     "duration": 0.052864,
     "end_time": "2022-10-08T20:04:49.154624",
     "exception": false,
     "start_time": "2022-10-08T20:04:49.101760",
     "status": "completed"
    },
    "tags": []
   },
   "outputs": [
    {
     "data": {
      "text/html": [
       "<div>\n",
       "<style scoped>\n",
       "    .dataframe tbody tr th:only-of-type {\n",
       "        vertical-align: middle;\n",
       "    }\n",
       "\n",
       "    .dataframe tbody tr th {\n",
       "        vertical-align: top;\n",
       "    }\n",
       "\n",
       "    .dataframe thead th {\n",
       "        text-align: right;\n",
       "    }\n",
       "</style>\n",
       "<table border=\"1\" class=\"dataframe\">\n",
       "  <thead>\n",
       "    <tr style=\"text-align: right;\">\n",
       "      <th></th>\n",
       "      <th>Pclass</th>\n",
       "      <th>Name</th>\n",
       "      <th>Sex</th>\n",
       "      <th>Age</th>\n",
       "      <th>SibSp</th>\n",
       "      <th>Parch</th>\n",
       "      <th>Ticket</th>\n",
       "      <th>Fare</th>\n",
       "      <th>Cabin</th>\n",
       "      <th>Embarked</th>\n",
       "    </tr>\n",
       "    <tr>\n",
       "      <th>PassengerId</th>\n",
       "      <th></th>\n",
       "      <th></th>\n",
       "      <th></th>\n",
       "      <th></th>\n",
       "      <th></th>\n",
       "      <th></th>\n",
       "      <th></th>\n",
       "      <th></th>\n",
       "      <th></th>\n",
       "      <th></th>\n",
       "    </tr>\n",
       "  </thead>\n",
       "  <tbody>\n",
       "    <tr>\n",
       "      <th>1</th>\n",
       "      <td>3</td>\n",
       "      <td>Braund, Mr. Owen Harris</td>\n",
       "      <td>male</td>\n",
       "      <td>22.0</td>\n",
       "      <td>1</td>\n",
       "      <td>0</td>\n",
       "      <td>A/5 21171</td>\n",
       "      <td>7.2500</td>\n",
       "      <td>NaN</td>\n",
       "      <td>S</td>\n",
       "    </tr>\n",
       "    <tr>\n",
       "      <th>2</th>\n",
       "      <td>1</td>\n",
       "      <td>Cumings, Mrs. John Bradley (Florence Briggs Th...</td>\n",
       "      <td>female</td>\n",
       "      <td>38.0</td>\n",
       "      <td>1</td>\n",
       "      <td>0</td>\n",
       "      <td>PC 17599</td>\n",
       "      <td>71.2833</td>\n",
       "      <td>C85</td>\n",
       "      <td>C</td>\n",
       "    </tr>\n",
       "  </tbody>\n",
       "</table>\n",
       "</div>"
      ],
      "text/plain": [
       "             Pclass                                               Name  \\\n",
       "PassengerId                                                              \n",
       "1                 3                            Braund, Mr. Owen Harris   \n",
       "2                 1  Cumings, Mrs. John Bradley (Florence Briggs Th...   \n",
       "\n",
       "                Sex   Age  SibSp  Parch     Ticket     Fare Cabin Embarked  \n",
       "PassengerId                                                                 \n",
       "1              male  22.0      1      0  A/5 21171   7.2500   NaN        S  \n",
       "2            female  38.0      1      0   PC 17599  71.2833   C85        C  "
      ]
     },
     "execution_count": 6,
     "metadata": {},
     "output_type": "execute_result"
    }
   ],
   "source": [
    "X.head(2)"
   ]
  },
  {
   "cell_type": "code",
   "execution_count": 7,
   "id": "2c4668c9",
   "metadata": {
    "execution": {
     "iopub.execute_input": "2022-10-08T20:04:49.200688Z",
     "iopub.status.busy": "2022-10-08T20:04:49.200222Z",
     "iopub.status.idle": "2022-10-08T20:04:49.218290Z",
     "shell.execute_reply": "2022-10-08T20:04:49.216974Z"
    },
    "papermill": {
     "duration": 0.044143,
     "end_time": "2022-10-08T20:04:49.220472",
     "exception": false,
     "start_time": "2022-10-08T20:04:49.176329",
     "status": "completed"
    },
    "tags": []
   },
   "outputs": [
    {
     "name": "stdout",
     "output_type": "stream",
     "text": [
      "<class 'pandas.core.frame.DataFrame'>\n",
      "Int64Index: 891 entries, 1 to 891\n",
      "Data columns (total 10 columns):\n",
      " #   Column    Non-Null Count  Dtype  \n",
      "---  ------    --------------  -----  \n",
      " 0   Pclass    891 non-null    int64  \n",
      " 1   Name      891 non-null    object \n",
      " 2   Sex       891 non-null    object \n",
      " 3   Age       714 non-null    float64\n",
      " 4   SibSp     891 non-null    int64  \n",
      " 5   Parch     891 non-null    int64  \n",
      " 6   Ticket    891 non-null    object \n",
      " 7   Fare      891 non-null    float64\n",
      " 8   Cabin     204 non-null    object \n",
      " 9   Embarked  889 non-null    object \n",
      "dtypes: float64(2), int64(3), object(5)\n",
      "memory usage: 76.6+ KB\n"
     ]
    }
   ],
   "source": [
    "X.info()"
   ]
  },
  {
   "cell_type": "code",
   "execution_count": 8,
   "id": "2b9dcc97",
   "metadata": {
    "_kg_hide-input": true,
    "_kg_hide-output": true,
    "execution": {
     "iopub.execute_input": "2022-10-08T20:04:49.262953Z",
     "iopub.status.busy": "2022-10-08T20:04:49.262246Z",
     "iopub.status.idle": "2022-10-08T20:04:49.275652Z",
     "shell.execute_reply": "2022-10-08T20:04:49.274593Z"
    },
    "papermill": {
     "duration": 0.038371,
     "end_time": "2022-10-08T20:04:49.278334",
     "exception": false,
     "start_time": "2022-10-08T20:04:49.239963",
     "status": "completed"
    },
    "tags": []
   },
   "outputs": [
    {
     "name": "stdout",
     "output_type": "stream",
     "text": [
      "<class 'pandas.core.frame.DataFrame'>\n",
      "Int64Index: 418 entries, 892 to 1309\n",
      "Data columns (total 10 columns):\n",
      " #   Column    Non-Null Count  Dtype  \n",
      "---  ------    --------------  -----  \n",
      " 0   Pclass    418 non-null    int64  \n",
      " 1   Name      418 non-null    object \n",
      " 2   Sex       418 non-null    object \n",
      " 3   Age       332 non-null    float64\n",
      " 4   SibSp     418 non-null    int64  \n",
      " 5   Parch     418 non-null    int64  \n",
      " 6   Ticket    418 non-null    object \n",
      " 7   Fare      417 non-null    float64\n",
      " 8   Cabin     91 non-null     object \n",
      " 9   Embarked  418 non-null    object \n",
      "dtypes: float64(2), int64(3), object(5)\n",
      "memory usage: 35.9+ KB\n"
     ]
    }
   ],
   "source": [
    "X_test.info()"
   ]
  },
  {
   "cell_type": "code",
   "execution_count": 9,
   "id": "7003ca23",
   "metadata": {
    "execution": {
     "iopub.execute_input": "2022-10-08T20:04:49.319178Z",
     "iopub.status.busy": "2022-10-08T20:04:49.318661Z",
     "iopub.status.idle": "2022-10-08T20:04:49.326793Z",
     "shell.execute_reply": "2022-10-08T20:04:49.325951Z"
    },
    "papermill": {
     "duration": 0.030973,
     "end_time": "2022-10-08T20:04:49.328951",
     "exception": false,
     "start_time": "2022-10-08T20:04:49.297978",
     "status": "completed"
    },
    "tags": []
   },
   "outputs": [
    {
     "data": {
      "text/plain": [
       "PassengerId\n",
       "1    0\n",
       "2    1\n",
       "Name: Survived, dtype: int64"
      ]
     },
     "execution_count": 9,
     "metadata": {},
     "output_type": "execute_result"
    }
   ],
   "source": [
    "y.head(2)"
   ]
  },
  {
   "cell_type": "code",
   "execution_count": 10,
   "id": "c30469a2",
   "metadata": {
    "_kg_hide-input": true,
    "_kg_hide-output": true,
    "execution": {
     "iopub.execute_input": "2022-10-08T20:04:49.370735Z",
     "iopub.status.busy": "2022-10-08T20:04:49.369732Z",
     "iopub.status.idle": "2022-10-08T20:04:49.382021Z",
     "shell.execute_reply": "2022-10-08T20:04:49.380944Z"
    },
    "papermill": {
     "duration": 0.035609,
     "end_time": "2022-10-08T20:04:49.384511",
     "exception": false,
     "start_time": "2022-10-08T20:04:49.348902",
     "status": "completed"
    },
    "tags": []
   },
   "outputs": [
    {
     "data": {
      "text/plain": [
       "count    891.000000\n",
       "mean       0.383838\n",
       "std        0.486592\n",
       "min        0.000000\n",
       "25%        0.000000\n",
       "50%        0.000000\n",
       "75%        1.000000\n",
       "max        1.000000\n",
       "Name: Survived, dtype: float64"
      ]
     },
     "execution_count": 10,
     "metadata": {},
     "output_type": "execute_result"
    }
   ],
   "source": [
    "y.describe()"
   ]
  },
  {
   "cell_type": "markdown",
   "id": "98e5bf37",
   "metadata": {
    "papermill": {
     "duration": 0.019607,
     "end_time": "2022-10-08T20:04:49.424104",
     "exception": false,
     "start_time": "2022-10-08T20:04:49.404497",
     "status": "completed"
    },
    "tags": []
   },
   "source": [
    "# 3) Data Cleaning"
   ]
  },
  {
   "cell_type": "markdown",
   "id": "7b435597",
   "metadata": {
    "papermill": {
     "duration": 0.019399,
     "end_time": "2022-10-08T20:04:49.463219",
     "exception": false,
     "start_time": "2022-10-08T20:04:49.443820",
     "status": "completed"
    },
    "tags": []
   },
   "source": [
    "## Remove the columns with more than half missing values"
   ]
  },
  {
   "cell_type": "code",
   "execution_count": 11,
   "id": "04c3c03d",
   "metadata": {
    "execution": {
     "iopub.execute_input": "2022-10-08T20:04:49.504855Z",
     "iopub.status.busy": "2022-10-08T20:04:49.504445Z",
     "iopub.status.idle": "2022-10-08T20:04:49.514593Z",
     "shell.execute_reply": "2022-10-08T20:04:49.513417Z"
    },
    "papermill": {
     "duration": 0.034038,
     "end_time": "2022-10-08T20:04:49.517490",
     "exception": false,
     "start_time": "2022-10-08T20:04:49.483452",
     "status": "completed"
    },
    "tags": []
   },
   "outputs": [
    {
     "data": {
      "text/plain": [
       "Age         177\n",
       "Cabin       687\n",
       "Embarked      2\n",
       "dtype: int64"
      ]
     },
     "execution_count": 11,
     "metadata": {},
     "output_type": "execute_result"
    }
   ],
   "source": [
    "null_values = X.isnull().sum()\n",
    "null_values[null_values>0]"
   ]
  },
  {
   "cell_type": "code",
   "execution_count": 12,
   "id": "ef46f033",
   "metadata": {
    "execution": {
     "iopub.execute_input": "2022-10-08T20:04:49.560477Z",
     "iopub.status.busy": "2022-10-08T20:04:49.560092Z",
     "iopub.status.idle": "2022-10-08T20:04:49.569417Z",
     "shell.execute_reply": "2022-10-08T20:04:49.568615Z"
    },
    "papermill": {
     "duration": 0.0335,
     "end_time": "2022-10-08T20:04:49.571581",
     "exception": false,
     "start_time": "2022-10-08T20:04:49.538081",
     "status": "completed"
    },
    "tags": []
   },
   "outputs": [
    {
     "data": {
      "text/plain": [
       "Age       86\n",
       "Fare       1\n",
       "Cabin    327\n",
       "dtype: int64"
      ]
     },
     "execution_count": 12,
     "metadata": {},
     "output_type": "execute_result"
    }
   ],
   "source": [
    "null_values_test = X_test.isnull().sum()\n",
    "null_values_test[null_values_test>0]"
   ]
  },
  {
   "cell_type": "code",
   "execution_count": 13,
   "id": "c8a4cb32",
   "metadata": {
    "execution": {
     "iopub.execute_input": "2022-10-08T20:04:49.613538Z",
     "iopub.status.busy": "2022-10-08T20:04:49.613154Z",
     "iopub.status.idle": "2022-10-08T20:04:49.621887Z",
     "shell.execute_reply": "2022-10-08T20:04:49.620907Z"
    },
    "papermill": {
     "duration": 0.032372,
     "end_time": "2022-10-08T20:04:49.623935",
     "exception": false,
     "start_time": "2022-10-08T20:04:49.591563",
     "status": "completed"
    },
    "tags": []
   },
   "outputs": [
    {
     "data": {
      "text/plain": [
       "['Cabin']"
      ]
     },
     "execution_count": 13,
     "metadata": {},
     "output_type": "execute_result"
    }
   ],
   "source": [
    "null_columns = [col for col in X.columns if X[col].isnull().sum() > X.shape[0]/2]\n",
    "null_columns"
   ]
  },
  {
   "cell_type": "code",
   "execution_count": 14,
   "id": "c1c5aff6",
   "metadata": {
    "execution": {
     "iopub.execute_input": "2022-10-08T20:04:49.666469Z",
     "iopub.status.busy": "2022-10-08T20:04:49.665800Z",
     "iopub.status.idle": "2022-10-08T20:04:49.671977Z",
     "shell.execute_reply": "2022-10-08T20:04:49.671143Z"
    },
    "papermill": {
     "duration": 0.03007,
     "end_time": "2022-10-08T20:04:49.674186",
     "exception": false,
     "start_time": "2022-10-08T20:04:49.644116",
     "status": "completed"
    },
    "tags": []
   },
   "outputs": [],
   "source": [
    "X = X.drop(null_columns, axis=1)\n",
    "X_test = X_test.drop(null_columns, axis=1)"
   ]
  },
  {
   "cell_type": "markdown",
   "id": "7833276d",
   "metadata": {
    "papermill": {
     "duration": 0.019803,
     "end_time": "2022-10-08T20:04:49.714034",
     "exception": false,
     "start_time": "2022-10-08T20:04:49.694231",
     "status": "completed"
    },
    "tags": []
   },
   "source": [
    "## Casting Sex data type (from object to category)"
   ]
  },
  {
   "cell_type": "code",
   "execution_count": 15,
   "id": "846cbcdf",
   "metadata": {
    "execution": {
     "iopub.execute_input": "2022-10-08T20:04:49.755888Z",
     "iopub.status.busy": "2022-10-08T20:04:49.755304Z",
     "iopub.status.idle": "2022-10-08T20:04:49.761957Z",
     "shell.execute_reply": "2022-10-08T20:04:49.761176Z"
    },
    "papermill": {
     "duration": 0.030008,
     "end_time": "2022-10-08T20:04:49.763970",
     "exception": false,
     "start_time": "2022-10-08T20:04:49.733962",
     "status": "completed"
    },
    "tags": []
   },
   "outputs": [],
   "source": [
    "X['Sex'] = X['Sex'].astype(\"category\")\n",
    "X_test['Sex'] = X_test['Sex'].astype(\"category\")"
   ]
  },
  {
   "cell_type": "code",
   "execution_count": 16,
   "id": "6e3bb9d1",
   "metadata": {
    "execution": {
     "iopub.execute_input": "2022-10-08T20:04:49.806090Z",
     "iopub.status.busy": "2022-10-08T20:04:49.805499Z",
     "iopub.status.idle": "2022-10-08T20:04:49.811430Z",
     "shell.execute_reply": "2022-10-08T20:04:49.810402Z"
    },
    "papermill": {
     "duration": 0.029431,
     "end_time": "2022-10-08T20:04:49.813432",
     "exception": false,
     "start_time": "2022-10-08T20:04:49.784001",
     "status": "completed"
    },
    "tags": []
   },
   "outputs": [
    {
     "data": {
      "text/plain": [
       "CategoricalDtype(categories=['female', 'male'], ordered=False)"
      ]
     },
     "execution_count": 16,
     "metadata": {},
     "output_type": "execute_result"
    }
   ],
   "source": [
    "X.Sex.dtype"
   ]
  },
  {
   "cell_type": "markdown",
   "id": "77729858",
   "metadata": {
    "papermill": {
     "duration": 0.020067,
     "end_time": "2022-10-08T20:04:49.853853",
     "exception": false,
     "start_time": "2022-10-08T20:04:49.833786",
     "status": "completed"
    },
    "tags": []
   },
   "source": [
    "# 4) Feature Engineering"
   ]
  },
  {
   "cell_type": "markdown",
   "id": "959437ec",
   "metadata": {
    "papermill": {
     "duration": 0.019845,
     "end_time": "2022-10-08T20:04:49.893867",
     "exception": false,
     "start_time": "2022-10-08T20:04:49.874022",
     "status": "completed"
    },
    "tags": []
   },
   "source": [
    "## 4.1) Name Prefix"
   ]
  },
  {
   "cell_type": "code",
   "execution_count": 17,
   "id": "9a7b3908",
   "metadata": {
    "execution": {
     "iopub.execute_input": "2022-10-08T20:04:49.936867Z",
     "iopub.status.busy": "2022-10-08T20:04:49.935792Z",
     "iopub.status.idle": "2022-10-08T20:04:49.949050Z",
     "shell.execute_reply": "2022-10-08T20:04:49.948180Z"
    },
    "papermill": {
     "duration": 0.037287,
     "end_time": "2022-10-08T20:04:49.951426",
     "exception": false,
     "start_time": "2022-10-08T20:04:49.914139",
     "status": "completed"
    },
    "tags": []
   },
   "outputs": [],
   "source": [
    "X['Prefix'] = X['Name'].str.split(expand=True)[1]\n",
    "X_test['Prefix'] = X_test['Name'].str.split(expand=True)[1]"
   ]
  },
  {
   "cell_type": "code",
   "execution_count": 18,
   "id": "0c1e1cfe",
   "metadata": {
    "execution": {
     "iopub.execute_input": "2022-10-08T20:04:49.994376Z",
     "iopub.status.busy": "2022-10-08T20:04:49.993637Z",
     "iopub.status.idle": "2022-10-08T20:04:50.002354Z",
     "shell.execute_reply": "2022-10-08T20:04:50.001471Z"
    },
    "papermill": {
     "duration": 0.032555,
     "end_time": "2022-10-08T20:04:50.004308",
     "exception": false,
     "start_time": "2022-10-08T20:04:49.971753",
     "status": "completed"
    },
    "tags": []
   },
   "outputs": [
    {
     "data": {
      "text/plain": [
       "Index(['Mr.', 'Miss.', 'Mrs.', 'Master.'], dtype='object')"
      ]
     },
     "execution_count": 18,
     "metadata": {},
     "output_type": "execute_result"
    }
   ],
   "source": [
    "prefixes = X.Prefix.value_counts()\n",
    "top_prefixes = prefixes[prefixes>len(X)/25].index\n",
    "top_prefixes"
   ]
  },
  {
   "cell_type": "code",
   "execution_count": 19,
   "id": "1a72824e",
   "metadata": {
    "execution": {
     "iopub.execute_input": "2022-10-08T20:04:50.047211Z",
     "iopub.status.busy": "2022-10-08T20:04:50.046791Z",
     "iopub.status.idle": "2022-10-08T20:04:50.057123Z",
     "shell.execute_reply": "2022-10-08T20:04:50.055999Z"
    },
    "papermill": {
     "duration": 0.034628,
     "end_time": "2022-10-08T20:04:50.059520",
     "exception": false,
     "start_time": "2022-10-08T20:04:50.024892",
     "status": "completed"
    },
    "tags": []
   },
   "outputs": [
    {
     "data": {
      "text/plain": [
       "Mr.        502\n",
       "Miss.      179\n",
       "Mrs.       121\n",
       "other       49\n",
       "Master.     40\n",
       "Name: Prefix, dtype: int64"
      ]
     },
     "execution_count": 19,
     "metadata": {},
     "output_type": "execute_result"
    }
   ],
   "source": [
    "X.Prefix = X.Prefix.apply(lambda x: x if x in top_prefixes else 'other')\n",
    "X.Prefix.value_counts()"
   ]
  },
  {
   "cell_type": "code",
   "execution_count": 20,
   "id": "2078c7da",
   "metadata": {
    "_kg_hide-input": true,
    "_kg_hide-output": true,
    "execution": {
     "iopub.execute_input": "2022-10-08T20:04:50.102173Z",
     "iopub.status.busy": "2022-10-08T20:04:50.101707Z",
     "iopub.status.idle": "2022-10-08T20:04:50.112095Z",
     "shell.execute_reply": "2022-10-08T20:04:50.111131Z"
    },
    "papermill": {
     "duration": 0.0342,
     "end_time": "2022-10-08T20:04:50.114146",
     "exception": false,
     "start_time": "2022-10-08T20:04:50.079946",
     "status": "completed"
    },
    "tags": []
   },
   "outputs": [
    {
     "data": {
      "text/plain": [
       "Mr.        234\n",
       "Miss.       77\n",
       "Mrs.        70\n",
       "Master.     19\n",
       "other       18\n",
       "Name: Prefix, dtype: int64"
      ]
     },
     "execution_count": 20,
     "metadata": {},
     "output_type": "execute_result"
    }
   ],
   "source": [
    "X_test.Prefix = X_test.Prefix.apply(lambda x: x if x in top_prefixes else 'other')\n",
    "X_test.Prefix.value_counts()"
   ]
  },
  {
   "cell_type": "markdown",
   "id": "04c72e69",
   "metadata": {
    "papermill": {
     "duration": 0.021047,
     "end_time": "2022-10-08T20:04:50.156349",
     "exception": false,
     "start_time": "2022-10-08T20:04:50.135302",
     "status": "completed"
    },
    "tags": []
   },
   "source": [
    "## Imputing Age (using group means)"
   ]
  },
  {
   "cell_type": "code",
   "execution_count": 21,
   "id": "edf8fea2",
   "metadata": {
    "execution": {
     "iopub.execute_input": "2022-10-08T20:04:50.199550Z",
     "iopub.status.busy": "2022-10-08T20:04:50.198968Z",
     "iopub.status.idle": "2022-10-08T20:04:50.204821Z",
     "shell.execute_reply": "2022-10-08T20:04:50.203905Z"
    },
    "papermill": {
     "duration": 0.030415,
     "end_time": "2022-10-08T20:04:50.207354",
     "exception": false,
     "start_time": "2022-10-08T20:04:50.176939",
     "status": "completed"
    },
    "tags": []
   },
   "outputs": [
    {
     "name": "stdout",
     "output_type": "stream",
     "text": [
      "177 86\n"
     ]
    }
   ],
   "source": [
    "print(X[\"Age\"].isnull().sum(),X_test[\"Age\"].isnull().sum())"
   ]
  },
  {
   "cell_type": "code",
   "execution_count": 22,
   "id": "fffd3b8f",
   "metadata": {
    "execution": {
     "iopub.execute_input": "2022-10-08T20:04:50.250771Z",
     "iopub.status.busy": "2022-10-08T20:04:50.250175Z",
     "iopub.status.idle": "2022-10-08T20:04:50.274884Z",
     "shell.execute_reply": "2022-10-08T20:04:50.273655Z"
    },
    "papermill": {
     "duration": 0.050283,
     "end_time": "2022-10-08T20:04:50.278238",
     "exception": false,
     "start_time": "2022-10-08T20:04:50.227955",
     "status": "completed"
    },
    "tags": []
   },
   "outputs": [
    {
     "data": {
      "text/plain": [
       "Prefix   Sex     Pclass\n",
       "Master.  female  1               NaN\n",
       "                 2               NaN\n",
       "                 3               NaN\n",
       "         male    1          5.306667\n",
       "                 2          2.258889\n",
       "                 3          5.350833\n",
       "Miss.    female  1         30.000000\n",
       "                 2         22.241935\n",
       "                 3         16.186567\n",
       "         male    1               NaN\n",
       "                 2               NaN\n",
       "                 3               NaN\n",
       "Mr.      female  1               NaN\n",
       "                 2               NaN\n",
       "                 3               NaN\n",
       "         male    1         41.629412\n",
       "                 2         32.814815\n",
       "                 3         28.646119\n",
       "Mrs.     female  1         41.606061\n",
       "                 2         33.682927\n",
       "                 3         33.633333\n",
       "         male    1               NaN\n",
       "                 2               NaN\n",
       "                 3               NaN\n",
       "other    female  1         31.285714\n",
       "                 2         27.500000\n",
       "                 3         25.000000\n",
       "         male    1         47.307692\n",
       "                 2         40.555556\n",
       "                 3         30.450000\n",
       "Name: Age, dtype: float64"
      ]
     },
     "execution_count": 22,
     "metadata": {},
     "output_type": "execute_result"
    }
   ],
   "source": [
    "avg_ages = X.groupby(['Prefix','Sex','Pclass'])['Age'].mean()\n",
    "avg_ages"
   ]
  },
  {
   "cell_type": "code",
   "execution_count": 23,
   "id": "f0800df1",
   "metadata": {
    "execution": {
     "iopub.execute_input": "2022-10-08T20:04:50.338845Z",
     "iopub.status.busy": "2022-10-08T20:04:50.338142Z",
     "iopub.status.idle": "2022-10-08T20:04:50.483497Z",
     "shell.execute_reply": "2022-10-08T20:04:50.482495Z"
    },
    "papermill": {
     "duration": 0.182517,
     "end_time": "2022-10-08T20:04:50.486135",
     "exception": false,
     "start_time": "2022-10-08T20:04:50.303618",
     "status": "completed"
    },
    "tags": []
   },
   "outputs": [],
   "source": [
    "for i in X.Prefix.unique():\n",
    "    for j in X.Sex.unique():\n",
    "        for k in X.Pclass.unique():\n",
    "            value=avg_ages.loc[i,j,k]\n",
    "            X.loc[(X.Prefix==i) & (X.Sex==j) & (X.Pclass==k) & (X.Age.isnull()), ['Age']] = value\n",
    "            X_test.loc[(X_test.Prefix==i) & (X_test.Sex==j) & (X_test.Pclass==k) & (X_test.Age.isnull()), ['Age']] = value"
   ]
  },
  {
   "cell_type": "code",
   "execution_count": 24,
   "id": "14afa6c6",
   "metadata": {
    "execution": {
     "iopub.execute_input": "2022-10-08T20:04:50.529033Z",
     "iopub.status.busy": "2022-10-08T20:04:50.528604Z",
     "iopub.status.idle": "2022-10-08T20:04:50.535646Z",
     "shell.execute_reply": "2022-10-08T20:04:50.534447Z"
    },
    "papermill": {
     "duration": 0.031831,
     "end_time": "2022-10-08T20:04:50.538645",
     "exception": false,
     "start_time": "2022-10-08T20:04:50.506814",
     "status": "completed"
    },
    "tags": []
   },
   "outputs": [
    {
     "name": "stdout",
     "output_type": "stream",
     "text": [
      "0 0\n"
     ]
    }
   ],
   "source": [
    "print(X[\"Age\"].isnull().sum(),X_test[\"Age\"].isnull().sum())"
   ]
  },
  {
   "cell_type": "markdown",
   "id": "5a1d31ac",
   "metadata": {
    "papermill": {
     "duration": 0.020249,
     "end_time": "2022-10-08T20:04:50.580812",
     "exception": false,
     "start_time": "2022-10-08T20:04:50.560563",
     "status": "completed"
    },
    "tags": []
   },
   "source": [
    "## 4.2) Age Category"
   ]
  },
  {
   "cell_type": "code",
   "execution_count": 25,
   "id": "b1f94deb",
   "metadata": {
    "execution": {
     "iopub.execute_input": "2022-10-08T20:04:50.625502Z",
     "iopub.status.busy": "2022-10-08T20:04:50.624402Z",
     "iopub.status.idle": "2022-10-08T20:04:50.634909Z",
     "shell.execute_reply": "2022-10-08T20:04:50.634013Z"
    },
    "papermill": {
     "duration": 0.035254,
     "end_time": "2022-10-08T20:04:50.637258",
     "exception": false,
     "start_time": "2022-10-08T20:04:50.602004",
     "status": "completed"
    },
    "tags": []
   },
   "outputs": [],
   "source": [
    "def Age_categorise(df):\n",
    "    df['Age_Cat'] = pd.cut(df.Age,\n",
    "                         bins = [0, 10, 40, 60, 100],\n",
    "                         labels = ['child', 'young', 'adult', 'senior'])\n",
    "    \n",
    "Age_categorise(X)\n",
    "Age_categorise(X_test)"
   ]
  },
  {
   "cell_type": "code",
   "execution_count": 26,
   "id": "25ab869a",
   "metadata": {
    "execution": {
     "iopub.execute_input": "2022-10-08T20:04:50.681093Z",
     "iopub.status.busy": "2022-10-08T20:04:50.679965Z",
     "iopub.status.idle": "2022-10-08T20:04:50.687609Z",
     "shell.execute_reply": "2022-10-08T20:04:50.686377Z"
    },
    "papermill": {
     "duration": 0.032012,
     "end_time": "2022-10-08T20:04:50.690063",
     "exception": false,
     "start_time": "2022-10-08T20:04:50.658051",
     "status": "completed"
    },
    "tags": []
   },
   "outputs": [
    {
     "data": {
      "text/plain": [
       "CategoricalDtype(categories=['child', 'young', 'adult', 'senior'], ordered=True)"
      ]
     },
     "execution_count": 26,
     "metadata": {},
     "output_type": "execute_result"
    }
   ],
   "source": [
    "X['Age_Cat'].dtype"
   ]
  },
  {
   "cell_type": "code",
   "execution_count": 27,
   "id": "7cac456a",
   "metadata": {
    "execution": {
     "iopub.execute_input": "2022-10-08T20:04:50.734273Z",
     "iopub.status.busy": "2022-10-08T20:04:50.733879Z",
     "iopub.status.idle": "2022-10-08T20:04:50.742728Z",
     "shell.execute_reply": "2022-10-08T20:04:50.741908Z"
    },
    "papermill": {
     "duration": 0.033433,
     "end_time": "2022-10-08T20:04:50.744794",
     "exception": false,
     "start_time": "2022-10-08T20:04:50.711361",
     "status": "completed"
    },
    "tags": []
   },
   "outputs": [
    {
     "data": {
      "text/plain": [
       "young     643\n",
       "adult     158\n",
       "child      68\n",
       "senior     22\n",
       "Name: Age_Cat, dtype: int64"
      ]
     },
     "execution_count": 27,
     "metadata": {},
     "output_type": "execute_result"
    }
   ],
   "source": [
    "X['Age_Cat'].value_counts()"
   ]
  },
  {
   "cell_type": "code",
   "execution_count": 28,
   "id": "740a96bc",
   "metadata": {
    "_kg_hide-input": true,
    "_kg_hide-output": true,
    "execution": {
     "iopub.execute_input": "2022-10-08T20:04:50.789764Z",
     "iopub.status.busy": "2022-10-08T20:04:50.788600Z",
     "iopub.status.idle": "2022-10-08T20:04:50.798516Z",
     "shell.execute_reply": "2022-10-08T20:04:50.797416Z"
    },
    "papermill": {
     "duration": 0.034954,
     "end_time": "2022-10-08T20:04:50.800976",
     "exception": false,
     "start_time": "2022-10-08T20:04:50.766022",
     "status": "completed"
    },
    "tags": []
   },
   "outputs": [
    {
     "data": {
      "text/plain": [
       "young     307\n",
       "adult      75\n",
       "child      25\n",
       "senior     11\n",
       "Name: Age_Cat, dtype: int64"
      ]
     },
     "execution_count": 28,
     "metadata": {},
     "output_type": "execute_result"
    }
   ],
   "source": [
    "X_test['Age_Cat'].value_counts()"
   ]
  },
  {
   "cell_type": "code",
   "execution_count": 29,
   "id": "fd88b8eb",
   "metadata": {
    "execution": {
     "iopub.execute_input": "2022-10-08T20:04:50.846001Z",
     "iopub.status.busy": "2022-10-08T20:04:50.845363Z",
     "iopub.status.idle": "2022-10-08T20:04:50.852574Z",
     "shell.execute_reply": "2022-10-08T20:04:50.851654Z"
    },
    "papermill": {
     "duration": 0.032315,
     "end_time": "2022-10-08T20:04:50.854649",
     "exception": false,
     "start_time": "2022-10-08T20:04:50.822334",
     "status": "completed"
    },
    "tags": []
   },
   "outputs": [
    {
     "data": {
      "text/plain": [
       "0"
      ]
     },
     "execution_count": 29,
     "metadata": {},
     "output_type": "execute_result"
    }
   ],
   "source": [
    "X.Age_Cat.isnull().sum()"
   ]
  },
  {
   "cell_type": "markdown",
   "id": "67be79d5",
   "metadata": {
    "papermill": {
     "duration": 0.021182,
     "end_time": "2022-10-08T20:04:50.897328",
     "exception": false,
     "start_time": "2022-10-08T20:04:50.876146",
     "status": "completed"
    },
    "tags": []
   },
   "source": [
    "## 4.3) Fare Category"
   ]
  },
  {
   "cell_type": "code",
   "execution_count": 30,
   "id": "1cceacd9",
   "metadata": {
    "execution": {
     "iopub.execute_input": "2022-10-08T20:04:50.942418Z",
     "iopub.status.busy": "2022-10-08T20:04:50.941943Z",
     "iopub.status.idle": "2022-10-08T20:04:50.953680Z",
     "shell.execute_reply": "2022-10-08T20:04:50.952537Z"
    },
    "papermill": {
     "duration": 0.03664,
     "end_time": "2022-10-08T20:04:50.956044",
     "exception": false,
     "start_time": "2022-10-08T20:04:50.919404",
     "status": "completed"
    },
    "tags": []
   },
   "outputs": [
    {
     "data": {
      "text/plain": [
       "count    891.000000\n",
       "mean      32.204208\n",
       "std       49.693429\n",
       "min        0.000000\n",
       "25%        7.910400\n",
       "50%       14.454200\n",
       "75%       31.000000\n",
       "max      512.329200\n",
       "Name: Fare, dtype: float64"
      ]
     },
     "execution_count": 30,
     "metadata": {},
     "output_type": "execute_result"
    }
   ],
   "source": [
    "X.Fare.describe()"
   ]
  },
  {
   "cell_type": "code",
   "execution_count": 31,
   "id": "639872ac",
   "metadata": {
    "execution": {
     "iopub.execute_input": "2022-10-08T20:04:51.002126Z",
     "iopub.status.busy": "2022-10-08T20:04:51.001094Z",
     "iopub.status.idle": "2022-10-08T20:04:51.013528Z",
     "shell.execute_reply": "2022-10-08T20:04:51.012337Z"
    },
    "papermill": {
     "duration": 0.038458,
     "end_time": "2022-10-08T20:04:51.016197",
     "exception": false,
     "start_time": "2022-10-08T20:04:50.977739",
     "status": "completed"
    },
    "tags": []
   },
   "outputs": [],
   "source": [
    "def Fare_categorise(df):\n",
    "    df['Fare_Cat'] = pd.qcut(df.Fare,\n",
    "                         q=4,\n",
    "                         labels = ['low', 'medium', 'high', 'very_high'])\n",
    "    \n",
    "Fare_categorise(X)\n",
    "Fare_categorise(X_test)"
   ]
  },
  {
   "cell_type": "code",
   "execution_count": 32,
   "id": "eab8dba1",
   "metadata": {
    "execution": {
     "iopub.execute_input": "2022-10-08T20:04:51.060747Z",
     "iopub.status.busy": "2022-10-08T20:04:51.060322Z",
     "iopub.status.idle": "2022-10-08T20:04:51.067684Z",
     "shell.execute_reply": "2022-10-08T20:04:51.066628Z"
    },
    "papermill": {
     "duration": 0.032183,
     "end_time": "2022-10-08T20:04:51.069836",
     "exception": false,
     "start_time": "2022-10-08T20:04:51.037653",
     "status": "completed"
    },
    "tags": []
   },
   "outputs": [
    {
     "data": {
      "text/plain": [
       "CategoricalDtype(categories=['low', 'medium', 'high', 'very_high'], ordered=True)"
      ]
     },
     "execution_count": 32,
     "metadata": {},
     "output_type": "execute_result"
    }
   ],
   "source": [
    "X['Fare_Cat'].dtype"
   ]
  },
  {
   "cell_type": "code",
   "execution_count": 33,
   "id": "6cab2160",
   "metadata": {
    "execution": {
     "iopub.execute_input": "2022-10-08T20:04:51.114833Z",
     "iopub.status.busy": "2022-10-08T20:04:51.114420Z",
     "iopub.status.idle": "2022-10-08T20:04:51.124409Z",
     "shell.execute_reply": "2022-10-08T20:04:51.123300Z"
    },
    "papermill": {
     "duration": 0.035419,
     "end_time": "2022-10-08T20:04:51.126715",
     "exception": false,
     "start_time": "2022-10-08T20:04:51.091296",
     "status": "completed"
    },
    "tags": []
   },
   "outputs": [
    {
     "data": {
      "text/plain": [
       "medium       224\n",
       "low          223\n",
       "high         222\n",
       "very_high    222\n",
       "Name: Fare_Cat, dtype: int64"
      ]
     },
     "execution_count": 33,
     "metadata": {},
     "output_type": "execute_result"
    }
   ],
   "source": [
    "X['Fare_Cat'].value_counts()"
   ]
  },
  {
   "cell_type": "code",
   "execution_count": 34,
   "id": "e83e6d3d",
   "metadata": {
    "execution": {
     "iopub.execute_input": "2022-10-08T20:04:51.171502Z",
     "iopub.status.busy": "2022-10-08T20:04:51.171098Z",
     "iopub.status.idle": "2022-10-08T20:04:51.180280Z",
     "shell.execute_reply": "2022-10-08T20:04:51.179173Z"
    },
    "papermill": {
     "duration": 0.034372,
     "end_time": "2022-10-08T20:04:51.182733",
     "exception": false,
     "start_time": "2022-10-08T20:04:51.148361",
     "status": "completed"
    },
    "tags": []
   },
   "outputs": [
    {
     "data": {
      "text/plain": [
       "low          114\n",
       "high         105\n",
       "very_high    102\n",
       "medium        96\n",
       "Name: Fare_Cat, dtype: int64"
      ]
     },
     "execution_count": 34,
     "metadata": {},
     "output_type": "execute_result"
    }
   ],
   "source": [
    "X_test['Fare_Cat'].value_counts()"
   ]
  },
  {
   "cell_type": "markdown",
   "id": "5f68b5d7",
   "metadata": {
    "papermill": {
     "duration": 0.021312,
     "end_time": "2022-10-08T20:04:51.225770",
     "exception": false,
     "start_time": "2022-10-08T20:04:51.204458",
     "status": "completed"
    },
    "tags": []
   },
   "source": [
    "## 4.4) Family Size"
   ]
  },
  {
   "cell_type": "code",
   "execution_count": 35,
   "id": "1b6eb1c4",
   "metadata": {
    "execution": {
     "iopub.execute_input": "2022-10-08T20:04:51.271057Z",
     "iopub.status.busy": "2022-10-08T20:04:51.270612Z",
     "iopub.status.idle": "2022-10-08T20:04:51.282438Z",
     "shell.execute_reply": "2022-10-08T20:04:51.281357Z"
    },
    "papermill": {
     "duration": 0.037368,
     "end_time": "2022-10-08T20:04:51.284691",
     "exception": false,
     "start_time": "2022-10-08T20:04:51.247323",
     "status": "completed"
    },
    "tags": []
   },
   "outputs": [],
   "source": [
    "X['Family'] = X['SibSp'] + X['Parch']\n",
    "X_test['Family'] = X_test['SibSp'] + X_test['Parch']\n",
    "\n",
    "X = X.drop(['SibSp','Parch'],axis=1)\n",
    "X_test = X_test.drop(['SibSp','Parch'],axis=1)"
   ]
  },
  {
   "cell_type": "code",
   "execution_count": 36,
   "id": "8fc86b05",
   "metadata": {
    "execution": {
     "iopub.execute_input": "2022-10-08T20:04:51.330663Z",
     "iopub.status.busy": "2022-10-08T20:04:51.330269Z",
     "iopub.status.idle": "2022-10-08T20:04:51.338636Z",
     "shell.execute_reply": "2022-10-08T20:04:51.337590Z"
    },
    "papermill": {
     "duration": 0.034337,
     "end_time": "2022-10-08T20:04:51.340769",
     "exception": false,
     "start_time": "2022-10-08T20:04:51.306432",
     "status": "completed"
    },
    "tags": []
   },
   "outputs": [
    {
     "data": {
      "text/plain": [
       "0     537\n",
       "1     161\n",
       "2     102\n",
       "3      29\n",
       "5      22\n",
       "4      15\n",
       "6      12\n",
       "10      7\n",
       "7       6\n",
       "Name: Family, dtype: int64"
      ]
     },
     "execution_count": 36,
     "metadata": {},
     "output_type": "execute_result"
    }
   ],
   "source": [
    "X.Family.value_counts()"
   ]
  },
  {
   "cell_type": "code",
   "execution_count": 37,
   "id": "a3c6975f",
   "metadata": {
    "execution": {
     "iopub.execute_input": "2022-10-08T20:04:51.387289Z",
     "iopub.status.busy": "2022-10-08T20:04:51.386831Z",
     "iopub.status.idle": "2022-10-08T20:04:51.396483Z",
     "shell.execute_reply": "2022-10-08T20:04:51.395498Z"
    },
    "papermill": {
     "duration": 0.036069,
     "end_time": "2022-10-08T20:04:51.398879",
     "exception": false,
     "start_time": "2022-10-08T20:04:51.362810",
     "status": "completed"
    },
    "tags": []
   },
   "outputs": [],
   "source": [
    "def Categorize_Family(df):\n",
    "    df['Family_Size'] = pd.cut(df.Family,\n",
    "                         bins = [-1, .5, 2.5, 12],\n",
    "                         labels = ['alone', 'medium', 'large'])\n",
    "    \n",
    "Categorize_Family(X)\n",
    "Categorize_Family(X_test)"
   ]
  },
  {
   "cell_type": "code",
   "execution_count": 38,
   "id": "f68891e0",
   "metadata": {
    "execution": {
     "iopub.execute_input": "2022-10-08T20:04:51.444823Z",
     "iopub.status.busy": "2022-10-08T20:04:51.444433Z",
     "iopub.status.idle": "2022-10-08T20:04:51.453815Z",
     "shell.execute_reply": "2022-10-08T20:04:51.452516Z"
    },
    "papermill": {
     "duration": 0.035099,
     "end_time": "2022-10-08T20:04:51.456049",
     "exception": false,
     "start_time": "2022-10-08T20:04:51.420950",
     "status": "completed"
    },
    "tags": []
   },
   "outputs": [
    {
     "data": {
      "text/plain": [
       "alone     537\n",
       "medium    263\n",
       "large      91\n",
       "Name: Family_Size, dtype: int64"
      ]
     },
     "execution_count": 38,
     "metadata": {},
     "output_type": "execute_result"
    }
   ],
   "source": [
    "X.Family_Size.value_counts()"
   ]
  },
  {
   "cell_type": "code",
   "execution_count": 39,
   "id": "b288a24a",
   "metadata": {
    "execution": {
     "iopub.execute_input": "2022-10-08T20:04:51.501526Z",
     "iopub.status.busy": "2022-10-08T20:04:51.501108Z",
     "iopub.status.idle": "2022-10-08T20:04:51.520032Z",
     "shell.execute_reply": "2022-10-08T20:04:51.518440Z"
    },
    "papermill": {
     "duration": 0.044581,
     "end_time": "2022-10-08T20:04:51.522605",
     "exception": false,
     "start_time": "2022-10-08T20:04:51.478024",
     "status": "completed"
    },
    "tags": []
   },
   "outputs": [
    {
     "name": "stdout",
     "output_type": "stream",
     "text": [
      "<class 'pandas.core.frame.DataFrame'>\n",
      "Int64Index: 891 entries, 1 to 891\n",
      "Data columns (total 12 columns):\n",
      " #   Column       Non-Null Count  Dtype   \n",
      "---  ------       --------------  -----   \n",
      " 0   Pclass       891 non-null    int64   \n",
      " 1   Name         891 non-null    object  \n",
      " 2   Sex          891 non-null    category\n",
      " 3   Age          891 non-null    float64 \n",
      " 4   Ticket       891 non-null    object  \n",
      " 5   Fare         891 non-null    float64 \n",
      " 6   Embarked     889 non-null    object  \n",
      " 7   Prefix       891 non-null    object  \n",
      " 8   Age_Cat      891 non-null    category\n",
      " 9   Fare_Cat     891 non-null    category\n",
      " 10  Family       891 non-null    int64   \n",
      " 11  Family_Size  891 non-null    category\n",
      "dtypes: category(4), float64(2), int64(2), object(4)\n",
      "memory usage: 66.8+ KB\n"
     ]
    }
   ],
   "source": [
    "X.info()"
   ]
  },
  {
   "cell_type": "code",
   "execution_count": 40,
   "id": "9e4ce1ba",
   "metadata": {
    "_kg_hide-input": true,
    "_kg_hide-output": true,
    "execution": {
     "iopub.execute_input": "2022-10-08T20:04:51.568237Z",
     "iopub.status.busy": "2022-10-08T20:04:51.567807Z",
     "iopub.status.idle": "2022-10-08T20:04:51.578464Z",
     "shell.execute_reply": "2022-10-08T20:04:51.577352Z"
    },
    "papermill": {
     "duration": 0.036021,
     "end_time": "2022-10-08T20:04:51.580752",
     "exception": false,
     "start_time": "2022-10-08T20:04:51.544731",
     "status": "completed"
    },
    "tags": []
   },
   "outputs": [
    {
     "data": {
      "text/plain": [
       "Pclass         0\n",
       "Name           0\n",
       "Sex            0\n",
       "Age            0\n",
       "Ticket         0\n",
       "Fare           0\n",
       "Embarked       2\n",
       "Prefix         0\n",
       "Age_Cat        0\n",
       "Fare_Cat       0\n",
       "Family         0\n",
       "Family_Size    0\n",
       "dtype: int64"
      ]
     },
     "execution_count": 40,
     "metadata": {},
     "output_type": "execute_result"
    }
   ],
   "source": [
    "X.isnull().sum()"
   ]
  },
  {
   "cell_type": "code",
   "execution_count": 41,
   "id": "b79057e5",
   "metadata": {
    "_kg_hide-input": true,
    "_kg_hide-output": true,
    "execution": {
     "iopub.execute_input": "2022-10-08T20:04:51.627077Z",
     "iopub.status.busy": "2022-10-08T20:04:51.626245Z",
     "iopub.status.idle": "2022-10-08T20:04:51.637153Z",
     "shell.execute_reply": "2022-10-08T20:04:51.636090Z"
    },
    "papermill": {
     "duration": 0.036297,
     "end_time": "2022-10-08T20:04:51.639378",
     "exception": false,
     "start_time": "2022-10-08T20:04:51.603081",
     "status": "completed"
    },
    "tags": []
   },
   "outputs": [
    {
     "data": {
      "text/plain": [
       "Pclass         0\n",
       "Name           0\n",
       "Sex            0\n",
       "Age            0\n",
       "Ticket         0\n",
       "Fare           1\n",
       "Embarked       0\n",
       "Prefix         0\n",
       "Age_Cat        0\n",
       "Fare_Cat       1\n",
       "Family         0\n",
       "Family_Size    0\n",
       "dtype: int64"
      ]
     },
     "execution_count": 41,
     "metadata": {},
     "output_type": "execute_result"
    }
   ],
   "source": [
    "X_test.isnull().sum()"
   ]
  },
  {
   "cell_type": "markdown",
   "id": "7eec233d",
   "metadata": {
    "papermill": {
     "duration": 0.021515,
     "end_time": "2022-10-08T20:04:51.682857",
     "exception": false,
     "start_time": "2022-10-08T20:04:51.661342",
     "status": "completed"
    },
    "tags": []
   },
   "source": [
    "## Making ordered categories into numerical data"
   ]
  },
  {
   "cell_type": "code",
   "execution_count": 42,
   "id": "24c74a41",
   "metadata": {
    "execution": {
     "iopub.execute_input": "2022-10-08T20:04:51.728229Z",
     "iopub.status.busy": "2022-10-08T20:04:51.727793Z",
     "iopub.status.idle": "2022-10-08T20:04:51.737239Z",
     "shell.execute_reply": "2022-10-08T20:04:51.736207Z"
    },
    "papermill": {
     "duration": 0.034621,
     "end_time": "2022-10-08T20:04:51.739435",
     "exception": false,
     "start_time": "2022-10-08T20:04:51.704814",
     "status": "completed"
    },
    "tags": []
   },
   "outputs": [
    {
     "data": {
      "text/plain": [
       "object      4\n",
       "int64       2\n",
       "float64     2\n",
       "category    1\n",
       "category    1\n",
       "category    1\n",
       "category    1\n",
       "dtype: int64"
      ]
     },
     "execution_count": 42,
     "metadata": {},
     "output_type": "execute_result"
    }
   ],
   "source": [
    "X.dtypes.value_counts()"
   ]
  },
  {
   "cell_type": "code",
   "execution_count": 43,
   "id": "664b2db6",
   "metadata": {
    "execution": {
     "iopub.execute_input": "2022-10-08T20:04:51.785518Z",
     "iopub.status.busy": "2022-10-08T20:04:51.785131Z",
     "iopub.status.idle": "2022-10-08T20:04:51.793634Z",
     "shell.execute_reply": "2022-10-08T20:04:51.792538Z"
    },
    "papermill": {
     "duration": 0.033942,
     "end_time": "2022-10-08T20:04:51.795760",
     "exception": false,
     "start_time": "2022-10-08T20:04:51.761818",
     "status": "completed"
    },
    "tags": []
   },
   "outputs": [
    {
     "data": {
      "text/plain": [
       "Index(['Sex', 'Age_Cat', 'Fare_Cat', 'Family_Size'], dtype='object')"
      ]
     },
     "execution_count": 43,
     "metadata": {},
     "output_type": "execute_result"
    }
   ],
   "source": [
    "ordinal_cols = X.select_dtypes(include=['category']).columns\n",
    "ordinal_cols"
   ]
  },
  {
   "cell_type": "code",
   "execution_count": 44,
   "id": "7f5a8918",
   "metadata": {
    "execution": {
     "iopub.execute_input": "2022-10-08T20:04:51.843513Z",
     "iopub.status.busy": "2022-10-08T20:04:51.843106Z",
     "iopub.status.idle": "2022-10-08T20:04:51.854860Z",
     "shell.execute_reply": "2022-10-08T20:04:51.853974Z"
    },
    "papermill": {
     "duration": 0.038426,
     "end_time": "2022-10-08T20:04:51.856847",
     "exception": false,
     "start_time": "2022-10-08T20:04:51.818421",
     "status": "completed"
    },
    "tags": []
   },
   "outputs": [],
   "source": [
    "X.loc[:,'Age_Cat'] = X.loc[:,'Age_Cat'].replace(['child', 'young', 'adult', 'senior'], [0,1,2,3])\n",
    "X_test.loc[:,'Age_Cat'] = X_test.loc[:,'Age_Cat'].replace(['child', 'young', 'adult', 'senior'], [0,1,2,3])"
   ]
  },
  {
   "cell_type": "code",
   "execution_count": 45,
   "id": "9ed2d0bd",
   "metadata": {
    "execution": {
     "iopub.execute_input": "2022-10-08T20:04:51.902615Z",
     "iopub.status.busy": "2022-10-08T20:04:51.902199Z",
     "iopub.status.idle": "2022-10-08T20:04:51.914243Z",
     "shell.execute_reply": "2022-10-08T20:04:51.913145Z"
    },
    "papermill": {
     "duration": 0.037266,
     "end_time": "2022-10-08T20:04:51.916353",
     "exception": false,
     "start_time": "2022-10-08T20:04:51.879087",
     "status": "completed"
    },
    "tags": []
   },
   "outputs": [],
   "source": [
    "X.loc[:,'Fare_Cat'] = X.loc[:,'Fare_Cat'].replace(['low', 'medium', 'high', 'very_high'], [0,1,2,3])\n",
    "X_test.loc[:,'Fare_Cat'] = X_test.loc[:,'Fare_Cat'].replace(['low', 'medium', 'high', 'very_high'], [0,1,2,3])"
   ]
  },
  {
   "cell_type": "code",
   "execution_count": 46,
   "id": "28e9b7e8",
   "metadata": {
    "execution": {
     "iopub.execute_input": "2022-10-08T20:04:51.962507Z",
     "iopub.status.busy": "2022-10-08T20:04:51.961760Z",
     "iopub.status.idle": "2022-10-08T20:04:51.974071Z",
     "shell.execute_reply": "2022-10-08T20:04:51.972946Z"
    },
    "papermill": {
     "duration": 0.037796,
     "end_time": "2022-10-08T20:04:51.976256",
     "exception": false,
     "start_time": "2022-10-08T20:04:51.938460",
     "status": "completed"
    },
    "tags": []
   },
   "outputs": [],
   "source": [
    "X.loc[:,'Family_Size'] = X.loc[:,'Family_Size'].replace(['alone', 'medium', 'large'], [0,1,2])\n",
    "X_test.loc[:,'Family_Size'] = X_test.loc[:,'Family_Size'].replace(['alone', 'medium', 'large'], [0,1,2])"
   ]
  },
  {
   "cell_type": "markdown",
   "id": "47187555",
   "metadata": {
    "papermill": {
     "duration": 0.021959,
     "end_time": "2022-10-08T20:04:52.020714",
     "exception": false,
     "start_time": "2022-10-08T20:04:51.998755",
     "status": "completed"
    },
    "tags": []
   },
   "source": [
    "# 5) Data Visualization"
   ]
  },
  {
   "cell_type": "code",
   "execution_count": 47,
   "id": "dd5c5a88",
   "metadata": {
    "execution": {
     "iopub.execute_input": "2022-10-08T20:04:52.066936Z",
     "iopub.status.busy": "2022-10-08T20:04:52.066104Z",
     "iopub.status.idle": "2022-10-08T20:04:52.072226Z",
     "shell.execute_reply": "2022-10-08T20:04:52.071278Z"
    },
    "papermill": {
     "duration": 0.031647,
     "end_time": "2022-10-08T20:04:52.074520",
     "exception": false,
     "start_time": "2022-10-08T20:04:52.042873",
     "status": "completed"
    },
    "tags": []
   },
   "outputs": [],
   "source": [
    "Xy = X.copy()\n",
    "Xy['Survived'] = y.copy()"
   ]
  },
  {
   "cell_type": "code",
   "execution_count": 48,
   "id": "c89abddd",
   "metadata": {
    "execution": {
     "iopub.execute_input": "2022-10-08T20:04:52.121240Z",
     "iopub.status.busy": "2022-10-08T20:04:52.120815Z",
     "iopub.status.idle": "2022-10-08T20:04:52.126941Z",
     "shell.execute_reply": "2022-10-08T20:04:52.125718Z"
    },
    "papermill": {
     "duration": 0.032436,
     "end_time": "2022-10-08T20:04:52.129592",
     "exception": false,
     "start_time": "2022-10-08T20:04:52.097156",
     "status": "completed"
    },
    "tags": []
   },
   "outputs": [],
   "source": [
    "plt.rcParams.update({'figure.figsize':(7,5), 'figure.dpi':100, \"figure.autolayout\":True, 'axes.titlesize':10})"
   ]
  },
  {
   "cell_type": "code",
   "execution_count": 49,
   "id": "72440cad",
   "metadata": {
    "execution": {
     "iopub.execute_input": "2022-10-08T20:04:52.177174Z",
     "iopub.status.busy": "2022-10-08T20:04:52.176762Z",
     "iopub.status.idle": "2022-10-08T20:04:52.972954Z",
     "shell.execute_reply": "2022-10-08T20:04:52.971951Z"
    },
    "papermill": {
     "duration": 0.82259,
     "end_time": "2022-10-08T20:04:52.975563",
     "exception": false,
     "start_time": "2022-10-08T20:04:52.152973",
     "status": "completed"
    },
    "tags": []
   },
   "outputs": [
    {
     "data": {
      "image/png": "[encoded data removed]",
      "text/plain": [
       "<Figure size 700x500 with 6 Axes>"
      ]
     },
     "metadata": {
      "needs_background": "light"
     },
     "output_type": "display_data"
    }
   ],
   "source": [
    "l=['Pclass','Sex','Age_Cat','Fare_Cat','Embarked','Family_Size']\n",
    "figure, axes = plt.subplots(nrows=2, ncols=3, sharey=True, sharex=False)\n",
    "index = 0\n",
    "axes = axes.flatten()\n",
    "for axis in axes:\n",
    "    sns.countplot(x = l[index], hue = \"Survived\", data = Xy, ax=axis)\n",
    "    axis.set_title(l[index]+' vs Survived')\n",
    "    index = index+1\n",
    "plt.show()"
   ]
  },
  {
   "cell_type": "markdown",
   "id": "b8c5a0dc",
   "metadata": {
    "papermill": {
     "duration": 0.023484,
     "end_time": "2022-10-08T20:04:53.023078",
     "exception": false,
     "start_time": "2022-10-08T20:04:52.999594",
     "status": "completed"
    },
    "tags": []
   },
   "source": [
    "# 6) Feature Selection"
   ]
  },
  {
   "cell_type": "code",
   "execution_count": 50,
   "id": "999e7849",
   "metadata": {
    "execution": {
     "iopub.execute_input": "2022-10-08T20:04:53.072291Z",
     "iopub.status.busy": "2022-10-08T20:04:53.071382Z",
     "iopub.status.idle": "2022-10-08T20:04:53.079158Z",
     "shell.execute_reply": "2022-10-08T20:04:53.078408Z"
    },
    "papermill": {
     "duration": 0.034854,
     "end_time": "2022-10-08T20:04:53.081244",
     "exception": false,
     "start_time": "2022-10-08T20:04:53.046390",
     "status": "completed"
    },
    "tags": []
   },
   "outputs": [],
   "source": [
    "# Fare_Cat column will be sufficient to find the trend. So, drop Fare column.\n",
    "X = X.drop(['Age','Fare','Family','Prefix','Embarked'],axis=1)\n",
    "X_test = X_test.drop(['Age','Fare','Family','Prefix','Embarked'],axis=1)"
   ]
  },
  {
   "cell_type": "code",
   "execution_count": 51,
   "id": "62a8df8a",
   "metadata": {
    "execution": {
     "iopub.execute_input": "2022-10-08T20:04:53.129209Z",
     "iopub.status.busy": "2022-10-08T20:04:53.128281Z",
     "iopub.status.idle": "2022-10-08T20:04:53.135078Z",
     "shell.execute_reply": "2022-10-08T20:04:53.134323Z"
    },
    "papermill": {
     "duration": 0.03303,
     "end_time": "2022-10-08T20:04:53.137171",
     "exception": false,
     "start_time": "2022-10-08T20:04:53.104141",
     "status": "completed"
    },
    "tags": []
   },
   "outputs": [],
   "source": [
    "# Select categorical columns with low cardinality (number of unique values in a column)\n",
    "categorical_cols = [cname for cname in X.columns \n",
    "                    if X[cname].nunique() < 10 and\n",
    "                    X[cname].dtype in [\"object\",\"category\"]]"
   ]
  },
  {
   "cell_type": "code",
   "execution_count": 52,
   "id": "2c73cb9b",
   "metadata": {
    "execution": {
     "iopub.execute_input": "2022-10-08T20:04:53.185286Z",
     "iopub.status.busy": "2022-10-08T20:04:53.184579Z",
     "iopub.status.idle": "2022-10-08T20:04:53.189443Z",
     "shell.execute_reply": "2022-10-08T20:04:53.188540Z"
    },
    "papermill": {
     "duration": 0.031222,
     "end_time": "2022-10-08T20:04:53.191491",
     "exception": false,
     "start_time": "2022-10-08T20:04:53.160269",
     "status": "completed"
    },
    "tags": []
   },
   "outputs": [],
   "source": [
    "# Select numerical columns\n",
    "numerical_cols = [cname for cname in X.columns \n",
    "                  if X[cname].dtype in ['int64', 'float64']]"
   ]
  },
  {
   "cell_type": "code",
   "execution_count": 53,
   "id": "9531b670",
   "metadata": {
    "execution": {
     "iopub.execute_input": "2022-10-08T20:04:53.240045Z",
     "iopub.status.busy": "2022-10-08T20:04:53.239318Z",
     "iopub.status.idle": "2022-10-08T20:04:53.245684Z",
     "shell.execute_reply": "2022-10-08T20:04:53.244814Z"
    },
    "papermill": {
     "duration": 0.033078,
     "end_time": "2022-10-08T20:04:53.247819",
     "exception": false,
     "start_time": "2022-10-08T20:04:53.214741",
     "status": "completed"
    },
    "tags": []
   },
   "outputs": [],
   "source": [
    "# Keep selected columns only\n",
    "my_cols = categorical_cols + numerical_cols\n",
    "X = X[my_cols]\n",
    "X_test = X_test[my_cols]"
   ]
  },
  {
   "cell_type": "code",
   "execution_count": 54,
   "id": "8412a5c2",
   "metadata": {
    "execution": {
     "iopub.execute_input": "2022-10-08T20:04:53.295778Z",
     "iopub.status.busy": "2022-10-08T20:04:53.294997Z",
     "iopub.status.idle": "2022-10-08T20:04:53.300784Z",
     "shell.execute_reply": "2022-10-08T20:04:53.299379Z"
    },
    "papermill": {
     "duration": 0.032509,
     "end_time": "2022-10-08T20:04:53.303269",
     "exception": false,
     "start_time": "2022-10-08T20:04:53.270760",
     "status": "completed"
    },
    "tags": []
   },
   "outputs": [
    {
     "name": "stdout",
     "output_type": "stream",
     "text": [
      "1 4\n"
     ]
    }
   ],
   "source": [
    "print(len(categorical_cols),len(numerical_cols))"
   ]
  },
  {
   "cell_type": "code",
   "execution_count": 55,
   "id": "f5b14beb",
   "metadata": {
    "execution": {
     "iopub.execute_input": "2022-10-08T20:04:53.351138Z",
     "iopub.status.busy": "2022-10-08T20:04:53.350715Z",
     "iopub.status.idle": "2022-10-08T20:04:53.359422Z",
     "shell.execute_reply": "2022-10-08T20:04:53.358344Z"
    },
    "papermill": {
     "duration": 0.035355,
     "end_time": "2022-10-08T20:04:53.361914",
     "exception": false,
     "start_time": "2022-10-08T20:04:53.326559",
     "status": "completed"
    },
    "tags": []
   },
   "outputs": [
    {
     "data": {
      "text/plain": [
       "int64       4\n",
       "category    1\n",
       "dtype: int64"
      ]
     },
     "execution_count": 55,
     "metadata": {},
     "output_type": "execute_result"
    }
   ],
   "source": [
    "# Final features on which Model will be trained\n",
    "X.dtypes.value_counts()"
   ]
  },
  {
   "cell_type": "code",
   "execution_count": 56,
   "id": "f1704ee8",
   "metadata": {
    "execution": {
     "iopub.execute_input": "2022-10-08T20:04:53.411266Z",
     "iopub.status.busy": "2022-10-08T20:04:53.410832Z",
     "iopub.status.idle": "2022-10-08T20:04:53.417806Z",
     "shell.execute_reply": "2022-10-08T20:04:53.416761Z"
    },
    "papermill": {
     "duration": 0.034656,
     "end_time": "2022-10-08T20:04:53.420151",
     "exception": false,
     "start_time": "2022-10-08T20:04:53.385495",
     "status": "completed"
    },
    "tags": []
   },
   "outputs": [
    {
     "data": {
      "text/plain": [
       "Index(['Sex', 'Pclass', 'Age_Cat', 'Fare_Cat', 'Family_Size'], dtype='object')"
      ]
     },
     "execution_count": 56,
     "metadata": {},
     "output_type": "execute_result"
    }
   ],
   "source": [
    "X.columns"
   ]
  },
  {
   "cell_type": "code",
   "execution_count": 57,
   "id": "a1f283ed",
   "metadata": {
    "execution": {
     "iopub.execute_input": "2022-10-08T20:04:53.468824Z",
     "iopub.status.busy": "2022-10-08T20:04:53.467816Z",
     "iopub.status.idle": "2022-10-08T20:04:53.479694Z",
     "shell.execute_reply": "2022-10-08T20:04:53.478762Z"
    },
    "papermill": {
     "duration": 0.038273,
     "end_time": "2022-10-08T20:04:53.481737",
     "exception": false,
     "start_time": "2022-10-08T20:04:53.443464",
     "status": "completed"
    },
    "tags": []
   },
   "outputs": [
    {
     "data": {
      "text/html": [
       "<div>\n",
       "<style scoped>\n",
       "    .dataframe tbody tr th:only-of-type {\n",
       "        vertical-align: middle;\n",
       "    }\n",
       "\n",
       "    .dataframe tbody tr th {\n",
       "        vertical-align: top;\n",
       "    }\n",
       "\n",
       "    .dataframe thead th {\n",
       "        text-align: right;\n",
       "    }\n",
       "</style>\n",
       "<table border=\"1\" class=\"dataframe\">\n",
       "  <thead>\n",
       "    <tr style=\"text-align: right;\">\n",
       "      <th></th>\n",
       "      <th>Sex</th>\n",
       "      <th>Pclass</th>\n",
       "      <th>Age_Cat</th>\n",
       "      <th>Fare_Cat</th>\n",
       "      <th>Family_Size</th>\n",
       "    </tr>\n",
       "    <tr>\n",
       "      <th>PassengerId</th>\n",
       "      <th></th>\n",
       "      <th></th>\n",
       "      <th></th>\n",
       "      <th></th>\n",
       "      <th></th>\n",
       "    </tr>\n",
       "  </thead>\n",
       "  <tbody>\n",
       "    <tr>\n",
       "      <th>892</th>\n",
       "      <td>male</td>\n",
       "      <td>3</td>\n",
       "      <td>1</td>\n",
       "      <td>0.0</td>\n",
       "      <td>0</td>\n",
       "    </tr>\n",
       "    <tr>\n",
       "      <th>893</th>\n",
       "      <td>female</td>\n",
       "      <td>3</td>\n",
       "      <td>2</td>\n",
       "      <td>0.0</td>\n",
       "      <td>1</td>\n",
       "    </tr>\n",
       "  </tbody>\n",
       "</table>\n",
       "</div>"
      ],
      "text/plain": [
       "                Sex  Pclass  Age_Cat  Fare_Cat  Family_Size\n",
       "PassengerId                                                \n",
       "892            male       3        1       0.0            0\n",
       "893          female       3        2       0.0            1"
      ]
     },
     "execution_count": 57,
     "metadata": {},
     "output_type": "execute_result"
    }
   ],
   "source": [
    "X_test.head(2)"
   ]
  },
  {
   "cell_type": "markdown",
   "id": "3a598c15",
   "metadata": {
    "papermill": {
     "duration": 0.023047,
     "end_time": "2022-10-08T20:04:53.528110",
     "exception": false,
     "start_time": "2022-10-08T20:04:53.505063",
     "status": "completed"
    },
    "tags": []
   },
   "source": [
    "# 7) Model Creation"
   ]
  },
  {
   "cell_type": "markdown",
   "id": "1c83545d",
   "metadata": {
    "papermill": {
     "duration": 0.023962,
     "end_time": "2022-10-08T20:04:53.575250",
     "exception": false,
     "start_time": "2022-10-08T20:04:53.551288",
     "status": "completed"
    },
    "tags": []
   },
   "source": [
    "## Preprocessing Pipelines"
   ]
  },
  {
   "cell_type": "code",
   "execution_count": 58,
   "id": "4f96250a",
   "metadata": {
    "execution": {
     "iopub.execute_input": "2022-10-08T20:04:53.628185Z",
     "iopub.status.busy": "2022-10-08T20:04:53.627766Z",
     "iopub.status.idle": "2022-10-08T20:04:53.632171Z",
     "shell.execute_reply": "2022-10-08T20:04:53.631050Z"
    },
    "papermill": {
     "duration": 0.035768,
     "end_time": "2022-10-08T20:04:53.634539",
     "exception": false,
     "start_time": "2022-10-08T20:04:53.598771",
     "status": "completed"
    },
    "tags": []
   },
   "outputs": [],
   "source": [
    "# Preprocessing for numerical data\n",
    "numerical_transformer = SimpleImputer(strategy='median')"
   ]
  },
  {
   "cell_type": "code",
   "execution_count": 59,
   "id": "755a2dbc",
   "metadata": {
    "execution": {
     "iopub.execute_input": "2022-10-08T20:04:53.691802Z",
     "iopub.status.busy": "2022-10-08T20:04:53.690900Z",
     "iopub.status.idle": "2022-10-08T20:04:53.696850Z",
     "shell.execute_reply": "2022-10-08T20:04:53.695876Z"
    },
    "papermill": {
     "duration": 0.03368,
     "end_time": "2022-10-08T20:04:53.699066",
     "exception": false,
     "start_time": "2022-10-08T20:04:53.665386",
     "status": "completed"
    },
    "tags": []
   },
   "outputs": [],
   "source": [
    "# Preprocessing for categorical data\n",
    "categorical_transformer = Pipeline(steps=[\n",
    "    ('imputer', SimpleImputer(strategy='most_frequent')),\n",
    "    ('onehot', OneHotEncoder(handle_unknown='ignore'))\n",
    "])"
   ]
  },
  {
   "cell_type": "code",
   "execution_count": 60,
   "id": "4656f566",
   "metadata": {
    "execution": {
     "iopub.execute_input": "2022-10-08T20:04:53.754111Z",
     "iopub.status.busy": "2022-10-08T20:04:53.753396Z",
     "iopub.status.idle": "2022-10-08T20:04:53.758789Z",
     "shell.execute_reply": "2022-10-08T20:04:53.757732Z"
    },
    "papermill": {
     "duration": 0.038067,
     "end_time": "2022-10-08T20:04:53.761050",
     "exception": false,
     "start_time": "2022-10-08T20:04:53.722983",
     "status": "completed"
    },
    "tags": []
   },
   "outputs": [],
   "source": [
    "# Bundle preprocessing for numerical and categorical data\n",
    "preprocessor = ColumnTransformer(\n",
    "    transformers=[\n",
    "        ('num', numerical_transformer, numerical_cols),\n",
    "        ('cat', categorical_transformer, categorical_cols)\n",
    "    ])"
   ]
  },
  {
   "cell_type": "markdown",
   "id": "136cd26c",
   "metadata": {
    "papermill": {
     "duration": 0.024936,
     "end_time": "2022-10-08T20:04:53.810345",
     "exception": false,
     "start_time": "2022-10-08T20:04:53.785409",
     "status": "completed"
    },
    "tags": []
   },
   "source": [
    "## Model Pipeline"
   ]
  },
  {
   "cell_type": "code",
   "execution_count": 61,
   "id": "6a0fff96",
   "metadata": {
    "execution": {
     "iopub.execute_input": "2022-10-08T20:04:53.866994Z",
     "iopub.status.busy": "2022-10-08T20:04:53.866045Z",
     "iopub.status.idle": "2022-10-08T20:04:53.873398Z",
     "shell.execute_reply": "2022-10-08T20:04:53.872546Z"
    },
    "papermill": {
     "duration": 0.040595,
     "end_time": "2022-10-08T20:04:53.875667",
     "exception": false,
     "start_time": "2022-10-08T20:04:53.835072",
     "status": "completed"
    },
    "tags": []
   },
   "outputs": [],
   "source": [
    "# Create object of XGBClassifier class\n",
    "xgb = XGBClassifier()\n",
    "\n",
    "# Bundle preprocessing and modeling code in a pipeline\n",
    "classifier = Pipeline(steps=[('preprocessor', preprocessor),\n",
    "                      ('model', xgb)\n",
    "                     ])"
   ]
  },
  {
   "cell_type": "markdown",
   "id": "6fc47408",
   "metadata": {
    "papermill": {
     "duration": 0.024392,
     "end_time": "2022-10-08T20:04:53.923857",
     "exception": false,
     "start_time": "2022-10-08T20:04:53.899465",
     "status": "completed"
    },
    "tags": []
   },
   "source": [
    "## Visualize the pipeline"
   ]
  },
  {
   "cell_type": "code",
   "execution_count": 62,
   "id": "79321410",
   "metadata": {
    "execution": {
     "iopub.execute_input": "2022-10-08T20:04:53.978089Z",
     "iopub.status.busy": "2022-10-08T20:04:53.977330Z",
     "iopub.status.idle": "2022-10-08T20:04:54.051788Z",
     "shell.execute_reply": "2022-10-08T20:04:54.050644Z"
    },
    "papermill": {
     "duration": 0.105218,
     "end_time": "2022-10-08T20:04:54.054812",
     "exception": false,
     "start_time": "2022-10-08T20:04:53.949594",
     "status": "completed"
    },
    "tags": []
   },
   "outputs": [
    {
     "data": {
      "text/html": [
       "<style>#sk-7a1dfb9b-a488-43aa-a8b0-486910730546 {color: black;background-color: white;}#sk-7a1dfb9b-a488-43aa-a8b0-486910730546 pre{padding: 0;}#sk-7a1dfb9b-a488-43aa-a8b0-486910730546 div.sk-toggleable {background-color: white;}#sk-7a1dfb9b-a488-43aa-a8b0-486910730546 label.sk-toggleable__label {cursor: pointer;display: block;width: 100%;margin-bottom: 0;padding: 0.3em;box-sizing: border-box;text-align: center;}#sk-7a1dfb9b-a488-43aa-a8b0-486910730546 label.sk-toggleable__label-arrow:before {content: \"▸\";float: left;margin-right: 0.25em;color: #696969;}#sk-7a1dfb9b-a488-43aa-a8b0-486910730546 label.sk-toggleable__label-arrow:hover:before {color: black;}#sk-7a1dfb9b-a488-43aa-a8b0-486910730546 div.sk-estimator:hover label.sk-toggleable__label-arrow:before {color: black;}#sk-7a1dfb9b-a488-43aa-a8b0-486910730546 div.sk-toggleable__content {max-height: 0;max-width: 0;overflow: hidden;text-align: left;background-color: #f0f8ff;}#sk-7a1dfb9b-a488-43aa-a8b0-486910730546 div.sk-toggleable__content pre {margin: 0.2em;color: black;border-radius: 0.25em;background-color: #f0f8ff;}#sk-7a1dfb9b-a488-43aa-a8b0-486910730546 input.sk-toggleable__control:checked~div.sk-toggleable__content {max-height: 200px;max-width: 100%;overflow: auto;}#sk-7a1dfb9b-a488-43aa-a8b0-486910730546 input.sk-toggleable__control:checked~label.sk-toggleable__label-arrow:before {content: \"▾\";}#sk-7a1dfb9b-a488-43aa-a8b0-486910730546 div.sk-estimator input.sk-toggleable__control:checked~label.sk-toggleable__label {background-color: #d4ebff;}#sk-7a1dfb9b-a488-43aa-a8b0-486910730546 div.sk-label input.sk-toggleable__control:checked~label.sk-toggleable__label {background-color: #d4ebff;}#sk-7a1dfb9b-a488-43aa-a8b0-486910730546 input.sk-hidden--visually {border: 0;clip: rect(1px 1px 1px 1px);clip: rect(1px, 1px, 1px, 1px);height: 1px;margin: -1px;overflow: hidden;padding: 0;position: absolute;width: 1px;}#sk-7a1dfb9b-a488-43aa-a8b0-486910730546 div.sk-estimator {font-family: monospace;background-color: #f0f8ff;border: 1px dotted black;border-radius: 0.25em;box-sizing: border-box;margin-bottom: 0.5em;}#sk-7a1dfb9b-a488-43aa-a8b0-486910730546 div.sk-estimator:hover {background-color: #d4ebff;}#sk-7a1dfb9b-a488-43aa-a8b0-486910730546 div.sk-parallel-item::after {content: \"\";width: 100%;border-bottom: 1px solid gray;flex-grow: 1;}#sk-7a1dfb9b-a488-43aa-a8b0-486910730546 div.sk-label:hover label.sk-toggleable__label {background-color: #d4ebff;}#sk-7a1dfb9b-a488-43aa-a8b0-486910730546 div.sk-serial::before {content: \"\";position: absolute;border-left: 1px solid gray;box-sizing: border-box;top: 2em;bottom: 0;left: 50%;}#sk-7a1dfb9b-a488-43aa-a8b0-486910730546 div.sk-serial {display: flex;flex-direction: column;align-items: center;background-color: white;padding-right: 0.2em;padding-left: 0.2em;}#sk-7a1dfb9b-a488-43aa-a8b0-486910730546 div.sk-item {z-index: 1;}#sk-7a1dfb9b-a488-43aa-a8b0-486910730546 div.sk-parallel {display: flex;align-items: stretch;justify-content: center;background-color: white;}#sk-7a1dfb9b-a488-43aa-a8b0-486910730546 div.sk-parallel::before {content: \"\";position: absolute;border-left: 1px solid gray;box-sizing: border-box;top: 2em;bottom: 0;left: 50%;}#sk-7a1dfb9b-a488-43aa-a8b0-486910730546 div.sk-parallel-item {display: flex;flex-direction: column;position: relative;background-color: white;}#sk-7a1dfb9b-a488-43aa-a8b0-486910730546 div.sk-parallel-item:first-child::after {align-self: flex-end;width: 50%;}#sk-7a1dfb9b-a488-43aa-a8b0-486910730546 div.sk-parallel-item:last-child::after {align-self: flex-start;width: 50%;}#sk-7a1dfb9b-a488-43aa-a8b0-486910730546 div.sk-parallel-item:only-child::after {width: 0;}#sk-7a1dfb9b-a488-43aa-a8b0-486910730546 div.sk-dashed-wrapped {border: 1px dashed gray;margin: 0 0.4em 0.5em 0.4em;box-sizing: border-box;padding-bottom: 0.4em;background-color: white;position: relative;}#sk-7a1dfb9b-a488-43aa-a8b0-486910730546 div.sk-label label {font-family: monospace;font-weight: bold;background-color: white;display: inline-block;line-height: 1.2em;}#sk-7a1dfb9b-a488-43aa-a8b0-486910730546 div.sk-label-container {position: relative;z-index: 2;text-align: center;}#sk-7a1dfb9b-a488-43aa-a8b0-486910730546 div.sk-container {/* jupyter's `normalize.less` sets `[hidden] { display: none; }` but bootstrap.min.css set `[hidden] { display: none !important; }` so we also need the `!important` here to be able to override the default hidden behavior on the sphinx rendered scikit-learn.org. See: https://github.com/scikit-learn/scikit-learn/issues/21755 */display: inline-block !important;position: relative;}#sk-7a1dfb9b-a488-43aa-a8b0-486910730546 div.sk-text-repr-fallback {display: none;}</style><div id=\"sk-7a1dfb9b-a488-43aa-a8b0-486910730546\" class=\"sk-top-container\"><div class=\"sk-text-repr-fallback\"><pre>Pipeline(steps=[(&#x27;preprocessor&#x27;,\n",
       "                 ColumnTransformer(transformers=[(&#x27;num&#x27;,\n",
       "                                                  SimpleImputer(strategy=&#x27;median&#x27;),\n",
       "                                                  [&#x27;Pclass&#x27;, &#x27;Age_Cat&#x27;,\n",
       "                                                   &#x27;Fare_Cat&#x27;, &#x27;Family_Size&#x27;]),\n",
       "                                                 (&#x27;cat&#x27;,\n",
       "                                                  Pipeline(steps=[(&#x27;imputer&#x27;,\n",
       "                                                                   SimpleImputer(strategy=&#x27;most_frequent&#x27;)),\n",
       "                                                                  (&#x27;onehot&#x27;,\n",
       "                                                                   OneHotEncoder(handle_unknown=&#x27;ignore&#x27;))]),\n",
       "                                                  [&#x27;Sex&#x27;])])),\n",
       "                (&#x27;model&#x27;,\n",
       "                 XGBClassifier(base_score=None, booster=None, callback...\n",
       "                               gamma=None, gpu_id=None, grow_policy=None,\n",
       "                               importance_type=None,\n",
       "                               interaction_constraints=None, learning_rate=None,\n",
       "                               max_bin=None, max_cat_to_onehot=None,\n",
       "                               max_delta_step=None, max_depth=None,\n",
       "                               max_leaves=None, min_child_weight=None,\n",
       "                               missing=nan, monotone_constraints=None,\n",
       "                               n_estimators=100, n_jobs=None,\n",
       "                               num_parallel_tree=None, predictor=None,\n",
       "                               random_state=None, reg_alpha=None,\n",
       "                               reg_lambda=None, ...))])</pre><b>Please rerun this cell to show the HTML repr or trust the notebook.</b></div><div class=\"sk-container\" hidden><div class=\"sk-item sk-dashed-wrapped\"><div class=\"sk-label-container\"><div class=\"sk-label sk-toggleable\"><input class=\"sk-toggleable__control sk-hidden--visually\" id=\"26a24277-06c8-4a09-b5a0-deb57be447bd\" type=\"checkbox\" ><label for=\"26a24277-06c8-4a09-b5a0-deb57be447bd\" class=\"sk-toggleable__label sk-toggleable__label-arrow\">Pipeline</label><div class=\"sk-toggleable__content\"><pre>Pipeline(steps=[(&#x27;preprocessor&#x27;,\n",
       "                 ColumnTransformer(transformers=[(&#x27;num&#x27;,\n",
       "                                                  SimpleImputer(strategy=&#x27;median&#x27;),\n",
       "                                                  [&#x27;Pclass&#x27;, &#x27;Age_Cat&#x27;,\n",
       "                                                   &#x27;Fare_Cat&#x27;, &#x27;Family_Size&#x27;]),\n",
       "                                                 (&#x27;cat&#x27;,\n",
       "                                                  Pipeline(steps=[(&#x27;imputer&#x27;,\n",
       "                                                                   SimpleImputer(strategy=&#x27;most_frequent&#x27;)),\n",
       "                                                                  (&#x27;onehot&#x27;,\n",
       "                                                                   OneHotEncoder(handle_unknown=&#x27;ignore&#x27;))]),\n",
       "                                                  [&#x27;Sex&#x27;])])),\n",
       "                (&#x27;model&#x27;,\n",
       "                 XGBClassifier(base_score=None, booster=None, callback...\n",
       "                               gamma=None, gpu_id=None, grow_policy=None,\n",
       "                               importance_type=None,\n",
       "                               interaction_constraints=None, learning_rate=None,\n",
       "                               max_bin=None, max_cat_to_onehot=None,\n",
       "                               max_delta_step=None, max_depth=None,\n",
       "                               max_leaves=None, min_child_weight=None,\n",
       "                               missing=nan, monotone_constraints=None,\n",
       "                               n_estimators=100, n_jobs=None,\n",
       "                               num_parallel_tree=None, predictor=None,\n",
       "                               random_state=None, reg_alpha=None,\n",
       "                               reg_lambda=None, ...))])</pre></div></div></div><div class=\"sk-serial\"><div class=\"sk-item sk-dashed-wrapped\"><div class=\"sk-label-container\"><div class=\"sk-label sk-toggleable\"><input class=\"sk-toggleable__control sk-hidden--visually\" id=\"f7f4706a-3fa6-482a-965e-da2d3f13c6b5\" type=\"checkbox\" ><label for=\"f7f4706a-3fa6-482a-965e-da2d3f13c6b5\" class=\"sk-toggleable__label sk-toggleable__label-arrow\">preprocessor: ColumnTransformer</label><div class=\"sk-toggleable__content\"><pre>ColumnTransformer(transformers=[(&#x27;num&#x27;, SimpleImputer(strategy=&#x27;median&#x27;),\n",
       "                                 [&#x27;Pclass&#x27;, &#x27;Age_Cat&#x27;, &#x27;Fare_Cat&#x27;,\n",
       "                                  &#x27;Family_Size&#x27;]),\n",
       "                                (&#x27;cat&#x27;,\n",
       "                                 Pipeline(steps=[(&#x27;imputer&#x27;,\n",
       "                                                  SimpleImputer(strategy=&#x27;most_frequent&#x27;)),\n",
       "                                                 (&#x27;onehot&#x27;,\n",
       "                                                  OneHotEncoder(handle_unknown=&#x27;ignore&#x27;))]),\n",
       "                                 [&#x27;Sex&#x27;])])</pre></div></div></div><div class=\"sk-parallel\"><div class=\"sk-parallel-item\"><div class=\"sk-item\"><div class=\"sk-label-container\"><div class=\"sk-label sk-toggleable\"><input class=\"sk-toggleable__control sk-hidden--visually\" id=\"9c9f35af-a526-43a9-b67b-623feb5f4b54\" type=\"checkbox\" ><label for=\"9c9f35af-a526-43a9-b67b-623feb5f4b54\" class=\"sk-toggleable__label sk-toggleable__label-arrow\">num</label><div class=\"sk-toggleable__content\"><pre>[&#x27;Pclass&#x27;, &#x27;Age_Cat&#x27;, &#x27;Fare_Cat&#x27;, &#x27;Family_Size&#x27;]</pre></div></div></div><div class=\"sk-serial\"><div class=\"sk-item\"><div class=\"sk-estimator sk-toggleable\"><input class=\"sk-toggleable__control sk-hidden--visually\" id=\"d65abc58-7061-4567-904c-90df905491bb\" type=\"checkbox\" ><label for=\"d65abc58-7061-4567-904c-90df905491bb\" class=\"sk-toggleable__label sk-toggleable__label-arrow\">SimpleImputer</label><div class=\"sk-toggleable__content\"><pre>SimpleImputer(strategy=&#x27;median&#x27;)</pre></div></div></div></div></div></div><div class=\"sk-parallel-item\"><div class=\"sk-item\"><div class=\"sk-label-container\"><div class=\"sk-label sk-toggleable\"><input class=\"sk-toggleable__control sk-hidden--visually\" id=\"ba279702-3102-4971-9caf-ef2fc23538e3\" type=\"checkbox\" ><label for=\"ba279702-3102-4971-9caf-ef2fc23538e3\" class=\"sk-toggleable__label sk-toggleable__label-arrow\">cat</label><div class=\"sk-toggleable__content\"><pre>[&#x27;Sex&#x27;]</pre></div></div></div><div class=\"sk-serial\"><div class=\"sk-item\"><div class=\"sk-serial\"><div class=\"sk-item\"><div class=\"sk-estimator sk-toggleable\"><input class=\"sk-toggleable__control sk-hidden--visually\" id=\"c2183a28-de25-4ec2-9049-b6a17a5f634b\" type=\"checkbox\" ><label for=\"c2183a28-de25-4ec2-9049-b6a17a5f634b\" class=\"sk-toggleable__label sk-toggleable__label-arrow\">SimpleImputer</label><div class=\"sk-toggleable__content\"><pre>SimpleImputer(strategy=&#x27;most_frequent&#x27;)</pre></div></div></div><div class=\"sk-item\"><div class=\"sk-estimator sk-toggleable\"><input class=\"sk-toggleable__control sk-hidden--visually\" id=\"2df941ac-517e-4262-b533-5375d1fb6f18\" type=\"checkbox\" ><label for=\"2df941ac-517e-4262-b533-5375d1fb6f18\" class=\"sk-toggleable__label sk-toggleable__label-arrow\">OneHotEncoder</label><div class=\"sk-toggleable__content\"><pre>OneHotEncoder(handle_unknown=&#x27;ignore&#x27;)</pre></div></div></div></div></div></div></div></div></div></div><div class=\"sk-item\"><div class=\"sk-estimator sk-toggleable\"><input class=\"sk-toggleable__control sk-hidden--visually\" id=\"5bf6ec29-c667-4b50-93cf-a6e714d5a104\" type=\"checkbox\" ><label for=\"5bf6ec29-c667-4b50-93cf-a6e714d5a104\" class=\"sk-toggleable__label sk-toggleable__label-arrow\">XGBClassifier</label><div class=\"sk-toggleable__content\"><pre>XGBClassifier(base_score=None, booster=None, callbacks=None,\n",
       "              colsample_bylevel=None, colsample_bynode=None,\n",
       "              colsample_bytree=None, early_stopping_rounds=None,\n",
       "              enable_categorical=False, eval_metric=None, gamma=None,\n",
       "              gpu_id=None, grow_policy=None, importance_type=None,\n",
       "              interaction_constraints=None, learning_rate=None, max_bin=None,\n",
       "              max_cat_to_onehot=None, max_delta_step=None, max_depth=None,\n",
       "              max_leaves=None, min_child_weight=None, missing=nan,\n",
       "              monotone_constraints=None, n_estimators=100, n_jobs=None,\n",
       "              num_parallel_tree=None, predictor=None, random_state=None,\n",
       "              reg_alpha=None, reg_lambda=None, ...)</pre></div></div></div></div></div></div></div>"
      ],
      "text/plain": [
       "Pipeline(steps=[('preprocessor',\n",
       "                 ColumnTransformer(transformers=[('num',\n",
       "                                                  SimpleImputer(strategy='median'),\n",
       "                                                  ['Pclass', 'Age_Cat',\n",
       "                                                   'Fare_Cat', 'Family_Size']),\n",
       "                                                 ('cat',\n",
       "                                                  Pipeline(steps=[('imputer',\n",
       "                                                                   SimpleImputer(strategy='most_frequent')),\n",
       "                                                                  ('onehot',\n",
       "                                                                   OneHotEncoder(handle_unknown='ignore'))]),\n",
       "                                                  ['Sex'])])),\n",
       "                ('model',\n",
       "                 XGBClassifier(base_score=None, booster=None, callback...\n",
       "                               gamma=None, gpu_id=None, grow_policy=None,\n",
       "                               importance_type=None,\n",
       "                               interaction_constraints=None, learning_rate=None,\n",
       "                               max_bin=None, max_cat_to_onehot=None,\n",
       "                               max_delta_step=None, max_depth=None,\n",
       "                               max_leaves=None, min_child_weight=None,\n",
       "                               missing=nan, monotone_constraints=None,\n",
       "                               n_estimators=100, n_jobs=None,\n",
       "                               num_parallel_tree=None, predictor=None,\n",
       "                               random_state=None, reg_alpha=None,\n",
       "                               reg_lambda=None, ...))])"
      ]
     },
     "execution_count": 62,
     "metadata": {},
     "output_type": "execute_result"
    }
   ],
   "source": [
    "from sklearn import set_config\n",
    "set_config(display='diagram')\n",
    "classifier"
   ]
  },
  {
   "cell_type": "markdown",
   "id": "077335e9",
   "metadata": {
    "papermill": {
     "duration": 0.024143,
     "end_time": "2022-10-08T20:04:54.115733",
     "exception": false,
     "start_time": "2022-10-08T20:04:54.091590",
     "status": "completed"
    },
    "tags": []
   },
   "source": [
    "# 8) Training and Testing Model"
   ]
  },
  {
   "cell_type": "markdown",
   "id": "06e3cf84",
   "metadata": {
    "papermill": {
     "duration": 0.023851,
     "end_time": "2022-10-08T20:04:54.163888",
     "exception": false,
     "start_time": "2022-10-08T20:04:54.140037",
     "status": "completed"
    },
    "tags": []
   },
   "source": [
    "## Grid Search & Cross Validation"
   ]
  },
  {
   "cell_type": "code",
   "execution_count": 63,
   "id": "6f806c1a",
   "metadata": {
    "_kg_hide-output": true,
    "execution": {
     "iopub.execute_input": "2022-10-08T20:04:54.215177Z",
     "iopub.status.busy": "2022-10-08T20:04:54.214249Z",
     "iopub.status.idle": "2022-10-08T20:04:54.223142Z",
     "shell.execute_reply": "2022-10-08T20:04:54.222023Z"
    },
    "papermill": {
     "duration": 0.03697,
     "end_time": "2022-10-08T20:04:54.225289",
     "exception": false,
     "start_time": "2022-10-08T20:04:54.188319",
     "status": "completed"
    },
    "tags": []
   },
   "outputs": [
    {
     "data": {
      "text/plain": [
       "dict_keys(['memory', 'steps', 'verbose', 'preprocessor', 'model', 'preprocessor__n_jobs', 'preprocessor__remainder', 'preprocessor__sparse_threshold', 'preprocessor__transformer_weights', 'preprocessor__transformers', 'preprocessor__verbose', 'preprocessor__verbose_feature_names_out', 'preprocessor__num', 'preprocessor__cat', 'preprocessor__num__add_indicator', 'preprocessor__num__copy', 'preprocessor__num__fill_value', 'preprocessor__num__missing_values', 'preprocessor__num__strategy', 'preprocessor__num__verbose', 'preprocessor__cat__memory', 'preprocessor__cat__steps', 'preprocessor__cat__verbose', 'preprocessor__cat__imputer', 'preprocessor__cat__onehot', 'preprocessor__cat__imputer__add_indicator', 'preprocessor__cat__imputer__copy', 'preprocessor__cat__imputer__fill_value', 'preprocessor__cat__imputer__missing_values', 'preprocessor__cat__imputer__strategy', 'preprocessor__cat__imputer__verbose', 'preprocessor__cat__onehot__categories', 'preprocessor__cat__onehot__drop', 'preprocessor__cat__onehot__dtype', 'preprocessor__cat__onehot__handle_unknown', 'preprocessor__cat__onehot__sparse', 'model__objective', 'model__use_label_encoder', 'model__base_score', 'model__booster', 'model__callbacks', 'model__colsample_bylevel', 'model__colsample_bynode', 'model__colsample_bytree', 'model__early_stopping_rounds', 'model__enable_categorical', 'model__eval_metric', 'model__gamma', 'model__gpu_id', 'model__grow_policy', 'model__importance_type', 'model__interaction_constraints', 'model__learning_rate', 'model__max_bin', 'model__max_cat_to_onehot', 'model__max_delta_step', 'model__max_depth', 'model__max_leaves', 'model__min_child_weight', 'model__missing', 'model__monotone_constraints', 'model__n_estimators', 'model__n_jobs', 'model__num_parallel_tree', 'model__predictor', 'model__random_state', 'model__reg_alpha', 'model__reg_lambda', 'model__sampling_method', 'model__scale_pos_weight', 'model__subsample', 'model__tree_method', 'model__validate_parameters', 'model__verbosity'])"
      ]
     },
     "execution_count": 63,
     "metadata": {},
     "output_type": "execute_result"
    }
   ],
   "source": [
    "# Hyper-Parameters that can be optimised using GridSearch\n",
    "classifier.get_params().keys()"
   ]
  },
  {
   "cell_type": "code",
   "execution_count": 64,
   "id": "89136ed4",
   "metadata": {
    "_kg_hide-output": false,
    "execution": {
     "iopub.execute_input": "2022-10-08T20:04:54.277760Z",
     "iopub.status.busy": "2022-10-08T20:04:54.277031Z",
     "iopub.status.idle": "2022-10-08T20:06:44.703576Z",
     "shell.execute_reply": "2022-10-08T20:06:44.702633Z"
    },
    "papermill": {
     "duration": 110.455505,
     "end_time": "2022-10-08T20:06:44.706637",
     "exception": false,
     "start_time": "2022-10-08T20:04:54.251132",
     "status": "completed"
    },
    "tags": []
   },
   "outputs": [
    {
     "name": "stdout",
     "output_type": "stream",
     "text": [
      "Fitting 5 folds for each of 27 candidates, totalling 135 fits\n"
     ]
    }
   ],
   "source": [
    "param_grid = [\n",
    "    {        \n",
    "        \"model__learning_rate\": [0.05, 0.1, .2],\n",
    "        \"model__n_estimators\": [100, 200, 300],\n",
    "        \"model__max_depth\": [4, 5, 6]\n",
    "    }\n",
    "]\n",
    "grid_search = GridSearchCV(classifier, param_grid, cv=5, verbose=1)\n",
    "grid_search.fit(X, y);"
   ]
  },
  {
   "cell_type": "code",
   "execution_count": 65,
   "id": "b428a2dc",
   "metadata": {
    "execution": {
     "iopub.execute_input": "2022-10-08T20:06:44.765638Z",
     "iopub.status.busy": "2022-10-08T20:06:44.765197Z",
     "iopub.status.idle": "2022-10-08T20:06:44.790061Z",
     "shell.execute_reply": "2022-10-08T20:06:44.789067Z"
    },
    "papermill": {
     "duration": 0.057288,
     "end_time": "2022-10-08T20:06:44.792856",
     "exception": false,
     "start_time": "2022-10-08T20:06:44.735568",
     "status": "completed"
    },
    "tags": []
   },
   "outputs": [
    {
     "name": "stdout",
     "output_type": "stream",
     "text": [
      "Best params:\t{'model__learning_rate': 0.1, 'model__max_depth': 5, 'model__n_estimators': 200}\n",
      "Best score in grid search:\t0.834\n",
      "Score on whole trained data:\t0.853\n"
     ]
    }
   ],
   "source": [
    "print(\"Best params:\",grid_search.best_params_,sep='\\t')\n",
    "print(\"Best score in grid search:\",round(grid_search.best_score_,3),sep='\\t')\n",
    "print(\"Score on whole trained data:\",round(grid_search.score(X, y),3),sep='\\t')"
   ]
  },
  {
   "cell_type": "markdown",
   "id": "4761cf43",
   "metadata": {
    "papermill": {
     "duration": 0.02439,
     "end_time": "2022-10-08T20:06:44.846396",
     "exception": false,
     "start_time": "2022-10-08T20:06:44.822006",
     "status": "completed"
    },
    "tags": []
   },
   "source": [
    "## Confusion Matrix (for trained data)"
   ]
  },
  {
   "cell_type": "code",
   "execution_count": 66,
   "id": "8cf6c936",
   "metadata": {
    "execution": {
     "iopub.execute_input": "2022-10-08T20:06:44.898500Z",
     "iopub.status.busy": "2022-10-08T20:06:44.898103Z",
     "iopub.status.idle": "2022-10-08T20:06:44.923806Z",
     "shell.execute_reply": "2022-10-08T20:06:44.922964Z"
    },
    "papermill": {
     "duration": 0.054724,
     "end_time": "2022-10-08T20:06:44.926683",
     "exception": false,
     "start_time": "2022-10-08T20:06:44.871959",
     "status": "completed"
    },
    "tags": []
   },
   "outputs": [
    {
     "name": "stdout",
     "output_type": "stream",
     "text": [
      "[[510  39]\n",
      " [ 92 250]]\n"
     ]
    },
    {
     "data": {
      "text/plain": [
       "0.853"
      ]
     },
     "execution_count": 66,
     "metadata": {},
     "output_type": "execute_result"
    }
   ],
   "source": [
    "y_pred = grid_search.predict(X)\n",
    "cm = confusion_matrix(y, y_pred)\n",
    "print(cm)\n",
    "round(accuracy_score(y, y_pred),3)"
   ]
  },
  {
   "cell_type": "markdown",
   "id": "dde0ffbf",
   "metadata": {
    "papermill": {
     "duration": 0.024638,
     "end_time": "2022-10-08T20:06:44.976916",
     "exception": false,
     "start_time": "2022-10-08T20:06:44.952278",
     "status": "completed"
    },
    "tags": []
   },
   "source": [
    "## Classification Report"
   ]
  },
  {
   "cell_type": "code",
   "execution_count": 67,
   "id": "0b4f7fa1",
   "metadata": {
    "execution": {
     "iopub.execute_input": "2022-10-08T20:06:45.030083Z",
     "iopub.status.busy": "2022-10-08T20:06:45.029000Z",
     "iopub.status.idle": "2022-10-08T20:06:45.041760Z",
     "shell.execute_reply": "2022-10-08T20:06:45.040574Z"
    },
    "papermill": {
     "duration": 0.041227,
     "end_time": "2022-10-08T20:06:45.044018",
     "exception": false,
     "start_time": "2022-10-08T20:06:45.002791",
     "status": "completed"
    },
    "tags": []
   },
   "outputs": [
    {
     "name": "stdout",
     "output_type": "stream",
     "text": [
      "              precision    recall  f1-score   support\n",
      "\n",
      "           0       0.85      0.93      0.89       549\n",
      "           1       0.87      0.73      0.79       342\n",
      "\n",
      "    accuracy                           0.85       891\n",
      "   macro avg       0.86      0.83      0.84       891\n",
      "weighted avg       0.85      0.85      0.85       891\n",
      "\n"
     ]
    }
   ],
   "source": [
    "print(classification_report(y, y_pred))"
   ]
  },
  {
   "cell_type": "markdown",
   "id": "b2625b38",
   "metadata": {
    "papermill": {
     "duration": 0.024472,
     "end_time": "2022-10-08T20:06:45.092994",
     "exception": false,
     "start_time": "2022-10-08T20:06:45.068522",
     "status": "completed"
    },
    "tags": []
   },
   "source": [
    "# 9) Predicting y"
   ]
  },
  {
   "cell_type": "code",
   "execution_count": 68,
   "id": "bdbff846",
   "metadata": {
    "execution": {
     "iopub.execute_input": "2022-10-08T20:06:45.143990Z",
     "iopub.status.busy": "2022-10-08T20:06:45.143149Z",
     "iopub.status.idle": "2022-10-08T20:06:45.174269Z",
     "shell.execute_reply": "2022-10-08T20:06:45.172705Z"
    },
    "papermill": {
     "duration": 0.060158,
     "end_time": "2022-10-08T20:06:45.177543",
     "exception": false,
     "start_time": "2022-10-08T20:06:45.117385",
     "status": "completed"
    },
    "tags": []
   },
   "outputs": [],
   "source": [
    "# Generate test predictions\n",
    "preds_test = grid_search.predict(X_test)"
   ]
  },
  {
   "cell_type": "code",
   "execution_count": 69,
   "id": "32d204af",
   "metadata": {
    "execution": {
     "iopub.execute_input": "2022-10-08T20:06:45.232574Z",
     "iopub.status.busy": "2022-10-08T20:06:45.231431Z",
     "iopub.status.idle": "2022-10-08T20:06:45.241415Z",
     "shell.execute_reply": "2022-10-08T20:06:45.240380Z"
    },
    "papermill": {
     "duration": 0.038438,
     "end_time": "2022-10-08T20:06:45.243966",
     "exception": false,
     "start_time": "2022-10-08T20:06:45.205528",
     "status": "completed"
    },
    "tags": []
   },
   "outputs": [],
   "source": [
    "# Save output to CSV file\n",
    "output = pd.DataFrame({'PassengerId': X_test.index,\n",
    "                       'Survived': preds_test})\n",
    "output.to_csv('submission.csv', index=False)"
   ]
  },
  {
   "cell_type": "code",
   "execution_count": 70,
   "id": "d150037b",
   "metadata": {
    "execution": {
     "iopub.execute_input": "2022-10-08T20:06:45.297124Z",
     "iopub.status.busy": "2022-10-08T20:06:45.295739Z",
     "iopub.status.idle": "2022-10-08T20:06:45.308767Z",
     "shell.execute_reply": "2022-10-08T20:06:45.307569Z"
    },
    "papermill": {
     "duration": 0.041411,
     "end_time": "2022-10-08T20:06:45.311103",
     "exception": false,
     "start_time": "2022-10-08T20:06:45.269692",
     "status": "completed"
    },
    "tags": []
   },
   "outputs": [
    {
     "data": {
      "text/html": [
       "<div>\n",
       "<style scoped>\n",
       "    .dataframe tbody tr th:only-of-type {\n",
       "        vertical-align: middle;\n",
       "    }\n",
       "\n",
       "    .dataframe tbody tr th {\n",
       "        vertical-align: top;\n",
       "    }\n",
       "\n",
       "    .dataframe thead th {\n",
       "        text-align: right;\n",
       "    }\n",
       "</style>\n",
       "<table border=\"1\" class=\"dataframe\">\n",
       "  <thead>\n",
       "    <tr style=\"text-align: right;\">\n",
       "      <th></th>\n",
       "      <th>PassengerId</th>\n",
       "      <th>Survived</th>\n",
       "    </tr>\n",
       "  </thead>\n",
       "  <tbody>\n",
       "    <tr>\n",
       "      <th>0</th>\n",
       "      <td>892</td>\n",
       "      <td>0</td>\n",
       "    </tr>\n",
       "    <tr>\n",
       "      <th>1</th>\n",
       "      <td>893</td>\n",
       "      <td>0</td>\n",
       "    </tr>\n",
       "  </tbody>\n",
       "</table>\n",
       "</div>"
      ],
      "text/plain": [
       "   PassengerId  Survived\n",
       "0          892         0\n",
       "1          893         0"
      ]
     },
     "execution_count": 70,
     "metadata": {},
     "output_type": "execute_result"
    }
   ],
   "source": [
    "# Submit results\n",
    "submission_data = pd.read_csv(\"submission.csv\")\n",
    "submission_data.head(2)"
   ]
  }
 ],
 "metadata": {
  "kernelspec": {
   "display_name": "Python 3",
   "language": "python",
   "name": "python3"
  },
  "language_info": {
   "codemirror_mode": {
    "name": "ipython",
    "version": 3
   },
   "file_extension": ".py",
   "mimetype": "text/x-python",
   "name": "python",
   "nbconvert_exporter": "python",
   "pygments_lexer": "ipython3",
   "version": "3.7.12"
  },
  "papermill": {
   "default_parameters": {},
   "duration": 127.915906,
   "end_time": "2022-10-08T20:06:46.157846",
   "environment_variables": {},
   "exception": null,
   "input_path": "__notebook__.ipynb",
   "output_path": "__notebook__.ipynb",
   "parameters": {},
   "start_time": "2022-10-08T20:04:38.241940",
   "version": "2.3.4"
  }
 },
 "nbformat": 4,
 "nbformat_minor": 5
}
